{
 "cells": [
  {
   "cell_type": "code",
   "execution_count": 2,
   "id": "2498ccb7",
   "metadata": {},
   "outputs": [],
   "source": [
    "deployment = \"gpt4\"\n",
    "model = \"gpt-4\""
   ]
  },
  {
   "cell_type": "markdown",
   "id": "a77bb728",
   "metadata": {},
   "source": [
    "# LLM辅助设计"
   ]
  },
  {
   "cell_type": "code",
   "execution_count": 13,
   "id": "2a010569",
   "metadata": {},
   "outputs": [
    {
     "name": "stdout",
     "output_type": "stream",
     "text": [
      "Here's a simple example of a Twitter-like system represented in PlantUML script. \n",
      "\n",
      "For the sake of simplicity, let's focus on three main objects: User, Tweet, and Follower (i.e., the relationship of a user following another user).\n",
      "    \n",
      "```plantuml\n",
      "@startuml TwitterSystem\n",
      "\n",
      "class User {\n",
      "  +userId: Integer\n",
      "  +username: String\n",
      "  +email: String\n",
      "  +password: String\n",
      "  +createAccount(): Void\n",
      "  +login(): Void\n",
      "  +logout(): Void\n",
      "}\n",
      "\n",
      "class Tweet {\n",
      "  +tweetId: Integer\n",
      "  +userId: Integer\n",
      "  +text: String\n",
      "  +timestamp: DateTime\n",
      "  +postTweet(): Void\n",
      "}\n",
      "\n",
      "class Follower {\n",
      "  +followerId: Integer\n",
      "  +followeeId: Integer\n",
      "  +followUser(): Void\n",
      "  +unfollowUser(): Void\n",
      "}\n",
      "\n",
      "User \"1\" -- \"many\" Tweet : posts >\n",
      "User \"many\" -- \"many\" User : follows\n",
      "note \"The 'follows' relationship is \\nrepresented by the Follower class.\" as N1\n",
      "\n",
      "@enduml\n",
      "```\n",
      "\n",
      "In our model:\n",
      "\n",
      "1. A `User` has a one-to-many relationship with `Tweet`, meaning a user can create many tweets.\n",
      "\n",
      "2. A `User` has a many-to-many relationship with another `User` through the `Follower` class, representing the follow-unfollow functionality of Twitter.\n",
      "\n",
      "Each class has its own attributes and methods. Please note this is a very simplified version and real-world applications would have much more complex designs with more classes and relationships, like Retweet, Like, DirectMessage, etc.\n"
     ]
    }
   ],
   "source": [
    "import openai\n",
    "response = openai.ChatCompletion.create(\n",
    "    engine=deployment, # engine = \"deployment_name\".\n",
    "    messages=[\n",
    "        {\"role\": \"system\", \"content\": \"You are a senior software engineer.\"},   \n",
    "        {\"role\": \"user\", \"content\": \"\"\"\n",
    "          Design a twitter like system, represent the business domain model with PlantUML script\n",
    "          \"\"\"}\n",
    "    ],\n",
    "    temperature = 0.9, \n",
    "    max_tokens = 500\n",
    "  )\n",
    "print(response.choices[0].message.content)\n",
    "# http://www.plantuml.com/plantuml"
   ]
  },
  {
   "cell_type": "code",
   "execution_count": 2,
   "id": "7e8c121f",
   "metadata": {},
   "outputs": [
    {
     "name": "stdout",
     "output_type": "stream",
     "text": [
      "A PlantUML script for a simplified Facebook-like system, focusing on the interaction between User, Profile, Post, and Comment, might look like the following:\n",
      "\n",
      "```\n",
      "@startuml\n",
      "\n",
      "title Facebook-like System \n",
      "\n",
      "actor User\n",
      "\n",
      "box \"User Features\" #LightSkyBlue\n",
      "  participant Profile\n",
      "  participant Post\n",
      "  participant Comment  \n",
      "end box\n",
      "\n",
      "User -> Profile: VisitProfile()\n",
      "activate Profile\n",
      "\n",
      "Profile -> User: SendProfileData()\n",
      "activate User\n",
      "\n",
      "User -> Post: ViewPosts()\n",
      "activate Post\n",
      "\n",
      "User <-- Post: SendPostsData()\n",
      "\n",
      "User -> Comment: ViewComments()\n",
      "activate Comment\n",
      "\n",
      "User <-- Comment: SendCommentsData()\n",
      "\n",
      "User -> Post: CreateNewPost(text)\n",
      "activate Post\n",
      "\n",
      "User <-- Post: ConfirmPostCreated()\n",
      "\n",
      "User -> Comment: CreateNewComment(text)\n",
      "activate Comment\n",
      "\n",
      "User <-- Comment: ConfirmCommentCreated()\n",
      "\n",
      "User -> Profile: LogoutProfile()\n",
      "activate Profile\n",
      "\n",
      "Profile -> User: ConfirmLoggedOut()\n",
      "activate User\n",
      "\n",
      "deactivate User\n",
      "deactivate Profile\n",
      "deactivate Post\n",
      "deactivate Comment\n",
      "\n",
      "@enduml\n",
      "```\n",
      "\n",
      "Here are the interactions:\n",
      "- A User visits a Profile. \n",
      "- The Profile sends back the profile data.\n",
      "- The User views Posts associated with the Profile.\n",
      "- The Post sends back the post data.\n",
      "- The User views Comments associated with each Post.\n",
      "- The Comment sends back the comment data.\n",
      "- The User creates a new Post.\n",
      "- Post confirms the creation.\n",
      "- The User creates a new Comment on the Post.\n",
      "- Comment confirms the creation.\n",
      "- User logs out from the Profile.\n",
      "- Profile confirms the logout process.\n",
      "\n",
      "This representation is quite simplified. In a real-world scenario, you would likely have additional objects and interactions, possibly involving things like User Authentication, Image Uploads, Notifications, Privacy Settings, etc.\n"
     ]
    }
   ],
   "source": [
    "import openai\n",
    "response = openai.ChatCompletion.create(\n",
    "    engine=deployment, # engine = \"deployment_name\".\n",
    "    messages=[\n",
    "        {\"role\": \"system\", \"content\": \"You are a senior software engineer.\"},   \n",
    "        {\"role\": \"user\", \"content\": \"\"\"\n",
    "          Design a facebook like system, represent the interactions by UML sequence diagram with PlantUML script\n",
    "          \"\"\"}\n",
    "    ],\n",
    "    temperature = 0.9, \n",
    "    max_tokens = 500\n",
    "  )\n",
    "print(response.choices[0].message.content)"
   ]
  },
  {
   "cell_type": "code",
   "execution_count": 32,
   "id": "e6bc8355",
   "metadata": {},
   "outputs": [
    {
     "name": "stdout",
     "output_type": "stream",
     "text": [
      "Running on local URL:  http://127.0.0.1:7860\n",
      "\n",
      "To create a public link, set `share=True` in `launch()`.\n"
     ]
    },
    {
     "data": {
      "text/html": [
       "<div><iframe src=\"http://127.0.0.1:7860/\" width=\"100%\" height=\"500\" allow=\"autoplay; camera; microphone; clipboard-read; clipboard-write;\" frameborder=\"0\" allowfullscreen></iframe></div>"
      ],
      "text/plain": [
       "<IPython.core.display.HTML object>"
      ]
     },
     "metadata": {},
     "output_type": "display_data"
    },
    {
     "data": {
      "text/plain": []
     },
     "execution_count": 32,
     "metadata": {},
     "output_type": "execute_result"
    },
    {
     "name": "stdout",
     "output_type": "stream",
     "text": [
      "------------\n",
      "{'history': ''}\n",
      "------------\n",
      "------------\n",
      "{'history': 'Human: 生成一个观察者模式类图，用plantUML script表示\\nAI: 很抱歉，我无法直接生成PlantUML脚本，但我可以为你描述一个观察者模式的类图的基本结构。在观察者模式中，我们通常有以下几个主要的类：\\n\\n1. Subject: 这是被观察的对象。它通常有方法来添加和删除观察者，并有一个方法来通知所有的观察者。\\n\\n2. Observer: 这是观察者接口。它通常有一个更新方法，当Subject的状态改变时，这个方法会被调用。\\n\\n3. ConcreteSubject: 这是实现了Subject接口的具体类。当它的状态改变时，它会通知所有的观察者。\\n\\n4. ConcreteObserver: 这是实现了Observer接口的具体类。当它接收到通知时，它会更新自己的状态。\\n\\n在PlantUML中，你可以用以下的方式来表示这个类图：\\n\\n```\\n@startuml\\ninterface Subject {\\n  + registerObserver(Observer)\\n  + removeObserver(Observer)\\n  + notifyObservers()\\n}\\n\\ninterface Observer {\\n  + update()\\n}\\n\\nclass ConcreteSubject {\\n  - observers : List<Observer>\\n  - state : State\\n  + getState() : State\\n  + setState(State)\\n}\\n\\nclass ConcreteObserver {\\n  - subject : Subject\\n  - state : State\\n  + update()\\n}\\n\\nSubject <|.. ConcreteSubject\\nObserver <|.. ConcreteObserver\\nConcreteSubject o-- ConcreteObserver\\n@enduml\\n```\\n\\n在这个脚本中，箭头表示的是继承关系，而\"o--\"表示的是聚合关系。ConcreteSubject有一个Observer的列表，这就是为什么它与ConcreteObserver有一个聚合关系。'}\n",
      "------------\n"
     ]
    }
   ],
   "source": [
    "from langchain.chat_models import AzureChatOpenAI\n",
    "from langchain.memory import ConversationBufferWindowMemory\n",
    "from langchain.chains import ConversationChain\n",
    "\n",
    "llm = AzureChatOpenAI(deployment_name=deployment, temperature=0.3, max_tokens=1000,\n",
    "                     streaming=True)\n",
    "\n",
    "memory = ConversationBufferWindowMemory(k=10) \n",
    "\n",
    "\n",
    "def get_response(input):\n",
    "    conversation_with_memory = ConversationChain(\n",
    "        llm=llm, \n",
    "        memory=memory,\n",
    "        verbose=False\n",
    "    )\n",
    "    return conversation_with_memory.predict(input=input)\n",
    "\n",
    "import gradio as gr\n",
    "def respond(message, chat_history):\n",
    "    bot_message = get_response(message)\n",
    "    chat_history.append((message, bot_message))\n",
    "    return \"\", chat_history\n",
    "\n",
    "with gr.Blocks() as demo:\n",
    "    chatbot = gr.Chatbot(height=300) #just to fit the notebook\n",
    "    msg = gr.Textbox(label=\"Prompt\")\n",
    "    btn = gr.Button(\"Submit\")\n",
    "    clear = gr.ClearButton(components=[msg, chatbot], value=\"Clear console\")\n",
    "\n",
    "    btn.click(respond, inputs=[msg, chatbot], outputs=[msg, chatbot])\n",
    "    msg.submit(respond, inputs=[msg, chatbot], outputs=[msg, chatbot]) #Press enter to submit\n",
    "gr.close_all()\n",
    "demo.launch()\n",
    "\n",
    "#生成一个观察者模式类图，用plantUML script表示\n",
    "#根据上面的UML生成Java代码"
   ]
  },
  {
   "cell_type": "markdown",
   "id": "0d969ddb",
   "metadata": {},
   "source": [
    "# LLM生成代码"
   ]
  },
  {
   "cell_type": "code",
   "execution_count": 14,
   "id": "0199eabf",
   "metadata": {},
   "outputs": [],
   "source": [
    "from abc import ABC, abstractmethod\n",
    "\n",
    "class TokenCreator(ABC):\n",
    "    @abstractmethod\n",
    "    # create the token with uuid\n",
    "    def create_token(self, input)->str:\n",
    "        pass\n",
    "\n"
   ]
  },
  {
   "cell_type": "code",
   "execution_count": 30,
   "id": "07df4033",
   "metadata": {},
   "outputs": [],
   "source": [
    "import openai\n",
    "def work_on(input):\n",
    "    response = openai.ChatCompletion.create(\n",
    "        engine=deployment, # engine = \"deployment_name\".\n",
    "        messages=[\n",
    "            {\"role\": \"system\", \"content\": \"You are a senior software engineer.\"},   \n",
    "            {\"role\": \"user\", \"content\": input}\n",
    "        ],\n",
    "        temperature = 0.9, \n",
    "        max_tokens = 500\n",
    "      )\n",
    "    return response.choices[0].message.content"
   ]
  },
  {
   "cell_type": "code",
   "execution_count": 5,
   "id": "49cbb14a",
   "metadata": {},
   "outputs": [],
   "source": [
    "interface_def = \"\"\"\n",
    "from abc import ABC, abstractmethod\n",
    "\n",
    "class TokenCreator(ABC):\n",
    "    @abstractmethod\n",
    "    # create the token with uuid + input\n",
    "    def create_token(self, input)->str:\n",
    "        pass\n",
    "\"\"\""
   ]
  },
  {
   "cell_type": "code",
   "execution_count": 7,
   "id": "1d52a5b7",
   "metadata": {},
   "outputs": [
    {
     "name": "stdout",
     "output_type": "stream",
     "text": [
      "Sure, here is an implementation of this abstract class. I will use the built-in `uuid` library to generate a unique identifier for the token. The `uuid4()` function generates a random UUID. \n",
      "\n",
      "```python\n",
      "import uuid\n",
      "from abc import ABC, abstractmethod\n",
      "\n",
      "class TokenCreator(ABC):\n",
      "    @abstractmethod\n",
      "    def create_token(self, input)->str:\n",
      "        pass\n",
      "\n",
      "class MyTokenCreator(TokenCreator):\n",
      "    def create_token(self, input)->str:\n",
      "        return str(uuid.uuid4()) + input\n",
      "```\n",
      "\n",
      "In the code above, MyTokenCreator is a concrete class which means it provides an implementation of the abstract methods in the superclass. It uses uuid and the input string to create a token. Note that the `uuid.uuid4()` generates a random UUID and we convert it to a string before concatenating with the input string.\n",
      "\n"
     ]
    }
   ],
   "source": [
    "print(work_on(\"Implement the following abstract class. \\n --- \\n\"+ interface_def))\n"
   ]
  },
  {
   "cell_type": "code",
   "execution_count": 14,
   "id": "585c167c",
   "metadata": {},
   "outputs": [
    {
     "name": "stdout",
     "output_type": "stream",
     "text": [
      "fae2640e-cdb5-4966-a2e0-e3e172169f88Hello\n"
     ]
    }
   ],
   "source": [
    "from abc import ABC, abstractmethod\n",
    "import uuid\n",
    "\n",
    "class TokenCreator(ABC):\n",
    "    @abstractmethod\n",
    "    def create_token(self, input)->str:\n",
    "        pass\n",
    "\n",
    "\n",
    "class MyTokenCreator(TokenCreator):\n",
    "    def create_token(self, input)->str:\n",
    "        return str(uuid.uuid4()) + input\n",
    "    \n",
    "mtc = MyTokenCreator()\n",
    "print(mtc.create_token(\"Hello\"))"
   ]
  },
  {
   "cell_type": "markdown",
   "id": "782ca7af",
   "metadata": {},
   "source": [
    "# 生成单元测试"
   ]
  },
  {
   "cell_type": "code",
   "execution_count": 10,
   "id": "e91dbbf3",
   "metadata": {},
   "outputs": [
    {
     "name": "stdout",
     "output_type": "stream",
     "text": [
      "Sure, please find the unit test for the `MyTokenCreator` class. But, I noticed from the provided code snippet that `MyTokenCreator` class definition does not exist yet. Therefore, I assume this class is a subclass of `TokenCreator` and uses `create_token` method.\n",
      "\n",
      "The unit test code below is written under the assumption that `MyTokenCreator` generates a token as a combination of a _UUID_ (`uuid4`) and the provided `input`. \n",
      "\n",
      "```python\n",
      "import unittest\n",
      "import uuid\n",
      "from unittest.mock import patch, Mock\n",
      "\n",
      "class TestMyTokenCreator(unittest.TestCase):\n",
      "    def setUp(self):\n",
      "        self.my_token_creator = MyTokenCreator()\n",
      "\n",
      "    @patch('uuid.uuid4')\n",
      "    def test_create_token(self, mock_uuid):\n",
      "        mock_uuid.return_value = uuid.UUID('12345678123456781234567812345678')\n",
      "        input = 'test'\n",
      "        expected_token = '12345678-1234-5678-1234-567812345678test'\n",
      "        result = self.my_token_creator.create_token(input)\n",
      "        self.assertEqual(result, expected_token)\n",
      "\n",
      "if __name__ == '__main__':\n",
      "    unittest.main()\n",
      "```\n",
      "\n",
      "This code leverages the python `unittest` module to create the test case. The `setUp` method is part of the test initialization. `@patch` is used to mock the UUID creation, ensuring that we can predict the output and write deterministic tests. If the class `MyTokenCreator` and `create_token` method implementation are different, the test might need some modifications to reflect the actual behavior of the code.\n"
     ]
    }
   ],
   "source": [
    "prog = \"\"\"\n",
    "from abc import ABC, abstractmethod\n",
    "import uuid\n",
    "\n",
    "class TokenCreator(ABC):\n",
    "    @abstractmethod\n",
    "    def create_token(self, input)->str:\n",
    "        pass\n",
    "\n",
    "\n",
    "class MyTokenCreator(TokenCreator):\n",
    "    def create_token(self, input)->str:\n",
    "        return str(uuid.uuid4()) + input\n",
    "\"\"\"\n",
    "\n",
    "\n",
    "print(work_on(\"Write the unit test for the class MyTokenCreator in the following code: \\n --- \\n\"+ interface_def))"
   ]
  },
  {
   "cell_type": "code",
   "execution_count": 19,
   "id": "358df5cd",
   "metadata": {},
   "outputs": [
    {
     "name": "stderr",
     "output_type": "stream",
     "text": [
      ".\n",
      "----------------------------------------------------------------------\n",
      "Ran 1 test in 0.002s\n",
      "\n",
      "OK\n"
     ]
    },
    {
     "data": {
      "text/plain": [
       "<unittest.main.TestProgram at 0x1084b17c0>"
      ]
     },
     "execution_count": 19,
     "metadata": {},
     "output_type": "execute_result"
    }
   ],
   "source": [
    "import unittest\n",
    "import uuid\n",
    "from unittest.mock import patch, Mock\n",
    "\n",
    "class TestMyTokenCreator(unittest.TestCase):\n",
    "    def setUp(self):\n",
    "        self.my_token_creator = MyTokenCreator()\n",
    "\n",
    "    @patch('uuid.uuid4')\n",
    "    def test_create_token(self, mock_uuid):\n",
    "        mock_uuid.return_value = uuid.UUID('12345678123456781234567812345678')\n",
    "        input = 'test'\n",
    "        expected_token = '12345678-1234-5678-1234-567812345678test'\n",
    "        result = self.my_token_creator.create_token(input)\n",
    "        self.assertEqual(result, expected_token)\n",
    "\n",
    "#if __name__ == '__main__':\n",
    "#    unittest.main()\n",
    "\n",
    "unittest.main(argv=['first-arg-is-ignored'], exit=False)"
   ]
  },
  {
   "cell_type": "markdown",
   "id": "e647f4d7",
   "metadata": {},
   "source": [
    "# 代码理解"
   ]
  },
  {
   "cell_type": "code",
   "execution_count": 25,
   "id": "63a25caf",
   "metadata": {},
   "outputs": [
    {
     "name": "stdout",
     "output_type": "stream",
     "text": [
      "这是一个基本的Python函数，使用了requests和BeautifulSoup库来解析网页并获取其文本内容。如果您尚未安装这些库，可以使用pip install requests和pip install beautifulsoup4来安装。\n",
      "\n",
      "```python\n",
      "import requests\n",
      "from bs4 import BeautifulSoup\n",
      "\n",
      "def get_text_from_url(url):\n",
      "    try:\n",
      "        # 发送GET请求获取网页内容\n",
      "        response = requests.get(url)\n",
      "        # 使用BeautifulSoup解析网页内容\n",
      "        soup = BeautifulSoup(response.text, 'html.parser')\n",
      "        \n",
      "        # 获取网页中的所有文本内容\n",
      "        text = soup.get_text()\n",
      "        \n",
      "        # 返回文本内容\n",
      "        return text\n",
      "    except requests.exceptions.RequestException as e:\n",
      "        # 打印错误信息并返回None\n",
      "        print(e)\n",
      "        return None\n",
      "```\n",
      "\n",
      "使用方法为：\n",
      "\n",
      "```python\n",
      "text = get_text_from_url('http://example.com')\n",
      "print(text)\n",
      "```\n",
      "\n",
      "这只是一个基本的例子，实际的网页可能需要更复杂的处理，例如处理JavaScript生成的内容，处理表格和图片等。对于这些更复杂的情况，可能需要使用更强大的库，如Selenium。\n"
     ]
    }
   ],
   "source": [
    "prompt = \"\"\"\n",
    "编写一个Python函数，输入为一个网页地址，输出该页面上的文字内容。\n",
    "\"\"\"\n",
    "\n",
    "print(work_on(prompt))"
   ]
  },
  {
   "cell_type": "code",
   "execution_count": 27,
   "id": "316109f5",
   "metadata": {},
   "outputs": [],
   "source": [
    "import requests\n",
    "from bs4 import BeautifulSoup\n",
    "\n",
    "def get_text_from_url(url):\n",
    "    try:\n",
    "        # 发送GET请求获取网页内容\n",
    "        response = requests.get(url)\n",
    "        # 使用BeautifulSoup解析网页内容\n",
    "        soup = BeautifulSoup(response.text, 'html.parser')\n",
    "        \n",
    "        # 获取网页中的所有文本内容\n",
    "        text = soup.get_text()\n",
    "        \n",
    "        # 返回文本内容\n",
    "        return text\n",
    "    except requests.exceptions.RequestException as e:\n",
    "        # 打印错误信息并返回None\n",
    "        print(e)\n",
    "        return None"
   ]
  },
  {
   "cell_type": "code",
   "execution_count": 28,
   "id": "0b61a480",
   "metadata": {},
   "outputs": [
    {
     "name": "stdout",
     "output_type": "stream",
     "text": [
      "\"\"\"An agent designed to hold a conversation in addition to using tools.\"\"\"\n",
      "from __future__ import annotations\n",
      "\n",
      "from typing import Any, List, Optional, Sequence\n",
      "\n",
      "from langchain.agents.agent import Agent, AgentOutputParser\n",
      "from langchain.agents.agent_types import AgentType\n",
      "from langchain.agents.conversational.output_parser import ConvoOutputParser\n",
      "from langchain.agents.conversational.prompt import FORMAT_INSTRUCTIONS, PREFIX, SUFFIX\n",
      "from langchain.agents.utils import validate_tools_single_input\n",
      "from langchain.callbacks.base import BaseCallbackManager\n",
      "from langchain.chains import LLMChain\n",
      "from langchain.prompts import PromptTemplate\n",
      "from langchain.pydantic_v1 import Field\n",
      "from langchain.schema.language_model import BaseLanguageModel\n",
      "from langchain.tools.base import BaseTool\n",
      "\n",
      "\n",
      "class ConversationalAgent(Agent):\n",
      "    \"\"\"An agent that holds a conversation in addition to using tools.\"\"\"\n",
      "\n",
      "    ai_prefix: str = \"AI\"\n",
      "    \"\"\"Prefix to use before AI output.\"\"\"\n",
      "    output_parser: AgentOutputParser = Field(default_factory=ConvoOutputParser)\n",
      "    \"\"\"Output parser for the agent.\"\"\"\n",
      "\n",
      "    @classmethod\n",
      "    def _get_default_output_parser(\n",
      "        cls, ai_prefix: str = \"AI\", **kwargs: Any\n",
      "    ) -> AgentOutputParser:\n",
      "        return ConvoOutputParser(ai_prefix=ai_prefix)\n",
      "\n",
      "    @property\n",
      "    def _agent_type(self) -> str:\n",
      "        \"\"\"Return Identifier of agent type.\"\"\"\n",
      "        return AgentType.CONVERSATIONAL_REACT_DESCRIPTION\n",
      "\n",
      "    @property\n",
      "    def observation_prefix(self) -> str:\n",
      "        \"\"\"Prefix to append the observation with.\"\"\"\n",
      "        return \"Observation: \"\n",
      "\n",
      "    @property\n",
      "    def llm_prefix(self) -> str:\n",
      "        \"\"\"Prefix to append the llm call with.\"\"\"\n",
      "        return \"Thought:\"\n",
      "\n",
      "    @classmethod\n",
      "    def create_prompt(\n",
      "        cls,\n",
      "        tools: Sequence[BaseTool],\n",
      "        prefix: str = PREFIX,\n",
      "        suffix: str = SUFFIX,\n",
      "        format_instructions: str = FORMAT_INSTRUCTIONS,\n",
      "        ai_prefix: str = \"AI\",\n",
      "        human_prefix: str = \"Human\",\n",
      "        input_variables: Optional[List[str]] = None,\n",
      "    ) -> PromptTemplate:\n",
      "        \"\"\"Create prompt in the style of the zero-shot agent.\n",
      "\n",
      "        Args:\n",
      "            tools: List of tools the agent will have access to, used to format the\n",
      "                prompt.\n",
      "            prefix: String to put before the list of tools.\n",
      "            suffix: String to put after the list of tools.\n",
      "            ai_prefix: String to use before AI output.\n",
      "            human_prefix: String to use before human output.\n",
      "            input_variables: List of input variables the final prompt will expect.\n",
      "\n",
      "        Returns:\n",
      "            A PromptTemplate with the template assembled from the pieces here.\n",
      "        \"\"\"\n",
      "        tool_strings = \"\\n\".join(\n",
      "            [f\"> {tool.name}: {tool.description}\" for tool in tools]\n",
      "        )\n",
      "        tool_names = \", \".join([tool.name for tool in tools])\n",
      "        format_instructions = format_instructions.format(\n",
      "            tool_names=tool_names, ai_prefix=ai_prefix, human_prefix=human_prefix\n",
      "        )\n",
      "        template = \"\\n\\n\".join([prefix, tool_strings, format_instructions, suffix])\n",
      "        if input_variables is None:\n",
      "            input_variables = [\"input\", \"chat_history\", \"agent_scratchpad\"]\n",
      "        return PromptTemplate(template=template, input_variables=input_variables)\n",
      "\n",
      "    @classmethod\n",
      "    def _validate_tools(cls, tools: Sequence[BaseTool]) -> None:\n",
      "        super()._validate_tools(tools)\n",
      "        validate_tools_single_input(cls.__name__, tools)\n",
      "\n",
      "    @classmethod\n",
      "    def from_llm_and_tools(\n",
      "        cls,\n",
      "        llm: BaseLanguageModel,\n",
      "        tools: Sequence[BaseTool],\n",
      "        callback_manager: Optional[BaseCallbackManager] = None,\n",
      "        output_parser: Optional[AgentOutputParser] = None,\n",
      "        prefix: str = PREFIX,\n",
      "        suffix: str = SUFFIX,\n",
      "        format_instructions: str = FORMAT_INSTRUCTIONS,\n",
      "        ai_prefix: str = \"AI\",\n",
      "        human_prefix: str = \"Human\",\n",
      "        input_variables: Optional[List[str]] = None,\n",
      "        **kwargs: Any,\n",
      "    ) -> Agent:\n",
      "        \"\"\"Construct an agent from an LLM and tools.\"\"\"\n",
      "        cls._validate_tools(tools)\n",
      "        prompt = cls.create_prompt(\n",
      "            tools,\n",
      "            ai_prefix=ai_prefix,\n",
      "            human_prefix=human_prefix,\n",
      "            prefix=prefix,\n",
      "            suffix=suffix,\n",
      "            format_instructions=format_instructions,\n",
      "            input_variables=input_variables,\n",
      "        )\n",
      "        llm_chain = LLMChain(\n",
      "            llm=llm,\n",
      "            prompt=prompt,\n",
      "            callback_manager=callback_manager,\n",
      "        )\n",
      "        tool_names = [tool.name for tool in tools]\n",
      "        _output_parser = output_parser or cls._get_default_output_parser(\n",
      "            ai_prefix=ai_prefix\n",
      "        )\n",
      "        return cls(\n",
      "            llm_chain=llm_chain,\n",
      "            allowed_tools=tool_names,\n",
      "            ai_prefix=ai_prefix,\n",
      "            output_parser=_output_parser,\n",
      "            **kwargs,\n",
      "        )\n",
      "\n"
     ]
    }
   ],
   "source": [
    "print(get_text_from_url(\"https://raw.githubusercontent.com/langchain-ai/langchain/master/libs/langchain/langchain/agents/conversational/base.py\"))"
   ]
  },
  {
   "cell_type": "code",
   "execution_count": 31,
   "id": "afd0c2dc",
   "metadata": {},
   "outputs": [
    {
     "name": "stdout",
     "output_type": "stream",
     "text": [
      "这个程序由python编写，其主要组件是ConversationalAgent类，这个类主要负责进行人工智能对话以及使用相关工具。该类继承了Agent类，并对其进行了扩展。\n",
      "\n",
      "以下是该类的主要方法：\n",
      "\n",
      "- `_get_default_output_parser`：这个方法获取默认的输出分析器，可以通过输入AI的前缀来修改默认的前缀。\n",
      "\n",
      "- `_agent_type`：这个属性返回agent的类型。\n",
      "\n",
      "- `create_prompt`：这个方法创建了一个适应于zero-shot agent的提示。它以一组工具列表为输入，并使用一些前缀、后缀、人类前缀、AI前缀等来创建一个合适的提示。\n",
      "\n",
      "- `_validate_tools`：该方法验证工具列表，确保其满足特定的输入约束。\n",
      "\n",
      "- `from_llm_and_tools`：这个方法从一个语言模型和工具中构造一个agent。这包括创建提示、验证工具列表、创建LLM链（这是一种将语言模型和提示结合在一起的方式），以及设置默认的输出分析器。\n",
      "\n",
      "此外，该程序还定义了一些属性，如ai_prefix（定义AI输出前的标记），output_parser（定义agent的输出解析器）等。\n",
      "\n",
      "总的来说，该类主要实现了在对话中使用工具的AI agent，通过组合调度语言模型，创建合适的提示，并使用合适的工具来生成响应。\n"
     ]
    }
   ],
   "source": [
    "code = get_text_from_url(\"https://raw.githubusercontent.com/langchain-ai/langchain/master/libs/langchain/langchain/agents/conversational/base.py\")\n",
    "print(work_on(\"分析下面的程序：\\n ---- \\n\"+ code))"
   ]
  },
  {
   "cell_type": "code",
   "execution_count": null,
   "id": "c7de5b7b",
   "metadata": {},
   "outputs": [],
   "source": []
  }
 ],
 "metadata": {
  "kernelspec": {
   "display_name": "Python 3 (ipykernel)",
   "language": "python",
   "name": "python3"
  },
  "language_info": {
   "codemirror_mode": {
    "name": "ipython",
    "version": 3
   },
   "file_extension": ".py",
   "mimetype": "text/x-python",
   "name": "python",
   "nbconvert_exporter": "python",
   "pygments_lexer": "ipython3",
   "version": "3.9.6"
  }
 },
 "nbformat": 4,
 "nbformat_minor": 5
}
