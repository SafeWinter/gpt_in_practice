{
 "cells": [
  {
   "cell_type": "code",
   "execution_count": 1,
   "id": "311116e8",
   "metadata": {},
   "outputs": [],
   "source": [
    "deployment = \"gpt4\"\n",
    "model = \"gpt-4\""
   ]
  },
  {
   "cell_type": "markdown",
   "id": "9963a591",
   "metadata": {},
   "source": [
    "# 回顾"
   ]
  },
  {
   "cell_type": "code",
   "execution_count": 3,
   "id": "d86dadbe",
   "metadata": {},
   "outputs": [],
   "source": [
    "from langchain import PromptTemplate, OpenAI, LLMChain\n",
    "from langchain.chains import LLMRequestsChain\n",
    "from langchain.chat_models import AzureChatOpenAI\n",
    "\n",
    "llm = AzureChatOpenAI(deployment_name = deployment, model_name=model, temperature=0, max_tokens=200)\n",
    "\n",
    "# https://www.cnblogs.com/sunsky303/p/11045113.html\n",
    "\n",
    "def query_web(question):\n",
    "      print(\"http://cn.bing.com/search?q=\" + question.replace(\" \", \"+\").replace(\"?\",\"\"))\n",
    "      template = \"\"\"Between >>> and <<< are the raw search result text from google.\n",
    "      Extract the answer to the question '{query}' or say \"not found\" if the information is not contained.\n",
    "      Use the format\n",
    "      Extracted:<answer or \"not found\">\n",
    "      >>> {requests_result} <<<\n",
    "      Extracted:\"\"\"\n",
    "\n",
    "      PROMPT = PromptTemplate(\n",
    "          input_variables=[\"query\", \"requests_result\"],\n",
    "          template=template,\n",
    "      )\n",
    "\n",
    "      inputs = {\n",
    "          \"query\": question,\n",
    "          \"url\": \"https://cn.bing.com/search?q=\" + question.replace(\" \", \"+\").replace(\"?\",\"\")\n",
    "      }\n",
    "      requests_chain = LLMRequestsChain(llm_chain = LLMChain(llm=llm, prompt=PROMPT), output_key=\"query_info\")\n",
    "      res = requests_chain.run(inputs)\n",
    "      print(f\"Result:{res}\")\n",
    "      return res"
   ]
  },
  {
   "cell_type": "code",
   "execution_count": 4,
   "id": "91246f60",
   "metadata": {},
   "outputs": [],
   "source": [
    "def get_current_cluster_state(cluster_name):\n",
    "    return  \"\"\"ERROR: Failed to pull image \"chaocai/docker/dsp:latest\"\"\""
   ]
  },
  {
   "cell_type": "code",
   "execution_count": 5,
   "id": "42901684",
   "metadata": {},
   "outputs": [],
   "source": [
    "funcs = {\n",
    "    \"get_current_cluster_state\": get_current_cluster_state,\n",
    "    \"query_web\":query_web,\n",
    "}"
   ]
  },
  {
   "cell_type": "code",
   "execution_count": 52,
   "id": "191e2635",
   "metadata": {},
   "outputs": [],
   "source": [
    "import openai\n",
    "import json\n",
    "openai.api_version = \"2023-07-01-preview\"\n",
    "def run(input):\n",
    "    msg=[{\"role\":\"user\",\"content\":input}]\n",
    "    ret = run_conversation(msg)\n",
    "    return ret[\"content\"] \n",
    "\n",
    "def run_conversation(msg):\n",
    "    response = openai.ChatCompletion.create(\n",
    "        engine=deployment,\n",
    "        model=model,\n",
    "        messages=msg,\n",
    "        functions=[\n",
    "     \n",
    "            {\n",
    "                \"name\": \"get_current_cluster_state\",\n",
    "                \"description\": \"Get the current state in a given cluster\",\n",
    "                \"parameters\": {\n",
    "                    \"type\": \"object\",\n",
    "                    \"properties\": {\n",
    "                        \"cluster_name\": {\n",
    "                            \"type\": \"string\",\n",
    "                            \"description\": \"the name of the cluster\",\n",
    "                        },\n",
    "                        \n",
    "                    },\n",
    "                    \"required\": [\"cluster_name\"],\n",
    "                },\n",
    "            },\n",
    "     \n",
    "            {\n",
    "                \"name\": \"query_web\",\n",
    "                \"description\": \"Get a realtime info/unknown info from web\",\n",
    "                \"parameters\": {\n",
    "                    \"type\": \"object\",\n",
    "                    \"properties\": {\n",
    "                        \"question\": {\n",
    "                            \"type\": \"string\",\n",
    "                            \"description\": \"the query/question\",\n",
    "                        },\n",
    "                        \n",
    "                    },\n",
    "                    \"required\": [\"query\"],\n",
    "                },\n",
    "            }\n",
    "        ],\n",
    "        function_call=\"auto\",\n",
    "    )\n",
    "\n",
    "    message =  response[\"choices\"][0][\"message\"]\n",
    "    \n",
    "    # 如果不需要调用function，则直接返回结果\n",
    "    if not message.get(\"function_call\"):\n",
    "        return message\n",
    "    \n",
    "    # 从\n",
    "    function_name = message[\"function_call\"][\"name\"]\n",
    "    function_args = json.loads(message[\"function_call\"][\"arguments\"])\n",
    "    print(function_args)\n",
    "    res = funcs[function_name](function_args[\"question\"])\n",
    "    message[\"content\"]=None\n",
    "    msg.append(message)\n",
    "    msg.append({\n",
    "                \"role\": \"function\",\n",
    "                \"name\": function_name,\n",
    "                \"content\": res,\n",
    "            })\n",
    "    return run_conversation(msg)"
   ]
  },
  {
   "cell_type": "code",
   "execution_count": 55,
   "id": "0aed4c3e",
   "metadata": {},
   "outputs": [
    {
     "name": "stdout",
     "output_type": "stream",
     "text": [
      "{'question': '北京今天的天气如何'}\n",
      "http://cn.bing.com/search?q=北京今天的天气如何\n",
      "Result:今天白天晴转多云,傍晚山区有雷阵雨,北转南风二三级,最高气温34℃;夜间多云转晴,南转北风一二级,最低气温24℃。\n"
     ]
    },
    {
     "data": {
      "text/plain": [
       "'今天北京的气温在24℃-34℃之间，天气晴转多云，傍晚山区有雷阵雨。因此，建议您穿上短袖和裤子，携带一把雨伞以防雷阵雨，保持身体的干爽。晚上气温稍低，可能需要携带一件轻薄夹克或者开衫防止凉。'"
      ]
     },
     "execution_count": 55,
     "metadata": {},
     "output_type": "execute_result"
    }
   ],
   "source": [
    "run(\"北京今天适合穿什么\")"
   ]
  },
  {
   "cell_type": "markdown",
   "id": "a1897831",
   "metadata": {},
   "source": [
    "# LangChain Agent"
   ]
  },
  {
   "cell_type": "code",
   "execution_count": 6,
   "id": "93e34e3a",
   "metadata": {},
   "outputs": [],
   "source": [
    "from langchain.agents import initialize_agent, Tool\n",
    "from langchain.chat_models import AzureChatOpenAI\n",
    "from langchain.chains import LLMRequestsChain\n",
    "from langchain.chains import LLMChain\n",
    "from langchain.prompts import PromptTemplate\n",
    "import time\n"
   ]
  },
  {
   "cell_type": "code",
   "execution_count": 7,
   "id": "d991bdb7",
   "metadata": {},
   "outputs": [],
   "source": [
    "tools = [\n",
    "    Tool(\n",
    "        name = \"Get current info\",func=query_web,\n",
    "        description=\"\"\"invoke it for when you need to answer questions about current info.\n",
    "             And the input should be a search query.\"\"\"),\n",
    "    Tool(\n",
    "        name=\"Get current cluster state\", func=get_current_cluster_state,\n",
    "        description=\"\"\"invoke it for when you need to get the current state in a given cluster, \n",
    "        And the input should be service name.\"\"\")\n",
    "]\n",
    "\n",
    "agent = initialize_agent(tools, llm, agent=\"zero-shot-react-description\", max_iterations=3, verbose=True)"
   ]
  },
  {
   "cell_type": "code",
   "execution_count": 8,
   "id": "bb69074e",
   "metadata": {},
   "outputs": [
    {
     "name": "stdout",
     "output_type": "stream",
     "text": [
      "\n",
      "\n",
      "\u001b[1m> Entering new AgentExecutor chain...\u001b[0m\n",
      "\u001b[32;1m\u001b[1;3m我需要获取当前的天气信息来回答这个问题。\n",
      "Action: Get current info\n",
      "Action Input: 北京今天的天气\u001b[0mhttp://cn.bing.com/search?q=北京今天的天气\n",
      "Result:晴 34 / 23℃\n",
      "\n",
      "Observation: \u001b[36;1m\u001b[1;3m晴 34 / 23℃\u001b[0m\n",
      "Thought:\u001b[32;1m\u001b[1;3m根据观察到的天气信息，今天北京的天气是晴朗，最高温度34度，最低温度23度。\n",
      "Final Answer: 今天北京的天气比较热，建议穿短袖、短裤或者薄的长袖，同时带上防晒霜和遮阳帽。\u001b[0m\n",
      "\n",
      "\u001b[1m> Finished chain.\u001b[0m\n"
     ]
    },
    {
     "data": {
      "text/plain": [
       "'今天北京的天气比较热，建议穿短袖、短裤或者薄的长袖，同时带上防晒霜和遮阳帽。'"
      ]
     },
     "execution_count": 8,
     "metadata": {},
     "output_type": "execute_result"
    }
   ],
   "source": [
    "agent.run(\"北京今天穿什么合适？\")"
   ]
  },
  {
   "cell_type": "code",
   "execution_count": 11,
   "id": "fef8cef5",
   "metadata": {},
   "outputs": [
    {
     "name": "stdout",
     "output_type": "stream",
     "text": [
      "\n",
      "\n",
      "\u001b[1m> Entering new AgentExecutor chain...\u001b[0m\n",
      "\u001b[32;1m\u001b[1;3m首先，我需要了解ADX集群的当前状态。\n",
      "Action: Get current cluster state\n",
      "Action Input: ADX集群\u001b[0m\n",
      "Observation: \u001b[33;1m\u001b[1;3mERROR: Failed to pull image \"chaocai/docker/dsp:latest\u001b[0m\n",
      "Thought:\u001b[32;1m\u001b[1;3m看来ADX集群的问题在于无法拉取最新的docker镜像。我需要查找如何解决这个问题。\n",
      "Action: Get current info\n",
      "Action Input: 如何修复无法拉取docker镜像的问题\u001b[0mQuestion:如何修复无法拉取docker镜像的问题\n",
      "Result:not found\n",
      "\n",
      "Observation: \u001b[36;1m\u001b[1;3mnot found\u001b[0m\n",
      "Thought:\u001b[32;1m\u001b[1;3m我没有找到具体的解决方案，但通常，无法拉取docker镜像的问题可能是由于网络问题或者docker仓库的问题。我可以建议一些可能的解决步骤。\n",
      "Final Answer: 无法拉取docker镜像的问题可能是由于网络问题或者docker仓库的问题。你可以尝试以下步骤来解决这个问题：\n",
      "1. 检查你的网络连接。\n",
      "2. 确保你有权限访问docker仓库。\n",
      "3. 检查docker仓库是否存在问题或者是否有最新的镜像。\n",
      "4. 如果以上步骤都无法解决问题，你可能需要联系docker仓库的管理员或者寻求专业的技术支持。\u001b[0m\n",
      "\n",
      "\u001b[1m> Finished chain.\u001b[0m\n"
     ]
    },
    {
     "data": {
      "text/plain": [
       "'无法拉取docker镜像的问题可能是由于网络问题或者docker仓库的问题。你可以尝试以下步骤来解决这个问题：\\n1. 检查你的网络连接。\\n2. 确保你有权限访问docker仓库。\\n3. 检查docker仓库是否存在问题或者是否有最新的镜像。\\n4. 如果以上步骤都无法解决问题，你可能需要联系docker仓库的管理员或者寻求专业的技术支持。'"
      ]
     },
     "execution_count": 11,
     "metadata": {},
     "output_type": "execute_result"
    }
   ],
   "source": [
    "agent.run(\"如何修复的ADX集群？\")"
   ]
  },
  {
   "cell_type": "markdown",
   "id": "9d25b3b9",
   "metadata": {},
   "source": []
  },
  {
   "cell_type": "markdown",
   "id": "840119a0",
   "metadata": {},
   "source": [
    "# 利用LangChain中的工具"
   ]
  },
  {
   "cell_type": "code",
   "execution_count": 7,
   "id": "8919d594",
   "metadata": {},
   "outputs": [
    {
     "name": "stdout",
     "output_type": "stream",
     "text": [
      "Defaulting to user installation because normal site-packages is not writeable\n",
      "Collecting wolframalpha\n",
      "  Downloading wolframalpha-5.0.0-py3-none-any.whl (7.5 kB)\n",
      "Collecting xmltodict (from wolframalpha)\n",
      "  Downloading xmltodict-0.13.0-py2.py3-none-any.whl (10.0 kB)\n",
      "Collecting more-itertools (from wolframalpha)\n",
      "  Downloading more_itertools-10.1.0-py3-none-any.whl (55 kB)\n",
      "\u001b[2K     \u001b[90m━━━━━━━━━━━━━━━━━━━━━━━━━━━━━━━━━━━━━━━\u001b[0m \u001b[32m55.8/55.8 kB\u001b[0m \u001b[31m548.8 kB/s\u001b[0m eta \u001b[36m0:00:00\u001b[0m \u001b[36m0:00:01\u001b[0m\n",
      "\u001b[?25hCollecting jaraco.context (from wolframalpha)\n",
      "  Downloading jaraco.context-4.3.0-py3-none-any.whl (5.3 kB)\n",
      "Installing collected packages: xmltodict, more-itertools, jaraco.context, wolframalpha\n",
      "Successfully installed jaraco.context-4.3.0 more-itertools-10.1.0 wolframalpha-5.0.0 xmltodict-0.13.0\n",
      "\n",
      "\u001b[1m[\u001b[0m\u001b[34;49mnotice\u001b[0m\u001b[1;39;49m]\u001b[0m\u001b[39;49m A new release of pip is available: \u001b[0m\u001b[31;49m23.1.2\u001b[0m\u001b[39;49m -> \u001b[0m\u001b[32;49m23.2.1\u001b[0m\n",
      "\u001b[1m[\u001b[0m\u001b[34;49mnotice\u001b[0m\u001b[1;39;49m]\u001b[0m\u001b[39;49m To update, run: \u001b[0m\u001b[32;49m/Library/Developer/CommandLineTools/usr/bin/python3 -m pip install --upgrade pip\u001b[0m\n",
      "Note: you may need to restart the kernel to use updated packages.\n"
     ]
    }
   ],
   "source": [
    "pip install wolframalpha"
   ]
  },
  {
   "cell_type": "code",
   "execution_count": 61,
   "id": "3fad7a4e",
   "metadata": {},
   "outputs": [],
   "source": [
    "from langchain.utilities.wolfram_alpha import WolframAlphaAPIWrapper\n",
    "def wolfram_api(question):\n",
    "    wolfram = WolframAlphaAPIWrapper()\n",
    "    return wolfram.run(question)"
   ]
  },
  {
   "cell_type": "code",
   "execution_count": 62,
   "id": "c63ba80c",
   "metadata": {},
   "outputs": [
    {
     "data": {
      "text/plain": [
       "'Assumption: 2 x + 5 = -3 x + 7 \\nAnswer: x = 2/5'"
      ]
     },
     "execution_count": 62,
     "metadata": {},
     "output_type": "execute_result"
    }
   ],
   "source": [
    "wolfram_api(\"What is 2x+5 = -3x + 7?\")"
   ]
  },
  {
   "cell_type": "code",
   "execution_count": 63,
   "id": "20ff129d",
   "metadata": {},
   "outputs": [],
   "source": [
    "tools = [\n",
    "    Tool(\n",
    "        name = \"Get current info\",func=query_web,\n",
    "        description=\"\"\"invoke it for when you need to answer questions about current info.\n",
    "             And the input should be a search query.\"\"\"),\n",
    "    Tool(\n",
    "        name=\"Get current cluster state\", func=get_current_cluster_state,\n",
    "        description=\"\"\"invoke it for when you need to get the current state in a given cluster, \n",
    "        And the input should be service name.\"\"\"),\n",
    "    Tool(\n",
    "        name=\"Invoke WolframAlpha API\", func=wolfram_api,\n",
    "        description=\"\"\"invoke it for when you need to anwser or solve a mathematical question, \n",
    "        And the input is the question\"\"\")\n",
    "]\n",
    "\n",
    "agent = initialize_agent(tools, llm, agent=\"zero-shot-react-description\", max_iterations=3, verbose=True)"
   ]
  },
  {
   "cell_type": "code",
   "execution_count": 13,
   "id": "3cff4a67",
   "metadata": {},
   "outputs": [
    {
     "name": "stdout",
     "output_type": "stream",
     "text": [
      "\n",
      "\n",
      "\u001b[1m> Entering new AgentExecutor chain...\u001b[0m\n",
      "\u001b[32;1m\u001b[1;3m这是一个数学问题，可以通过设置方程来解决。设鸡的数量为x，免子的数量为y。那么我们可以得到两个方程：x + y = 20 (头的数量) 和 3x + 4y = 71 (脚的数量)。我可以使用WolframAlpha API来解决这个问题。\n",
      "Action: Invoke WolframAlpha API\n",
      "Action Input: Solve the equations x + y = 20 and 3x + 4y = 71\u001b[0m\n",
      "Observation: \u001b[38;5;200m\u001b[1;3mAssumption: solve x + y = 20\n",
      "3 x + 4 y = 71 \n",
      "Answer: x = 9 and y = 11\u001b[0m\n",
      "Thought:\u001b[32;1m\u001b[1;3m我现在知道了最后的答案\n",
      "Final Answer: 笼子里有9只鸡和11只免子。\u001b[0m\n",
      "\n",
      "\u001b[1m> Finished chain.\u001b[0m\n"
     ]
    },
    {
     "data": {
      "text/plain": [
       "'笼子里有9只鸡和11只免子。'"
      ]
     },
     "execution_count": 13,
     "metadata": {},
     "output_type": "execute_result"
    }
   ],
   "source": [
    "agent.run(\"在一个外星球上，这里的鸡都长着3只脚1个头，免子有4只脚1个头，一个装着鸡和免子的笼子里一共有20个头，71只脚，请问笼子里各有多少只鸡和免子？\")"
   ]
  },
  {
   "cell_type": "code",
   "execution_count": null,
   "id": "b794debe",
   "metadata": {},
   "outputs": [],
   "source": []
  }
 ],
 "metadata": {
  "kernelspec": {
   "display_name": "Python 3 (ipykernel)",
   "language": "python",
   "name": "python3"
  },
  "language_info": {
   "codemirror_mode": {
    "name": "ipython",
    "version": 3
   },
   "file_extension": ".py",
   "mimetype": "text/x-python",
   "name": "python",
   "nbconvert_exporter": "python",
   "pygments_lexer": "ipython3",
   "version": "3.9.6"
  }
 },
 "nbformat": 4,
 "nbformat_minor": 5
}
