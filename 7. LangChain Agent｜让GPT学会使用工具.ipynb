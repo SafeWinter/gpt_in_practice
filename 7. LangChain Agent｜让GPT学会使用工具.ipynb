{
 "cells": [
  {
   "cell_type": "code",
   "execution_count": 1,
   "id": "311116e8",
   "metadata": {},
   "outputs": [],
   "source": [
    "deployment = \"gpt4\"\n",
    "model = \"gpt-4\""
   ]
  },
  {
   "cell_type": "markdown",
   "id": "9963a591",
   "metadata": {},
   "source": [
    "# 回顾"
   ]
  },
  {
   "cell_type": "code",
   "execution_count": 9,
   "id": "d86dadbe",
   "metadata": {},
   "outputs": [],
   "source": [
    "from langchain import PromptTemplate, OpenAI, LLMChain\n",
    "from langchain.chains import LLMRequestsChain\n",
    "from langchain.chat_models import AzureChatOpenAI\n",
    "\n",
    "llm = AzureChatOpenAI(deployment_name = deployment, model_name=model, temperature=0, max_tokens=200)\n",
    "\n",
    "# https://www.cnblogs.com/sunsky303/p/11045113.html\n",
    "\n",
    "def query_web(question):\n",
    "      template = \"\"\"Between >>> and <<< are the raw search result text from google.\n",
    "      Extract the answer to the question '{query}' or say \"not found\" if the information is not contained.\n",
    "      Use the format\n",
    "      Extracted:<answer or \"not found\">\n",
    "      >>> {requests_result} <<<\n",
    "      Extracted:\"\"\"\n",
    "\n",
    "      PROMPT = PromptTemplate(\n",
    "          input_variables=[\"query\", \"requests_result\"],\n",
    "          template=template,\n",
    "      )\n",
    "\n",
    "      inputs = {\n",
    "          \"query\": question,\n",
    "          #\"url\": \"https://cn.bing.com/search?q=\" + question.replace(\" \", \"+\").replace(\"?\",\"\")\n",
    "          \"url\": \"https://www.baidu.com/s?wd=\" + question.replace(\" \", \"+\").replace(\"?\",\"\")\n",
    "      }\n",
    "      requests_chain = LLMRequestsChain(llm_chain = LLMChain(llm=llm, prompt=PROMPT), output_key=\"query_info\")\n",
    "      res = requests_chain.run(inputs)\n",
    "      print(f\"Result:{res}\")\n",
    "      return res"
   ]
  },
  {
   "cell_type": "code",
   "execution_count": 10,
   "id": "d1e01d9a",
   "metadata": {},
   "outputs": [],
   "source": [
    "import os\n",
    "\n",
    "# os.environ[\"BING_SUBSCRIPTION_KEY\"] = \"<Your Key>\"\n",
    "os.environ[\"BING_SEARCH_URL\"] = \"https://api.bing.microsoft.com/v7.0/search\"\n",
    "\n",
    "from langchain.utilities import BingSearchAPIWrapper\n",
    "\n",
    "def query_web(question):\n",
    "    search = BingSearchAPIWrapper()\n",
    "    return search.run(question)\n"
   ]
  },
  {
   "cell_type": "code",
   "execution_count": 11,
   "id": "91246f60",
   "metadata": {},
   "outputs": [],
   "source": [
    "def get_current_cluster_state(cluster_name):\n",
    "    return  \"\"\"ERROR: Failed to pull image \"chaocai/docker/dsp:latest\"\"\""
   ]
  },
  {
   "cell_type": "code",
   "execution_count": 12,
   "id": "42901684",
   "metadata": {},
   "outputs": [],
   "source": [
    "funcs = {\n",
    "    \"get_current_cluster_state\": get_current_cluster_state,\n",
    "    \"query_web\":query_web,\n",
    "}"
   ]
  },
  {
   "cell_type": "code",
   "execution_count": 13,
   "id": "191e2635",
   "metadata": {},
   "outputs": [],
   "source": [
    "import openai\n",
    "import json\n",
    "def run(input):\n",
    "    msg=[{\"role\":\"user\",\"content\":input}]\n",
    "    ret = run_conversation(msg)\n",
    "    return ret[\"content\"] \n",
    "\n",
    "def run_conversation(msg):\n",
    "    response = openai.ChatCompletion.create(\n",
    "        engine=deployment,\n",
    "        model=model,\n",
    "        messages=msg,\n",
    "        functions=[\n",
    "     \n",
    "            {\n",
    "                \"name\": \"get_current_cluster_state\",\n",
    "                \"description\": \"Get the current state in a given cluster\",\n",
    "                \"parameters\": {\n",
    "                    \"type\": \"object\",\n",
    "                    \"properties\": {\n",
    "                        \"cluster_name\": {\n",
    "                            \"type\": \"string\",\n",
    "                            \"description\": \"the name of the cluster\",\n",
    "                        },\n",
    "                        \n",
    "                    },\n",
    "                    \"required\": [\"cluster_name\"],\n",
    "                },\n",
    "            },\n",
    "     \n",
    "            {\n",
    "                \"name\": \"query_web\",\n",
    "                \"description\": \"Get a realtime info/unknown info from web\",\n",
    "                \"parameters\": {\n",
    "                    \"type\": \"object\",\n",
    "                    \"properties\": {\n",
    "                        \"question\": {\n",
    "                            \"type\": \"string\",\n",
    "                            \"description\": \"the query/question\",\n",
    "                        },\n",
    "                        \n",
    "                    },\n",
    "                    \"required\": [\"query\"],\n",
    "                },\n",
    "            }\n",
    "        ],\n",
    "        function_call=\"auto\",\n",
    "    )\n",
    "\n",
    "    message =  response[\"choices\"][0][\"message\"]\n",
    "    \n",
    "    # 如果不需要调用function，则直接返回结果\n",
    "    if not message.get(\"function_call\"):\n",
    "        return message\n",
    "    \n",
    "    # 从\n",
    "    function_name = message[\"function_call\"][\"name\"]\n",
    "    function_args = json.loads(message[\"function_call\"][\"arguments\"])\n",
    "    print(function_args)\n",
    "    res = funcs[function_name](function_args[\"question\"])\n",
    "    message[\"content\"]=None\n",
    "    msg.append(message)\n",
    "    msg.append({\n",
    "                \"role\": \"function\",\n",
    "                \"name\": function_name,\n",
    "                \"content\": res,\n",
    "            })\n",
    "    return run_conversation(msg)"
   ]
  },
  {
   "cell_type": "code",
   "execution_count": 14,
   "id": "0aed4c3e",
   "metadata": {},
   "outputs": [
    {
     "name": "stdout",
     "output_type": "stream",
     "text": [
      "{'question': '北京今天的天气如何'}\n"
     ]
    },
    {
     "data": {
      "text/plain": [
       "'北京今天的天气是晴天，温度在19度到29度之间。建议您着装轻薄，可以穿短袖、短裤或是裙子，并配备一件薄外套以防晚上温度下降。外出时要注意防晒保护工作。'"
      ]
     },
     "execution_count": 14,
     "metadata": {},
     "output_type": "execute_result"
    }
   ],
   "source": [
    "run(\"北京今天适合穿什么\")"
   ]
  },
  {
   "cell_type": "markdown",
   "id": "a1897831",
   "metadata": {},
   "source": [
    "# LangChain Agent"
   ]
  },
  {
   "cell_type": "code",
   "execution_count": 15,
   "id": "93e34e3a",
   "metadata": {},
   "outputs": [],
   "source": [
    "from langchain.agents import initialize_agent, Tool\n",
    "from langchain.chat_models import AzureChatOpenAI\n",
    "from langchain.chains import LLMRequestsChain\n",
    "from langchain.chains import LLMChain\n",
    "from langchain.prompts import PromptTemplate\n",
    "import time\n"
   ]
  },
  {
   "cell_type": "code",
   "execution_count": 16,
   "id": "d991bdb7",
   "metadata": {},
   "outputs": [],
   "source": [
    "tools = [\n",
    "    Tool(\n",
    "        name = \"Get current info\",func=query_web,\n",
    "        description=\"\"\"invoke it for when you need to answer questions about current info.\n",
    "             And the input should be a search query.\"\"\"),\n",
    "    Tool(\n",
    "        name=\"Get current cluster state\", func=get_current_cluster_state,\n",
    "        description=\"\"\"invoke it for when you need to get the current state in a given cluster, \n",
    "        And the input should be service name.\"\"\")\n",
    "]\n",
    "\n",
    "agent = initialize_agent(tools, llm, agent=\"zero-shot-react-description\", max_iterations=3, verbose=True)"
   ]
  },
  {
   "cell_type": "code",
   "execution_count": 17,
   "id": "bb69074e",
   "metadata": {},
   "outputs": [
    {
     "name": "stdout",
     "output_type": "stream",
     "text": [
      "\n",
      "\n",
      "\u001b[1m> Entering new AgentExecutor chain...\u001b[0m\n",
      "\u001b[32;1m\u001b[1;3m我需要获取当前的天气信息来回答这个问题。\n",
      "Action: Get current info\n",
      "Action Input: 北京今天的天气\u001b[0m\n",
      "Observation: \u001b[36;1m\u001b[1;3m<b>今天</b> 7天 8-15天 40天 雷达图 31日（<b>今天</b>） 晴 29 / 19℃ &lt;3级 1日（明天） 多云 30 / 21℃ &lt;3级 2日（后天） 小雨 28 / 20℃ &lt;3级 3日（周日） 小雨 28 / 19℃ &lt;3级 4日（周一） 多云 29 / 20℃ &lt;3级 5日（周二） 晴 30 / 21℃ &lt;3级 6日（周三） 晴 31 / 21℃ &lt;3级 分时段预报 生活指数 蓝天预报 <b>天气</b>资讯 全国开学<b>天气</b>地图出炉 北方大部秋高气爽广东福建开学“撞”台风 中国<b>天气</b>网 2023-08-31 11:20 湖南大部<b>今天</b>阳光在线 明晚起南部将有较强降雨过程局地暴雨 中国<b>天气</b>网湖南站 2023-08-31 11:10 【<b>北京天气</b>】<b>北京天气</b>预报,<b>天气</b>预报一周,<b>天气</b>预报15天查询 <b>北京</b> &gt; 城区 <b>今天</b> 7天 8-15天 更长时间 雷达图 29日（<b>今天</b>） 霾转晴 4 / -4℃ 微风 30日（明天） 晴 5 / -6℃ 3-4级转微风 31日（后天） 晴转多云 4 / -6℃ 微风 1日（周五） 多云转晴 4 / -4℃ 微风 2日（周六） 晴转多云 5 / -4℃ 3-4级转微风 3日（周日） 多云转晴 4 / -4℃ 微风 4日（周一） 晴转多云 4 / -2℃ 微风 分时段预报 生活指数 蓝天预报 周边地区 | 周边景点 2023-08-31 18:00更新 香河 / 7天天气预报（2023/08/30 08:00发布）. 星期三. 08/30. 多云. 无持续风向. 微风. 29℃. 19℃. 多云. 日出05:39. 北京. 日落18:51. 降水量. 相对湿度. 体感温度. 雷达图. 发布时间：08-30 12:00. 08/30. 大部晴朗. Feels-Like Temperature. 体感温度 20°. Wind. 大风北 7 公里/小时. Humidity. 湿度 68%. UV Level. 紫外线指数 0（最大值11）. 中国气象局提供权威<b>的天气</b> 预报、气象预警、卫星云图、雷达图等专业服务产品 主站首页 领导主站 ... 地址：<b>北京</b>市海淀区中关村南大街46 号 邮政编码：100081 京ICP备05004897号 京公网安备11040102700146号 相关链接 ... <b>北京天气</b>网为您提供<b>北京天气</b>预报24小时详情、<b>北京今日天气</b>预报，包括<b>今日</b>实时温度、24小时降水概率、湿度、pm2.5、风向、紫外线强度等，助您放心出行。 中国气象局提供权威<b>的天气</b> 预报、气象预警、卫星云图、雷达图等专业服务产品 主站首页 领导主站 ... 地址：<b>北京</b>市海淀区中关村南大街46 号 邮政编码：100081 京ICP备05004897号 京公网安备11040102700146号 相关链接 ... <b>北京天气</b>预报，及时准确发布中央气象台<b>天气</b>信息，便捷查询<b>北京今日天气</b>，<b>北京</b>周末<b>天气</b>，<b>北京</b>一周<b>天气</b>预报，<b>北京</b>15日<b>天气</b>预报，<b>北京</b>40日<b>天气</b>预报，<b>北京天气</b>预报还提供<b>北京</b>各区县<b>的</b>生活指数、健康指数、交通指数、旅游指数，及时发布<b>北京</b>气象预警信号、各类气象资讯。 中国气象局提供权威<b>的天气</b> 预报、气象预警、卫星云图、雷达图等专业服务产品 主站首页 领导主站 ... 地址：<b>北京</b>市海淀区中关村南大街46 号 邮政编码：100081 京ICP备05004897号 京公网安备11040102700146号 相关链接 ...\u001b[0m\n",
      "Thought:\u001b[32;1m\u001b[1;3m从观察结果来看，北京今天的天气是晴朗，温度在29℃到19℃之间，风力小于3级。因此，我可以根据这些信息来推荐合适的穿着。\n",
      "Final Answer: 今天北京的天气晴朗，温度在29℃到19℃之间，风力小于3级。建议穿着短袖或者薄款长袖，搭配一条舒适的裤子，早晚温度较低时可以加一件薄外套。\u001b[0m\n",
      "\n",
      "\u001b[1m> Finished chain.\u001b[0m\n"
     ]
    },
    {
     "data": {
      "text/plain": [
       "'今天北京的天气晴朗，温度在29℃到19℃之间，风力小于3级。建议穿着短袖或者薄款长袖，搭配一条舒适的裤子，早晚温度较低时可以加一件薄外套。'"
      ]
     },
     "execution_count": 17,
     "metadata": {},
     "output_type": "execute_result"
    }
   ],
   "source": [
    "agent.run(\"北京今天穿什么合适？\")"
   ]
  },
  {
   "cell_type": "code",
   "execution_count": 11,
   "id": "fef8cef5",
   "metadata": {},
   "outputs": [
    {
     "name": "stdout",
     "output_type": "stream",
     "text": [
      "\n",
      "\n",
      "\u001b[1m> Entering new AgentExecutor chain...\u001b[0m\n",
      "\u001b[32;1m\u001b[1;3m首先，我需要了解ADX集群的当前状态。\n",
      "Action: Get current cluster state\n",
      "Action Input: ADX集群\u001b[0m\n",
      "Observation: \u001b[33;1m\u001b[1;3mERROR: Failed to pull image \"chaocai/docker/dsp:latest\u001b[0m\n",
      "Thought:\u001b[32;1m\u001b[1;3m看来ADX集群的问题在于无法拉取最新的docker镜像。我需要查找如何解决这个问题。\n",
      "Action: Get current info\n",
      "Action Input: 如何修复无法拉取docker镜像的问题\u001b[0mQuestion:如何修复无法拉取docker镜像的问题\n",
      "Result:not found\n",
      "\n",
      "Observation: \u001b[36;1m\u001b[1;3mnot found\u001b[0m\n",
      "Thought:\u001b[32;1m\u001b[1;3m我没有找到具体的解决方案，但通常，无法拉取docker镜像的问题可能是由于网络问题或者docker仓库的问题。我可以建议一些可能的解决步骤。\n",
      "Final Answer: 无法拉取docker镜像的问题可能是由于网络问题或者docker仓库的问题。你可以尝试以下步骤来解决这个问题：\n",
      "1. 检查你的网络连接。\n",
      "2. 确保你有权限访问docker仓库。\n",
      "3. 检查docker仓库是否存在问题或者是否有最新的镜像。\n",
      "4. 如果以上步骤都无法解决问题，你可能需要联系docker仓库的管理员或者寻求专业的技术支持。\u001b[0m\n",
      "\n",
      "\u001b[1m> Finished chain.\u001b[0m\n"
     ]
    },
    {
     "data": {
      "text/plain": [
       "'无法拉取docker镜像的问题可能是由于网络问题或者docker仓库的问题。你可以尝试以下步骤来解决这个问题：\\n1. 检查你的网络连接。\\n2. 确保你有权限访问docker仓库。\\n3. 检查docker仓库是否存在问题或者是否有最新的镜像。\\n4. 如果以上步骤都无法解决问题，你可能需要联系docker仓库的管理员或者寻求专业的技术支持。'"
      ]
     },
     "execution_count": 11,
     "metadata": {},
     "output_type": "execute_result"
    }
   ],
   "source": [
    "agent.run(\"如何修复的ADX集群？\")"
   ]
  },
  {
   "cell_type": "markdown",
   "id": "9d25b3b9",
   "metadata": {},
   "source": []
  },
  {
   "cell_type": "markdown",
   "id": "840119a0",
   "metadata": {},
   "source": [
    "# 利用LangChain中的工具"
   ]
  },
  {
   "cell_type": "code",
   "execution_count": 20,
   "id": "8919d594",
   "metadata": {},
   "outputs": [
    {
     "name": "stdout",
     "output_type": "stream",
     "text": [
      "Collecting wolframalpha\n",
      "  Using cached wolframalpha-5.0.0-py3-none-any.whl (7.5 kB)\n",
      "Collecting xmltodict (from wolframalpha)\n",
      "  Using cached xmltodict-0.13.0-py2.py3-none-any.whl (10.0 kB)\n",
      "Requirement already satisfied: more-itertools in /Users/mbj0593/anaconda3/lib/python3.11/site-packages (from wolframalpha) (8.12.0)\n",
      "Collecting jaraco.context (from wolframalpha)\n",
      "  Using cached jaraco.context-4.3.0-py3-none-any.whl (5.3 kB)\n",
      "Installing collected packages: xmltodict, jaraco.context, wolframalpha\n",
      "Successfully installed jaraco.context-4.3.0 wolframalpha-5.0.0 xmltodict-0.13.0\n",
      "Note: you may need to restart the kernel to use updated packages.\n"
     ]
    }
   ],
   "source": [
    "pip install wolframalpha"
   ]
  },
  {
   "cell_type": "code",
   "execution_count": 21,
   "id": "3fad7a4e",
   "metadata": {},
   "outputs": [],
   "source": [
    "from langchain.utilities.wolfram_alpha import WolframAlphaAPIWrapper\n",
    "def wolfram_api(question):\n",
    "    wolfram = WolframAlphaAPIWrapper()\n",
    "    return wolfram.run(question)"
   ]
  },
  {
   "cell_type": "code",
   "execution_count": 22,
   "id": "c63ba80c",
   "metadata": {},
   "outputs": [
    {
     "data": {
      "text/plain": [
       "'Assumption: 2 x + 5 = -3 x + 7 \\nAnswer: x = 2/5'"
      ]
     },
     "execution_count": 22,
     "metadata": {},
     "output_type": "execute_result"
    }
   ],
   "source": [
    "wolfram_api(\"What is 2x+5 = -3x + 7?\")"
   ]
  },
  {
   "cell_type": "code",
   "execution_count": 23,
   "id": "20ff129d",
   "metadata": {},
   "outputs": [],
   "source": [
    "tools = [\n",
    "    Tool(\n",
    "        name = \"Get current info\",func=query_web,\n",
    "        description=\"\"\"invoke it for when you need to answer questions about current info.\n",
    "             And the input should be a search query.\"\"\"),\n",
    "    Tool(\n",
    "        name=\"Get current cluster state\", func=get_current_cluster_state,\n",
    "        description=\"\"\"invoke it for when you need to get the current state in a given cluster, \n",
    "        And the input should be service name.\"\"\"),\n",
    "    Tool(\n",
    "        name=\"Invoke WolframAlpha API\", func=wolfram_api,\n",
    "        description=\"\"\"invoke it for when you need to anwser or solve a mathematical question, \n",
    "        And the input is the question\"\"\")\n",
    "]\n",
    "\n",
    "agent = initialize_agent(tools, llm, agent=\"zero-shot-react-description\", max_iterations=3, verbose=True)"
   ]
  },
  {
   "cell_type": "code",
   "execution_count": 24,
   "id": "3cff4a67",
   "metadata": {},
   "outputs": [
    {
     "name": "stdout",
     "output_type": "stream",
     "text": [
      "\n",
      "\n",
      "\u001b[1m> Entering new AgentExecutor chain...\u001b[0m\n",
      "\u001b[32;1m\u001b[1;3m这是一个数学问题，可以通过设置方程来解决。设鸡的数量为x，免子的数量为y。那么我们可以得到两个方程：x + y = 20 (头的数量) 和 3x + 4y = 71 (脚的数量)。我可以使用WolframAlpha API来解决这个问题。\n",
      "Action: Invoke WolframAlpha API\n",
      "Action Input: Solve the equations x + y = 20 and 3x + 4y = 71\u001b[0m\n",
      "Observation: \u001b[38;5;200m\u001b[1;3mAssumption: solve x + y = 20\n",
      "3 x + 4 y = 71 \n",
      "Answer: x = 9 and y = 11\u001b[0m\n",
      "Thought:\u001b[32;1m\u001b[1;3m我现在知道了最后的答案\n",
      "Final Answer: 笼子里有9只鸡和11只免子。\u001b[0m\n",
      "\n",
      "\u001b[1m> Finished chain.\u001b[0m\n"
     ]
    },
    {
     "data": {
      "text/plain": [
       "'笼子里有9只鸡和11只免子。'"
      ]
     },
     "execution_count": 24,
     "metadata": {},
     "output_type": "execute_result"
    }
   ],
   "source": [
    "agent.run(\"在一个外星球上，这里的鸡都长着3只脚1个头，免子有4只脚1个头，一个装着鸡和免子的笼子里一共有20个头，71只脚，请问笼子里各有多少只鸡和免子？\")"
   ]
  },
  {
   "cell_type": "code",
   "execution_count": null,
   "id": "b794debe",
   "metadata": {},
   "outputs": [],
   "source": []
  }
 ],
 "metadata": {
  "kernelspec": {
   "display_name": "Python 3 (ipykernel)",
   "language": "python",
   "name": "python3"
  },
  "language_info": {
   "codemirror_mode": {
    "name": "ipython",
    "version": 3
   },
   "file_extension": ".py",
   "mimetype": "text/x-python",
   "name": "python",
   "nbconvert_exporter": "python",
   "pygments_lexer": "ipython3",
   "version": "3.11.4"
  }
 },
 "nbformat": 4,
 "nbformat_minor": 5
}
