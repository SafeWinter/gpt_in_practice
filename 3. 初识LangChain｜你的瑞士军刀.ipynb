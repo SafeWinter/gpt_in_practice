{
 "cells": [
  {
   "cell_type": "code",
   "execution_count": 1,
   "id": "ee194690",
   "metadata": {},
   "outputs": [],
   "source": [
    "deployment = \"gpt4\"\n",
    "model = \"gpt-4\""
   ]
  },
  {
   "cell_type": "markdown",
   "id": "de6a55d2",
   "metadata": {},
   "source": [
    "# 回顾"
   ]
  },
  {
   "cell_type": "code",
   "execution_count": 2,
   "id": "6a4415ee",
   "metadata": {},
   "outputs": [],
   "source": [
    "import openai\n",
    "def analyze_user_review(text):\n",
    "    messages = []\n",
    "    messages.append( {\"role\": \"system\", \n",
    "                      \"content\": \"\"\"\n",
    "                      You are an assistant. \n",
    "                      Please, analyze the user reviews according to the following instruction: \n",
    "                      If the review is postive, you should output 'Y', otherwise output 'N'\n",
    "                      \"\"\"})\n",
    "    messages.append( {\"role\": \"user\", \"content\": text})\n",
    "    response = openai.ChatCompletion.create(\n",
    "        engine=deployment, \n",
    "        messages=messages,\n",
    "        temperature=0.5,\n",
    "        max_tokens = 100\n",
    "    )\n",
    "    return response[\"choices\"][0][\"message\"][\"content\"]"
   ]
  },
  {
   "cell_type": "code",
   "execution_count": 3,
   "id": "56058099",
   "metadata": {},
   "outputs": [
    {
     "data": {
      "text/plain": [
       "'Y'"
      ]
     },
     "execution_count": 3,
     "metadata": {},
     "output_type": "execute_result"
    }
   ],
   "source": [
    "analyze_user_review(\"服务热情周到。\")"
   ]
  },
  {
   "cell_type": "code",
   "execution_count": 4,
   "id": "017882d2",
   "metadata": {},
   "outputs": [
    {
     "data": {
      "text/plain": [
       "'N'"
      ]
     },
     "execution_count": 4,
     "metadata": {},
     "output_type": "execute_result"
    }
   ],
   "source": [
    "analyze_user_review(\"用餐环境差，等待时间长。\")"
   ]
  },
  {
   "cell_type": "code",
   "execution_count": 5,
   "id": "7537df8a",
   "metadata": {},
   "outputs": [
    {
     "name": "stdout",
     "output_type": "stream",
     "text": [
      "Defaulting to user installation because normal site-packages is not writeable\n",
      "Requirement already satisfied: langchain in /Users/mbj0593/Library/Python/3.9/lib/python/site-packages (0.0.253)\n",
      "Requirement already satisfied: PyYAML>=5.3 in /Users/mbj0593/Library/Python/3.9/lib/python/site-packages (from langchain) (6.0)\n",
      "Requirement already satisfied: SQLAlchemy<3,>=1.4 in /Users/mbj0593/Library/Python/3.9/lib/python/site-packages (from langchain) (2.0.12)\n",
      "Requirement already satisfied: aiohttp<4.0.0,>=3.8.3 in /Users/mbj0593/Library/Python/3.9/lib/python/site-packages (from langchain) (3.8.4)\n",
      "Requirement already satisfied: async-timeout<5.0.0,>=4.0.0 in /Users/mbj0593/Library/Python/3.9/lib/python/site-packages (from langchain) (4.0.2)\n",
      "Requirement already satisfied: dataclasses-json<0.6.0,>=0.5.7 in /Users/mbj0593/Library/Python/3.9/lib/python/site-packages (from langchain) (0.5.7)\n",
      "Requirement already satisfied: langsmith<0.1.0,>=0.0.11 in /Users/mbj0593/Library/Python/3.9/lib/python/site-packages (from langchain) (0.0.19)\n",
      "Requirement already satisfied: numexpr<3.0.0,>=2.8.4 in /Users/mbj0593/Library/Python/3.9/lib/python/site-packages (from langchain) (2.8.4)\n",
      "Requirement already satisfied: numpy<2,>=1 in /Users/mbj0593/Library/Python/3.9/lib/python/site-packages (from langchain) (1.23.5)\n",
      "Requirement already satisfied: openapi-schema-pydantic<2.0,>=1.2 in /Users/mbj0593/Library/Python/3.9/lib/python/site-packages (from langchain) (1.2.4)\n",
      "Requirement already satisfied: pydantic<2,>=1 in /Users/mbj0593/Library/Python/3.9/lib/python/site-packages (from langchain) (1.10.7)\n",
      "Requirement already satisfied: requests<3,>=2 in /Users/mbj0593/Library/Python/3.9/lib/python/site-packages (from langchain) (2.30.0)\n",
      "Requirement already satisfied: tenacity<9.0.0,>=8.1.0 in /Users/mbj0593/Library/Python/3.9/lib/python/site-packages (from langchain) (8.2.2)\n",
      "Requirement already satisfied: attrs>=17.3.0 in /Users/mbj0593/Library/Python/3.9/lib/python/site-packages (from aiohttp<4.0.0,>=3.8.3->langchain) (23.1.0)\n",
      "Requirement already satisfied: charset-normalizer<4.0,>=2.0 in /Users/mbj0593/Library/Python/3.9/lib/python/site-packages (from aiohttp<4.0.0,>=3.8.3->langchain) (3.1.0)\n",
      "Requirement already satisfied: multidict<7.0,>=4.5 in /Users/mbj0593/Library/Python/3.9/lib/python/site-packages (from aiohttp<4.0.0,>=3.8.3->langchain) (6.0.4)\n",
      "Requirement already satisfied: yarl<2.0,>=1.0 in /Users/mbj0593/Library/Python/3.9/lib/python/site-packages (from aiohttp<4.0.0,>=3.8.3->langchain) (1.9.2)\n",
      "Requirement already satisfied: frozenlist>=1.1.1 in /Users/mbj0593/Library/Python/3.9/lib/python/site-packages (from aiohttp<4.0.0,>=3.8.3->langchain) (1.3.3)\n",
      "Requirement already satisfied: aiosignal>=1.1.2 in /Users/mbj0593/Library/Python/3.9/lib/python/site-packages (from aiohttp<4.0.0,>=3.8.3->langchain) (1.3.1)\n",
      "Requirement already satisfied: marshmallow<4.0.0,>=3.3.0 in /Users/mbj0593/Library/Python/3.9/lib/python/site-packages (from dataclasses-json<0.6.0,>=0.5.7->langchain) (3.19.0)\n",
      "Requirement already satisfied: marshmallow-enum<2.0.0,>=1.5.1 in /Users/mbj0593/Library/Python/3.9/lib/python/site-packages (from dataclasses-json<0.6.0,>=0.5.7->langchain) (1.5.1)\n",
      "Requirement already satisfied: typing-inspect>=0.4.0 in /Users/mbj0593/Library/Python/3.9/lib/python/site-packages (from dataclasses-json<0.6.0,>=0.5.7->langchain) (0.8.0)\n",
      "Requirement already satisfied: typing-extensions>=4.2.0 in /Users/mbj0593/Library/Python/3.9/lib/python/site-packages (from pydantic<2,>=1->langchain) (4.5.0)\n",
      "Requirement already satisfied: idna<4,>=2.5 in /Users/mbj0593/Library/Python/3.9/lib/python/site-packages (from requests<3,>=2->langchain) (3.4)\n",
      "Requirement already satisfied: urllib3<3,>=1.21.1 in /Users/mbj0593/Library/Python/3.9/lib/python/site-packages (from requests<3,>=2->langchain) (1.26.6)\n",
      "Requirement already satisfied: certifi>=2017.4.17 in /Users/mbj0593/Library/Python/3.9/lib/python/site-packages (from requests<3,>=2->langchain) (2023.5.7)\n",
      "Requirement already satisfied: packaging>=17.0 in /Users/mbj0593/Library/Python/3.9/lib/python/site-packages (from marshmallow<4.0.0,>=3.3.0->dataclasses-json<0.6.0,>=0.5.7->langchain) (23.1)\n",
      "Requirement already satisfied: mypy-extensions>=0.3.0 in /Users/mbj0593/Library/Python/3.9/lib/python/site-packages (from typing-inspect>=0.4.0->dataclasses-json<0.6.0,>=0.5.7->langchain) (1.0.0)\n",
      "\n",
      "\u001b[1m[\u001b[0m\u001b[34;49mnotice\u001b[0m\u001b[1;39;49m]\u001b[0m\u001b[39;49m A new release of pip is available: \u001b[0m\u001b[31;49m23.1.2\u001b[0m\u001b[39;49m -> \u001b[0m\u001b[32;49m23.2.1\u001b[0m\n",
      "\u001b[1m[\u001b[0m\u001b[34;49mnotice\u001b[0m\u001b[1;39;49m]\u001b[0m\u001b[39;49m To update, run: \u001b[0m\u001b[32;49m/Library/Developer/CommandLineTools/usr/bin/python3 -m pip install --upgrade pip\u001b[0m\n"
     ]
    }
   ],
   "source": [
    "!pip install --upgrade langchain"
   ]
  },
  {
   "cell_type": "markdown",
   "id": "8e1d51c9",
   "metadata": {},
   "source": [
    "# 提示词模版"
   ]
  },
  {
   "cell_type": "code",
   "execution_count": 5,
   "id": "a9749461",
   "metadata": {},
   "outputs": [
    {
     "data": {
      "text/plain": [
       "'Spectrum Socks'"
      ]
     },
     "execution_count": 5,
     "metadata": {},
     "output_type": "execute_result"
    }
   ],
   "source": [
    "from langchain import PromptTemplate, OpenAI, LLMChain\n",
    "\n",
    "from langchain.chat_models import AzureChatOpenAI\n",
    "# from langchain.chat_models import ChatOpenAI #For Direct GPT client\n",
    "\n",
    "prompt_template = \"What is a good name for a company that makes {product}? And only return the best one.\"\n",
    "\n",
    "#llm = OpenAI(temperature=0) #For Direct GPT client\n",
    "llm = AzureChatOpenAI(deployment_name = deployment, model_name=model, temperature=0, max_tokens=200)\n",
    "llm_chain = LLMChain(\n",
    "    llm=llm,\n",
    "    prompt=PromptTemplate.from_template(prompt_template)\n",
    ")\n",
    "llm_chain.run(\"colorful socks\")"
   ]
  },
  {
   "cell_type": "code",
   "execution_count": 8,
   "id": "3e5f2fbf",
   "metadata": {},
   "outputs": [
    {
     "data": {
      "text/plain": [
       "[{'text': 'SkyOps Innovations'},\n",
       " {'text': 'Silent Symphony'},\n",
       " {'text': 'Spectrum Socks'}]"
      ]
     },
     "execution_count": 8,
     "metadata": {},
     "output_type": "execute_result"
    }
   ],
   "source": [
    "products = [{\"product\":\"'cloudnative devops platform'\"},\n",
    "            {\"product\":\"'Noise cancellation headphone'\"}, \n",
    "            {\"product\":\"colorful socks\"}]\n",
    "llm_chain.apply(products)"
   ]
  },
  {
   "cell_type": "code",
   "execution_count": 9,
   "id": "97c78a91",
   "metadata": {},
   "outputs": [
    {
     "name": "stdout",
     "output_type": "stream",
     "text": [
      "{'product': 'colorful socks', 'text': 'Spectrum Socks'}\n"
     ]
    }
   ],
   "source": [
    "import time\n",
    "async for i in llm_chain.astream(\"colorful socks\"):\n",
    "    print (i)\n",
    "    time.sleep(1)\n",
    "    "
   ]
  },
  {
   "cell_type": "markdown",
   "id": "9edff0fc",
   "metadata": {},
   "source": [
    "# API调用链\n",
    "## HTTP request chain"
   ]
  },
  {
   "cell_type": "code",
   "execution_count": 6,
   "id": "7125db24",
   "metadata": {},
   "outputs": [],
   "source": [
    "from langchain import PromptTemplate, OpenAI, LLMChain\n",
    "from langchain.chains import LLMRequestsChain\n",
    "from langchain.chat_models import AzureChatOpenAI\n",
    "\n",
    "llm = AzureChatOpenAI(deployment_name = deployment, model_name=model, temperature=0, max_tokens=200)\n",
    "\n",
    "def query_baidu(question):\n",
    "      template = \"\"\"Between >>> and <<< are the raw search result text from google.\n",
    "      Extract the answer to the question '{query}' or say \"not found\" if the information is not contained.\n",
    "      Use the format\n",
    "      Extracted:<answer or \"not found\">\n",
    "      >>> {requests_result} <<<\n",
    "      Extracted:\"\"\"\n",
    "\n",
    "      PROMPT = PromptTemplate(\n",
    "          input_variables=[\"query\", \"requests_result\"],\n",
    "          template=template,\n",
    "      )\n",
    "\n",
    "      inputs = {\n",
    "          \"query\": question,\n",
    "          \"url\": \"http://www.baidu.com/s?wd=\" + question.replace(\" \", \"+\")\n",
    "      }\n",
    "      requests_chain = LLMRequestsChain(llm_chain = LLMChain(llm=llm, prompt=PROMPT), output_key=\"query_info\")\n",
    "      res = requests_chain.run(inputs)\n",
    "      return res"
   ]
  },
  {
   "cell_type": "code",
   "execution_count": 7,
   "id": "39ac85a9",
   "metadata": {},
   "outputs": [
    {
     "data": {
      "text/plain": [
       "'10:50更新25°多云东北风2级21~30°C38 优'"
      ]
     },
     "execution_count": 7,
     "metadata": {},
     "output_type": "execute_result"
    }
   ],
   "source": [
    "query_baidu(\"今天北京天气？\")"
   ]
  },
  {
   "cell_type": "code",
   "execution_count": 1,
   "id": "9ca99892",
   "metadata": {},
   "outputs": [],
   "source": [
    "import os\n",
    "\n",
    "# os.environ[\"BING_SUBSCRIPTION_KEY\"] = \"<Your Key>\"\n",
    "os.environ[\"BING_SEARCH_URL\"] = \"https://api.bing.microsoft.com/v7.0/search\"\n",
    "\n",
    "from langchain.utilities import BingSearchAPIWrapper\n",
    "\n",
    "def query_web(question):\n",
    "    search = BingSearchAPIWrapper()\n",
    "    return search.run(question)\n"
   ]
  },
  {
   "cell_type": "code",
   "execution_count": 2,
   "id": "681ec2dc",
   "metadata": {},
   "outputs": [
    {
     "data": {
      "text/plain": [
       "'<b>今天</b> 7天 8-15天 40天 雷达图 31日（<b>今天</b>） 晴 29 / 19℃ &lt;3级 1日（明天） 多云 30 / 21℃ &lt;3级 2日（后天） 小雨 28 / 20℃ &lt;3级 3日（周日） 小雨 28 / 19℃ &lt;3级 4日（周一） 多云 29 / 20℃ &lt;3级 5日（周二） 晴 30 / 21℃ &lt;3级 6日（周三） 晴 31 / 21℃ &lt;3级 分时段预报 生活指数 蓝天预报 <b>天气</b>资讯 全国开学<b>天气</b>地图出炉 北方大部秋高气爽广东福建开学“撞”台风 中国<b>天气</b>网 2023-08-31 11:20 湖南大部<b>今天</b>阳光在线 明晚起南部将有较强降雨过程局地暴雨 中国<b>天气</b>网湖南站 2023-08-31 11:10 省份： 城市：. 日出05:39. 北京. 日落18:51. 降水量. 相对湿度. 体感温度. 雷达图. 发布时间：08-30 12:00. 大部晴朗. Feels-Like Temperature. 体感温度 20°. Wind. 大风北 7 公里/小时. Humidity. 湿度 68%. UV Level. 紫外线指数 0（最大值11）. 【<b>北京天气</b>】<b>北京天气</b>预报,<b>天气</b>预报一周,<b>天气</b>预报15天查询 <b>北京</b> &gt; 城区 <b>今天</b> 7天 8-15天 更长时间 雷达图 29日（<b>今天</b>） 霾转晴 4 / -4℃ 微风 30日（明天） 晴 5 / -6℃ 3-4级转微风 31日（后天） 晴转多云 4 / -6℃ 微风 1日（周五） 多云转晴 4 / -4℃ 微风 2日（周六） 晴转多云 5 / -4℃ 3-4级转微风 3日（周日） 多云转晴 4 / -4℃ 微风 4日（周一） 晴转多云 4 / -2℃ 微风 分时段预报 生活指数 蓝天预报 周边地区 | 周边景点 2023-08-31 18:00更新 香河 / 7天天气预报（2023/08/30 08:00发布）. 星期三. 08/30. 多云. 无持续风向. 微风. 29℃. 19℃. 多云. <b>北京天气</b>网为您提供<b>北京天气</b>预报24小时详情、<b>北京</b>今日<b>天气</b>预报，包括今日实时温度、24小时降水概率、湿度、pm2.5、风向、紫外线强度等，助您放心出行。 36小时天气预报（2023-08-26 05:21:06北京市气象台发布）. 今天白天 最高气温26℃ 阴有阵雨或雷阵雨 2、3级 北转南风. 今天夜间 最低气温20℃ 阴有阵雨或雷阵雨 1、2级 南转北风. 明天白天 最高气温24℃ 阴有阵雨或雷阵雨 2、3级 偏北风. 08-26. 白天. 小雨. 26.0℃. &lt;微风. <b>北京天气</b>预报，及时准确发布中央气象台<b>天气</b>信息，便捷查询<b>北京</b>今日<b>天气</b>，<b>北京</b>周末<b>天气</b>，<b>北京</b>一周<b>天气</b>预报，<b>北京</b>15日<b>天气</b>预报，<b>北京</b>40日<b>天气</b>预报，<b>北京天气</b>预报还提供<b>北京</b>各区县的生活指数、健康指数、交通指数、旅游指数，及时发布<b>北京</b>气象预警信号、各类气象资讯。 <b>今天</b>白天<b>北京天气</b>仍是晴晒炎热模式，不过<b>今天</b>后半夜至22日将迎来一次降雨过程，明天为降雨主要时段。 <b>北京</b>市气象台预计，<b>今天</b>白天晴间多云，南风二三级，最高气温36℃；夜间晴转阴，大部地区有雷阵雨，西南部局地暴雨，南转东风二三级，最低气温24℃。 中国气象局提供权威的<b>天气</b> 预报、气象预警、卫星云图、雷达图等专业服务产品 主站首页 领导主站 ... 地址：<b>北京</b>市海淀区中关村南大街46 号 邮政编码：100081 京ICP备05004897号 京公网安备11040102700146号 相关链接 ...'"
      ]
     },
     "execution_count": 2,
     "metadata": {},
     "output_type": "execute_result"
    }
   ],
   "source": [
    "query_web(\"今天北京天气？\")"
   ]
  },
  {
   "cell_type": "markdown",
   "id": "36ed7650",
   "metadata": {},
   "source": [
    "# 调用链"
   ]
  },
  {
   "cell_type": "code",
   "execution_count": 8,
   "id": "073cc55c",
   "metadata": {},
   "outputs": [],
   "source": [
    "from langchain import PromptTemplate, OpenAI, LLMChain\n",
    "from langchain.chat_models import AzureChatOpenAI\n",
    "from langchain.chains import SequentialChain\n",
    "\n",
    "llm = AzureChatOpenAI(deployment_name = deployment, model_name=model, temperature=0, max_tokens=200)\n",
    "\n",
    "summarizing_prompt_template = \"\"\"\n",
    "Summarize the following content into a sentence less than 20 words:\n",
    "---\n",
    "{content}\n",
    "\n",
    "\"\"\"\n",
    "summarizing_chain = LLMChain(\n",
    "    llm=llm,\n",
    "    prompt=PromptTemplate.from_template(summarizing_prompt_template),\n",
    "    output_key = \"summary\"\n",
    ")\n",
    "\n",
    "translating_prompt_template = \"\"\"\n",
    "translate \"{summary}\" into Chinese:\n",
    "\n",
    "\"\"\"\n",
    "\n",
    "translating_chain = LLMChain(\n",
    "    llm = llm,\n",
    "    prompt=PromptTemplate.from_template(translating_prompt_template),\n",
    "    output_key = \"translated\"\n",
    ")\n",
    "\n",
    "overall_chain = SequentialChain(\n",
    "    chains=[summarizing_chain, translating_chain],\n",
    "    input_variables=[\"content\"],\n",
    "    output_variables=[ \"summary\",\"translated\"],\n",
    "    verbose=True\n",
    ")\n"
   ]
  },
  {
   "cell_type": "code",
   "execution_count": 9,
   "id": "778d79d2",
   "metadata": {},
   "outputs": [
    {
     "name": "stdout",
     "output_type": "stream",
     "text": [
      "\n",
      "\n",
      "\u001b[1m> Entering new SequentialChain chain...\u001b[0m\n",
      "\n",
      "\u001b[1m> Finished chain.\u001b[0m\n",
      "summary:LangChain is a framework for creating applications powered by language models, offering data-aware and agentic features, modular components, and off-the-shelf chains for easy customization.\n",
      "中文:\"LangChain是一个用于创建由语言模型驱动的应用程序的框架，提供数据感知和代理特性，模块化组件，以及现成的链条以便于定制。\"\n"
     ]
    }
   ],
   "source": [
    "res = overall_chain(\"\"\"\n",
    "LangChain is a framework for developing applications powered by language models. It enables applications that are:\n",
    "\n",
    "Data-aware: connect a language model to other sources of data\n",
    "Agentic: allow a language model to interact with its environment\n",
    "The main value props of LangChain are:\n",
    "\n",
    "Components: abstractions for working with language models, along with a collection of implementations for each abstraction. Components are modular and easy-to-use, whether you are using the rest of the LangChain framework or not\n",
    "Off-the-shelf chains: a structured assembly of components for accomplishing specific higher-level tasks\n",
    "Off-the-shelf chains make it easy to get started. For more complex applications and nuanced use-cases, components make it easy to customize existing chains or build new ones.\n",
    "\"\"\")\n",
    "\n",
    "print(\"summary:\"+res[\"summary\"])\n",
    "\n",
    "print(\"中文:\"+res[\"translated\"])"
   ]
  },
  {
   "cell_type": "code",
   "execution_count": null,
   "id": "1b00c5ce",
   "metadata": {},
   "outputs": [],
   "source": []
  }
 ],
 "metadata": {
  "kernelspec": {
   "display_name": "Python 3 (ipykernel)",
   "language": "python",
   "name": "python3"
  },
  "language_info": {
   "codemirror_mode": {
    "name": "ipython",
    "version": 3
   },
   "file_extension": ".py",
   "mimetype": "text/x-python",
   "name": "python",
   "nbconvert_exporter": "python",
   "pygments_lexer": "ipython3",
   "version": "3.11.4"
  }
 },
 "nbformat": 4,
 "nbformat_minor": 5
}
