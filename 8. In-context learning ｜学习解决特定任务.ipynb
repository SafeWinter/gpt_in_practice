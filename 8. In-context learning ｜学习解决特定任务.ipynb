{
 "cells": [
  {
   "cell_type": "code",
   "execution_count": 1,
   "id": "d62854d8",
   "metadata": {},
   "outputs": [],
   "source": [
    "deployment = \"gpt4\"\n",
    "model = \"gpt-4\""
   ]
  },
  {
   "cell_type": "markdown",
   "id": "8b9910a8",
   "metadata": {},
   "source": [
    "# Zero-shot Learning"
   ]
  },
  {
   "cell_type": "markdown",
   "id": "92d57ae9",
   "metadata": {},
   "source": [
    "## 意图识别"
   ]
  },
  {
   "cell_type": "code",
   "execution_count": 2,
   "id": "3247be3e",
   "metadata": {},
   "outputs": [],
   "source": [
    "import openai\n",
    "def recognize_intent(input):\n",
    "    response = openai.ChatCompletion.create(\n",
    "        engine=deployment, # engine = \"deployment_name\".\n",
    "        temperature = 0,\n",
    "        messages=[\n",
    "            {\"role\": \"system\", \"content\": \"\"\"\n",
    "              Recognize the intent from the user's input and format output as JSON string. \n",
    "            The output JSON string includes: \"intention\", \"paramters\" \"\"\"},\n",
    "            {\"role\": \"user\", \"content\": input}\n",
    "        ]\n",
    "      )\n",
    "    return response.choices[0].message.content"
   ]
  },
  {
   "cell_type": "code",
   "execution_count": 9,
   "id": "f3d8f7d0",
   "metadata": {},
   "outputs": [
    {
     "name": "stdout",
     "output_type": "stream",
     "text": [
      "{\"intention\": \"book_flight\", \"parameters\": {\"date\": \"8月19日\", \"departure\": \"北京\", \"destination\": \"上海\"}}\n"
     ]
    }
   ],
   "source": [
    "print(recognize_intent(\"订8月19日北京到上海的飞机\"))"
   ]
  },
  {
   "cell_type": "markdown",
   "id": "3c44bb89",
   "metadata": {},
   "source": [
    "## 情感分类"
   ]
  },
  {
   "cell_type": "code",
   "execution_count": 3,
   "id": "8308e5c4",
   "metadata": {},
   "outputs": [],
   "source": [
    "import openai\n",
    "\n",
    "def classify_sentiment(input):\n",
    "    response = openai.ChatCompletion.create(\n",
    "        engine=deployment, # engine = \"deployment_name\".\n",
    "        messages=[\n",
    "            {\"role\": \"system\", \"content\": \"\"\"\n",
    "             根据给定文字所表达的情感，将文字分为三类：正面 ,中立， 负面。请将用户给定的文字进行分类，并输出分类。\n",
    "             \"\"\"},   \n",
    "            {\"role\": \"user\", \"content\": input}\n",
    "        ],\n",
    "        temperature = 0.9, \n",
    "        max_tokens = 200\n",
    "      )\n",
    "    return response.choices[0].message.content"
   ]
  },
  {
   "cell_type": "code",
   "execution_count": 4,
   "id": "e7d934fa",
   "metadata": {},
   "outputs": [
    {
     "data": {
      "text/plain": [
       "'正面'"
      ]
     },
     "execution_count": 4,
     "metadata": {},
     "output_type": "execute_result"
    }
   ],
   "source": [
    "classify_sentiment(\"通过前面的课程我对大模型的认识提高了很多。\")"
   ]
  },
  {
   "cell_type": "code",
   "execution_count": 5,
   "id": "2f05ebe0",
   "metadata": {},
   "outputs": [
    {
     "data": {
      "text/plain": [
       "'中立'"
      ]
     },
     "execution_count": 5,
     "metadata": {},
     "output_type": "execute_result"
    }
   ],
   "source": [
    "classify_sentiment(\"今天是2023年8月16日\")"
   ]
  },
  {
   "cell_type": "code",
   "execution_count": 6,
   "id": "264180ac",
   "metadata": {},
   "outputs": [
    {
     "data": {
      "text/plain": [
       "'负面'"
      ]
     },
     "execution_count": 6,
     "metadata": {},
     "output_type": "execute_result"
    }
   ],
   "source": [
    "classify_sentiment(\"最近感觉很累。\")"
   ]
  },
  {
   "cell_type": "markdown",
   "id": "ec586f63",
   "metadata": {},
   "source": [
    "# Few-shot Learning"
   ]
  },
  {
   "cell_type": "code",
   "execution_count": 7,
   "id": "0d1c7894",
   "metadata": {},
   "outputs": [],
   "source": [
    "import openai\n",
    "def book_flight(input):\n",
    "    response = openai.ChatCompletion.create(\n",
    "        engine=deployment, # engine = \"deployment_name\".\n",
    "        temperature = 0,\n",
    "        messages=[\n",
    "            {\"role\": \"system\", \"content\": \"\"\"\n",
    "              通过用户描述，提取航班预订信息并以JSON格式输出. \n",
    "              以下是一些示例：\n",
    "              示例1\n",
    "              输入: \"订8月9日上海到北京的航班，上午出发\"\n",
    "              输出:\"{\"date\":\"0809\",\"dispatch_time\":\"6-12\",\"from\":\"shanghai\",\"to\":\"beijing\"}\"\n",
    "              \n",
    "              示例2\n",
    "              输入: \"订8月9日上海到北京的航班，下午出发\"\n",
    "              输出:\"{\"date\":\"0809\",\"dispatch_time\":\"12-18\",\"from\":\"shanghai\",\"to\":\"beijing\"}\"\n",
    "              \n",
    "              示例3\n",
    "              输入: \"订8月9日上海到北京的航班，晚上出发\"\n",
    "              输出:\"{\"date\":\"0809\",\"dispatch_time\":\"18-24\",\"from\":\"shanghai\",\"to\":\"beijing\"}\"\n",
    "              \n",
    "              示例4\n",
    "              输入: \"订8月9日上海到北京的航班\"\n",
    "              输出:\"{\"date\":\"0809\",\"dispatch_time\":\"unknown\",\"from\":\"shanghai\",\"to\":\"beijing\"}\"\n",
    "              \"\"\"},\n",
    "            {\"role\": \"user\", \"content\": input}\n",
    "        ]\n",
    "      )\n",
    "    return response.choices[0].message.content"
   ]
  },
  {
   "cell_type": "code",
   "execution_count": 8,
   "id": "35994fe6",
   "metadata": {},
   "outputs": [
    {
     "data": {
      "text/plain": [
       "'{\"date\":\"0903\",\"dispatch_time\":\"unknown\",\"from\":\"beijing\",\"to\":\"guangzhou\"}'"
      ]
     },
     "execution_count": 8,
     "metadata": {},
     "output_type": "execute_result"
    }
   ],
   "source": [
    "book_flight(\"预订9月3日北京到广州的航班\")"
   ]
  },
  {
   "cell_type": "code",
   "execution_count": 9,
   "id": "2b533386",
   "metadata": {},
   "outputs": [
    {
     "data": {
      "text/plain": [
       "'{\"date\":\"unknown\",\"dispatch_time\":\"unknown\",\"from\":\"beijing\",\"to\":\"guangzhou\"}'"
      ]
     },
     "execution_count": 9,
     "metadata": {},
     "output_type": "execute_result"
    }
   ],
   "source": [
    "book_flight(\"预订北京到广州的航班\")"
   ]
  },
  {
   "cell_type": "code",
   "execution_count": 10,
   "id": "b5a55119",
   "metadata": {},
   "outputs": [
    {
     "data": {
      "text/plain": [
       "'{\"date\":\"0903\",\"dispatch_time\":\"18-24\",\"from\":\"unknown\",\"to\":\"guangzhou\"}'"
      ]
     },
     "execution_count": 10,
     "metadata": {},
     "output_type": "execute_result"
    }
   ],
   "source": [
    "book_flight(\"预订9月3日夜里出发到广州的航班\")"
   ]
  },
  {
   "cell_type": "code",
   "execution_count": null,
   "id": "78af2f76",
   "metadata": {},
   "outputs": [],
   "source": []
  }
 ],
 "metadata": {
  "kernelspec": {
   "display_name": "Python 3 (ipykernel)",
   "language": "python",
   "name": "python3"
  },
  "language_info": {
   "codemirror_mode": {
    "name": "ipython",
    "version": 3
   },
   "file_extension": ".py",
   "mimetype": "text/x-python",
   "name": "python",
   "nbconvert_exporter": "python",
   "pygments_lexer": "ipython3",
   "version": "3.9.6"
  }
 },
 "nbformat": 4,
 "nbformat_minor": 5
}
