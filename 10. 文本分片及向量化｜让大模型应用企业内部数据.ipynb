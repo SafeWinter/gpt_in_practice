{
 "cells": [
  {
   "cell_type": "code",
   "execution_count": 1,
   "id": "0a395b45",
   "metadata": {},
   "outputs": [],
   "source": [
    "deployment = \"gpt4\""
   ]
  },
  {
   "cell_type": "markdown",
   "id": "4924645b",
   "metadata": {},
   "source": [
    "# 文本向量化（embedding)"
   ]
  },
  {
   "cell_type": "code",
   "execution_count": 11,
   "id": "04d04b72",
   "metadata": {},
   "outputs": [],
   "source": [
    "from langchain.embeddings.openai import OpenAIEmbeddings\n",
    "embedding = OpenAIEmbeddings(deployment=\"embedding\",chunk_size=1)\n",
    "sentence1 = \"我是一名软件工程师\"\n",
    "sentence2 = \"小张从事法律工作\"\n",
    "sentence3 = \"我是一名程序员\"\n",
    "\n",
    "embedding1 = embedding.embed_query(sentence1)\n",
    "embedding2 = embedding.embed_query(sentence2)\n",
    "embedding3 = embedding.embed_query(sentence3)"
   ]
  },
  {
   "cell_type": "code",
   "execution_count": 4,
   "id": "a9e09b2c",
   "metadata": {},
   "outputs": [
    {
     "name": "stdout",
     "output_type": "stream",
     "text": [
      "Defaulting to user installation because normal site-packages is not writeable\n",
      "Requirement already satisfied: numpy in /Users/mbj0593/Library/Python/3.9/lib/python/site-packages (1.23.5)\n",
      "\n",
      "\u001b[1m[\u001b[0m\u001b[34;49mnotice\u001b[0m\u001b[1;39;49m]\u001b[0m\u001b[39;49m A new release of pip is available: \u001b[0m\u001b[31;49m23.1.2\u001b[0m\u001b[39;49m -> \u001b[0m\u001b[32;49m23.2.1\u001b[0m\n",
      "\u001b[1m[\u001b[0m\u001b[34;49mnotice\u001b[0m\u001b[1;39;49m]\u001b[0m\u001b[39;49m To update, run: \u001b[0m\u001b[32;49m/Library/Developer/CommandLineTools/usr/bin/python3 -m pip install --upgrade pip\u001b[0m\n"
     ]
    }
   ],
   "source": [
    "!pip install numpy"
   ]
  },
  {
   "cell_type": "code",
   "execution_count": 12,
   "id": "dbf108f7",
   "metadata": {},
   "outputs": [
    {
     "name": "stdout",
     "output_type": "stream",
     "text": [
      "0.7987662070931474\n",
      "0.7992461569419606\n",
      "0.9592105615669977\n"
     ]
    }
   ],
   "source": [
    "import numpy as np\n",
    "print(np.dot(embedding1,embedding2))\n",
    "print(np.dot(embedding2,embedding3))\n",
    "print(np.dot(embedding1,embedding3))"
   ]
  },
  {
   "cell_type": "markdown",
   "id": "f668a883",
   "metadata": {},
   "source": [
    "# 处理大文本"
   ]
  },
  {
   "cell_type": "markdown",
   "id": "2a5ba937",
   "metadata": {},
   "source": [
    "## 切割"
   ]
  },
  {
   "cell_type": "code",
   "execution_count": 2,
   "id": "f84092e5",
   "metadata": {},
   "outputs": [],
   "source": [
    "def split_file_into_chunks(file_path, chunk_size):\n",
    "    chunks = []\n",
    "    with open(file_path, 'r') as file:\n",
    "        while True:\n",
    "            chunk = file.read(chunk_size)\n",
    "            if not chunk:\n",
    "                break\n",
    "            chunks.append(chunk)\n",
    "    return chunks"
   ]
  },
  {
   "cell_type": "code",
   "execution_count": 19,
   "id": "688f8247",
   "metadata": {},
   "outputs": [
    {
     "data": {
      "text/plain": [
       "['SpotMax\\n打破成本约束，释放云端创造力\\n\\n构建大规模云端系统的挑战\\n云计算平台“按需获取”的特性使得用户可以随时获取所需计算资源，实现计算资源与业务规模的动态匹配。云计算时代计算资源已不再是构建',\n",
       " '大规模系统的瓶颈，多数情况下成本成为了企业在构建大规模应用时的最大挑战。\\n\\n什么是 SpotMax?\\nSpotMax是一个利用弹性计算资源进行云端系统成本优化的体系（包括相关产品及解决方案）。Spot',\n",
       " 'Max旨在帮助用户使用云平台提供的弹性资源（如：AWS Spot Instance）在保证系统可用性，甚至获得更高可用性的前提下，实现成本的最大化节省。SpotMax来自于Mobvista降低成本的成',\n",
       " '功实践。\\nSpotMax由以下三个部分组成：\\nMaxArch：构建高可用性，高弹性（Resilient）架构，可以允许系统在不影响业务的前提下更充分的使用具有成本优势的高弹性计算资源（Spot Ins',\n",
       " 'tance）。\\nMaxChaos：利用混沌工程可以有效的评估系统的容错能力，其评估结果将成为MaxGroup自动规划合理弹性集群的依据。实现MaxArch的持续改进及评估。\\nMaxGroup：根据服务',\n",
       " '工作模式和运行特征，优化主机群集。智能弹性集群管理可以有效减少弹性计算资源波动（如：竞价实例的中断）带来的集群服务能力变化。并在面向成本优化构建的混合机型集群最大发挥集群不同机型的服务能力\\n以上各部分',\n",
       " '将以咨询服务和软件产品的形式提供。\\nMaxGroup 核心功能\\nMaxGroup可以根据服务的工作模式和运行时特征，对主机集群的组成提出优化建议（如预留实例、按需实例与Spot型实例的比率，Spot实',\n",
       " '例池等），并估算出此优化节省的成本。\\n用户确认优化集群方案后，自动实现新集群的构建或原有集群的构成的直接优化(安全替换现有集群的运行实例)。\\n通过对集群中Spot instance中断的预先补偿, 降',\n",
       " '低中断带来的服务器容量变化带来的服务能力影响，实现服务及数据的提前迁移。\\nMaxGroup将根据现货价格和终止率的变化持续优化集群结构。 \\n支持智能的动态负载均衡，由于集群为多机型混合，不同机型的处理',\n",
       " '能力有差异，智能的动态负载均衡将实现按处理能力的负载分配，实现集群资源利用的最大化。\\nMaxGroup可以根据工作负载变化模式（缓慢变化或急剧变化）和业务需求为系统自动伸缩选择合适的实例类型。 \\nMa',\n",
       " 'xGroup可以与Kubernetes和Consul无缝集成。实现容器环境下的中断预补偿机制。']"
      ]
     },
     "execution_count": 19,
     "metadata": {},
     "output_type": "execute_result"
    }
   ],
   "source": [
    "split_file_into_chunks(\"spotmax_intro.txt\",100)"
   ]
  },
  {
   "cell_type": "markdown",
   "id": "73529765",
   "metadata": {},
   "source": [
    "## 向量化 "
   ]
  },
  {
   "cell_type": "code",
   "execution_count": 3,
   "id": "60d79a6f",
   "metadata": {},
   "outputs": [],
   "source": [
    "from langchain.embeddings.openai import OpenAIEmbeddings\n",
    "\n",
    "def embed(chunks): \n",
    "    embedding = OpenAIEmbeddings(deployment=\"embedding\",chunk_size=1)\n",
    "    return [embedding.embed_query(chunk) for chunk in chunks]\n",
    "        "
   ]
  },
  {
   "cell_type": "code",
   "execution_count": 4,
   "id": "a629739b",
   "metadata": {},
   "outputs": [],
   "source": [
    "chunks = split_file_into_chunks(\"spotmax_intro.txt\",100)\n",
    "embeddeds = embed(chunks)"
   ]
  },
  {
   "cell_type": "markdown",
   "id": "4d10edb6",
   "metadata": {},
   "source": [
    "## 向量检索"
   ]
  },
  {
   "cell_type": "code",
   "execution_count": 5,
   "id": "10087fbf",
   "metadata": {},
   "outputs": [],
   "source": [
    "def find_k_largest_indices(input_list, k):\n",
    "    sorted_indices = sorted(range(len(input_list)), key=lambda i: input_list[i], reverse=True)\n",
    "    return sorted_indices[:k]\n",
    "\n",
    "def search(chunks,embeddeds,top_k, txt):\n",
    "    embedding = OpenAIEmbeddings(deployment=\"embedding\",chunk_size=1)\n",
    "    embedded_txt = embedding.embed_query(txt)\n",
    "    distances = [np.dot(embedded_txt,embedded) for embedded in embeddeds]\n",
    "    ret_idx = find_k_largest_indices(distances, top_k)\n",
    "    return [chunks[i] for i in ret_idx]"
   ]
  },
  {
   "cell_type": "code",
   "execution_count": 29,
   "id": "187d08ff",
   "metadata": {},
   "outputs": [
    {
     "data": {
      "text/plain": [
       "['工作模式和运行特征，优化主机群集。智能弹性集群管理可以有效减少弹性计算资源波动（如：竞价实例的中断）带来的集群服务能力变化。并在面向成本优化构建的混合机型集群最大发挥集群不同机型的服务能力\\n以上各部分',\n",
       " '功实践。\\nSpotMax由以下三个部分组成：\\nMaxArch：构建高可用性，高弹性（Resilient）架构，可以允许系统在不影响业务的前提下更充分的使用具有成本优势的高弹性计算资源（Spot Ins']"
      ]
     },
     "execution_count": 29,
     "metadata": {},
     "output_type": "execute_result"
    }
   ],
   "source": [
    "search(chunks,embeddeds,2, \"提高系统可用性\")"
   ]
  },
  {
   "cell_type": "code",
   "execution_count": 30,
   "id": "6c6a46ac",
   "metadata": {},
   "outputs": [
    {
     "data": {
      "text/plain": [
       "['SpotMax\\n打破成本约束，释放云端创造力\\n\\n构建大规模云端系统的挑战\\n云计算平台“按需获取”的特性使得用户可以随时获取所需计算资源，实现计算资源与业务规模的动态匹配。云计算时代计算资源已不再是构建',\n",
       " '大规模系统的瓶颈，多数情况下成本成为了企业在构建大规模应用时的最大挑战。\\n\\n什么是 SpotMax?\\nSpotMax是一个利用弹性计算资源进行云端系统成本优化的体系（包括相关产品及解决方案）。Spot']"
      ]
     },
     "execution_count": 30,
     "metadata": {},
     "output_type": "execute_result"
    }
   ],
   "source": [
    "search(chunks,embeddeds,2, \"省钱\")"
   ]
  },
  {
   "cell_type": "code",
   "execution_count": 31,
   "id": "16649e33",
   "metadata": {},
   "outputs": [
    {
     "data": {
      "text/plain": [
       "['能力有差异，智能的动态负载均衡将实现按处理能力的负载分配，实现集群资源利用的最大化。\\nMaxGroup可以根据工作负载变化模式（缓慢变化或急剧变化）和业务需求为系统自动伸缩选择合适的实例类型。 \\nMa',\n",
       " '低中断带来的服务器容量变化带来的服务能力影响，实现服务及数据的提前迁移。\\nMaxGroup将根据现货价格和终止率的变化持续优化集群结构。 \\n支持智能的动态负载均衡，由于集群为多机型混合，不同机型的处理']"
      ]
     },
     "execution_count": 31,
     "metadata": {},
     "output_type": "execute_result"
    }
   ],
   "source": [
    "search(chunks,embeddeds,2, \"什么是MaxGroup\")"
   ]
  },
  {
   "cell_type": "code",
   "execution_count": 8,
   "id": "32755e0c",
   "metadata": {},
   "outputs": [],
   "source": [
    "import openai\n",
    "import numpy as np\n",
    "def anwser_question_with_doc(question, chunks, embeddeds):\n",
    "    relevent_chunks = search(chunks,embeddeds,2, question)\n",
    "    prompt = \"\"\"\n",
    "    仅通过总结以下的文字片段回答用户问题, 注意保持回答的语言通顺（字数在30字以内）\n",
    "    --- \n",
    "    \"\"\"\n",
    "    for rchunks in relevent_chunks:\n",
    "        prompt = prompt + \"\\n'\" + rchunks + \"'\"\n",
    "    \n",
    "    response = openai.ChatCompletion.create(\n",
    "    engine=deployment, # engine = \"deployment_name\".\n",
    "    messages=[\n",
    "            {\"role\": \"system\", \"content\": prompt},   \n",
    "            {\"role\": \"user\", \"content\": question}\n",
    "        ],\n",
    "        temperature = 0.9, \n",
    "        max_tokens = 200\n",
    "   )\n",
    "    return response.choices[0].message.content"
   ]
  },
  {
   "cell_type": "code",
   "execution_count": 77,
   "id": "cebee7a1",
   "metadata": {},
   "outputs": [
    {
     "name": "stdout",
     "output_type": "stream",
     "text": [
      "通过智能弹性集群管理优化主机群集，动态负载均衡及自动伸缩选择合适的实例类型，可有效提高系统的可用性。\n"
     ]
    }
   ],
   "source": [
    "print(anwser_question_with_doc(\"如何提高可用性\", chunks,embeddeds))"
   ]
  },
  {
   "cell_type": "code",
   "execution_count": 78,
   "id": "9fac75f7",
   "metadata": {},
   "outputs": [
    {
     "name": "stdout",
     "output_type": "stream",
     "text": [
      "SpotMax是一个利用弹性计算资源进行云端系统成本优化的体系，包括相关产品及解决方案。\n"
     ]
    }
   ],
   "source": [
    "print(anwser_question_with_doc(\"SpotMax是什么\", chunks,embeddeds))"
   ]
  },
  {
   "cell_type": "code",
   "execution_count": 10,
   "id": "f9db950d",
   "metadata": {},
   "outputs": [
    {
     "name": "stdout",
     "output_type": "stream",
     "text": [
      "通过对集群中Spot instance中断的预先补偿，可以防止其中断。\n"
     ]
    }
   ],
   "source": [
    "print(anwser_question_with_doc(\"如何防止spot instance中断\", chunks,embeddeds))"
   ]
  },
  {
   "cell_type": "code",
   "execution_count": null,
   "id": "3040d24c",
   "metadata": {},
   "outputs": [],
   "source": []
  }
 ],
 "metadata": {
  "kernelspec": {
   "display_name": "Python 3 (ipykernel)",
   "language": "python",
   "name": "python3"
  },
  "language_info": {
   "codemirror_mode": {
    "name": "ipython",
    "version": 3
   },
   "file_extension": ".py",
   "mimetype": "text/x-python",
   "name": "python",
   "nbconvert_exporter": "python",
   "pygments_lexer": "ipython3",
   "version": "3.9.6"
  }
 },
 "nbformat": 4,
 "nbformat_minor": 5
}
