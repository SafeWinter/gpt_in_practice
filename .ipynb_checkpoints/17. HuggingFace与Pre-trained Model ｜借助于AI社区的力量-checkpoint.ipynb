{
 "cells": [
  {
   "cell_type": "code",
   "execution_count": 2,
   "id": "5c1840e8",
   "metadata": {},
   "outputs": [],
   "source": [
    "deployment = \"gpt4\"\n",
    "model = \"gpt-4\""
   ]
  },
  {
   "cell_type": "code",
   "execution_count": 1,
   "id": "7ba8ecdc",
   "metadata": {},
   "outputs": [
    {
     "name": "stdout",
     "output_type": "stream",
     "text": [
      "Requirement already satisfied: transformers in /Users/mbj0593/anaconda3/lib/python3.11/site-packages (4.29.2)\n",
      "Requirement already satisfied: filelock in /Users/mbj0593/anaconda3/lib/python3.11/site-packages (from transformers) (3.9.0)\n",
      "Requirement already satisfied: huggingface-hub<1.0,>=0.14.1 in /Users/mbj0593/anaconda3/lib/python3.11/site-packages (from transformers) (0.15.1)\n",
      "Requirement already satisfied: numpy>=1.17 in /Users/mbj0593/anaconda3/lib/python3.11/site-packages (from transformers) (1.24.3)\n",
      "Requirement already satisfied: packaging>=20.0 in /Users/mbj0593/anaconda3/lib/python3.11/site-packages (from transformers) (23.0)\n",
      "Requirement already satisfied: pyyaml>=5.1 in /Users/mbj0593/anaconda3/lib/python3.11/site-packages (from transformers) (6.0)\n",
      "Requirement already satisfied: regex!=2019.12.17 in /Users/mbj0593/anaconda3/lib/python3.11/site-packages (from transformers) (2022.7.9)\n",
      "Requirement already satisfied: requests in /Users/mbj0593/anaconda3/lib/python3.11/site-packages (from transformers) (2.31.0)\n",
      "Requirement already satisfied: tokenizers!=0.11.3,<0.14,>=0.11.1 in /Users/mbj0593/anaconda3/lib/python3.11/site-packages (from transformers) (0.13.2)\n",
      "Requirement already satisfied: tqdm>=4.27 in /Users/mbj0593/anaconda3/lib/python3.11/site-packages (from transformers) (4.65.0)\n",
      "Requirement already satisfied: fsspec in /Users/mbj0593/anaconda3/lib/python3.11/site-packages (from huggingface-hub<1.0,>=0.14.1->transformers) (2023.4.0)\n",
      "Requirement already satisfied: typing-extensions>=3.7.4.3 in /Users/mbj0593/anaconda3/lib/python3.11/site-packages (from huggingface-hub<1.0,>=0.14.1->transformers) (4.7.1)\n",
      "Requirement already satisfied: charset-normalizer<4,>=2 in /Users/mbj0593/anaconda3/lib/python3.11/site-packages (from requests->transformers) (2.0.4)\n",
      "Requirement already satisfied: idna<4,>=2.5 in /Users/mbj0593/anaconda3/lib/python3.11/site-packages (from requests->transformers) (3.4)\n",
      "Requirement already satisfied: urllib3<3,>=1.21.1 in /Users/mbj0593/anaconda3/lib/python3.11/site-packages (from requests->transformers) (1.26.16)\n",
      "Requirement already satisfied: certifi>=2017.4.17 in /Users/mbj0593/anaconda3/lib/python3.11/site-packages (from requests->transformers) (2023.7.22)\n"
     ]
    }
   ],
   "source": [
    "!pip install transformers"
   ]
  },
  {
   "cell_type": "code",
   "execution_count": 9,
   "id": "c512593a",
   "metadata": {},
   "outputs": [],
   "source": [
    "# Use a pipeline as a high-level helper\n",
    "from transformers import pipeline\n",
    "\n",
    "pipe = pipeline(\"image-to-text\", model=\"Salesforce/blip-image-captioning-large\")"
   ]
  },
  {
   "cell_type": "code",
   "execution_count": 10,
   "id": "d44765ee",
   "metadata": {},
   "outputs": [],
   "source": [
    "def caption(input):\n",
    "    output = pipe(input)\n",
    "    return output[0]['generated_text']"
   ]
  },
  {
   "cell_type": "code",
   "execution_count": 11,
   "id": "04ddde24",
   "metadata": {},
   "outputs": [
    {
     "data": {
      "text/html": [
       "<img src=\"https://free-images.com/md/7687/blue_jay_bird_nature.jpg\"/>"
      ],
      "text/plain": [
       "<IPython.core.display.Image object>"
      ]
     },
     "metadata": {},
     "output_type": "display_data"
    },
    {
     "name": "stderr",
     "output_type": "stream",
     "text": [
      "/Users/mbj0593/anaconda3/lib/python3.11/site-packages/transformers/generation/utils.py:1346: UserWarning: Using `max_length`'s default (20) to control the generation length. This behaviour is deprecated and will be removed from the config in v5 of Transformers -- we recommend using `max_new_tokens` to control the maximum length of the generation.\n",
      "  warnings.warn(\n"
     ]
    },
    {
     "name": "stdout",
     "output_type": "stream",
     "text": [
      "araffy blue jay sitting on a tree stump in the winter\n"
     ]
    }
   ],
   "source": [
    "from IPython.display import Image\n",
    "image_url = \"https://free-images.com/md/7687/blue_jay_bird_nature.jpg\"\n",
    "display(Image(url=image_url)) \n",
    "print(caption(image_url))"
   ]
  },
  {
   "cell_type": "code",
   "execution_count": 12,
   "id": "394f2173",
   "metadata": {},
   "outputs": [],
   "source": [
    "import openai\n",
    "def write_a_story(request):\n",
    "    response = openai.ChatCompletion.create(\n",
    "        engine=deployment, # engine = \"deployment_name\".\n",
    "        temperature = 0,\n",
    "        messages=[\n",
    "            {\"role\": \"system\", \"content\": \"\"\"\n",
    "              You are a novel writer, please, write a small story (about 200 words) in Chinese according to user input,\n",
    "              \"\"\",\n",
    "            },\n",
    "            {\"role\": \"user\", \"content\": request}\n",
    "        ]\n",
    "      )\n",
    "    return response.choices[0].message.content"
   ]
  },
  {
   "cell_type": "code",
   "execution_count": 13,
   "id": "9679742b",
   "metadata": {},
   "outputs": [
    {
     "data": {
      "text/html": [
       "<img src=\"https://free-images.com/md/7687/blue_jay_bird_nature.jpg\"/>"
      ],
      "text/plain": [
       "<IPython.core.display.Image object>"
      ]
     },
     "metadata": {},
     "output_type": "display_data"
    },
    {
     "name": "stdout",
     "output_type": "stream",
     "text": [
      "在冬季的某一天，一只名叫阿拉菲的蓝松鸦坐在树桩上。它的羽毛在雪白的背景下显得格外醒目，蓝得如同深海一般神秘。阿拉菲看着周围的世界，一片冰冷的寂静。\n",
      "\n",
      "它的眼中反射出落雪的景象，每一片雪花都像是天空的诗篇。阿拉菲并不感到寒冷，因为它的羽毛就像一件厚厚的羽绒服，给它带来了温暖。\n",
      "\n",
      "突然，一阵风吹过，树桩摇摇欲坠。阿拉菲并不害怕，它展开翅膀，准备飞翔。就在这时，一束阳光穿透了乌云，照在阿拉菲的身上。它的羽毛在阳光下闪闪发光，美丽得如同一颗蓝色的宝石。\n",
      "\n",
      "阿拉菲振翅高飞，消失在了阳光和雪花交织的天空中。它的身影在冬日的寂静中留下了一道美丽的蓝色轨迹，仿佛是一首未完的冬日赞歌。\n"
     ]
    }
   ],
   "source": [
    "image_url = \"https://free-images.com/md/7687/blue_jay_bird_nature.jpg\"\n",
    "display(Image(url=image_url)) \n",
    "print(write_a_story(caption(image_url)))"
   ]
  },
  {
   "cell_type": "code",
   "execution_count": 20,
   "id": "6b169ba1",
   "metadata": {},
   "outputs": [
    {
     "name": "stdout",
     "output_type": "stream",
     "text": [
      "\n",
      "\n",
      "\u001b[1m> Entering new LLMChain chain...\u001b[0m\n",
      "Prompt after formatting:\n",
      "\u001b[32;1m\u001b[1;3mA story about 'araffy blue jay sitting on a tree stump in the winter'. Here's the story: \u001b[0m\n",
      "\n",
      "\u001b[1m> Finished chain.\u001b[0m\n",
      " The blue jay was sitting on a tree stump in the winter. The blue jay was sitting\n"
     ]
    }
   ],
   "source": [
    "from langchain import HuggingFaceHub, LLMChain\n",
    "from langchain.prompts import PromptTemplate\n",
    "\n",
    "llm = HuggingFaceHub(repo_id=\"bigscience/bloom\")\n",
    "prompt = PromptTemplate(\n",
    "    input_variables = [\"hints\"],\n",
    "    template = \"A story about '{hints}'. Here's the story: \"\n",
    ")\n",
    "chain = LLMChain(prompt=prompt, llm=llm, verbose=True)\n",
    "print(chain.run(\"araffy blue jay sitting on a tree stump in the winter\"))"
   ]
  },
  {
   "cell_type": "code",
   "execution_count": null,
   "id": "3f7313e3",
   "metadata": {},
   "outputs": [],
   "source": []
  }
 ],
 "metadata": {
  "kernelspec": {
   "display_name": "Python 3 (ipykernel)",
   "language": "python",
   "name": "python3"
  },
  "language_info": {
   "codemirror_mode": {
    "name": "ipython",
    "version": 3
   },
   "file_extension": ".py",
   "mimetype": "text/x-python",
   "name": "python",
   "nbconvert_exporter": "python",
   "pygments_lexer": "ipython3",
   "version": "3.11.4"
  }
 },
 "nbformat": 4,
 "nbformat_minor": 5
}
