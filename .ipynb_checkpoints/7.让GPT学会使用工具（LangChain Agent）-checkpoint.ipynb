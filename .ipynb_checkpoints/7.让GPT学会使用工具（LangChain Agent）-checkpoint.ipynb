{
 "cells": [
  {
   "cell_type": "code",
   "execution_count": 1,
   "id": "311116e8",
   "metadata": {},
   "outputs": [],
   "source": [
    "deployment = \"gpt4\"\n",
    "model = \"gpt-4\""
   ]
  },
  {
   "cell_type": "code",
   "execution_count": 2,
   "id": "d86dadbe",
   "metadata": {},
   "outputs": [],
   "source": [
    "from langchain import PromptTemplate, OpenAI, LLMChain\n",
    "from langchain.chains import LLMRequestsChain\n",
    "from langchain.chat_models import AzureChatOpenAI\n",
    "\n",
    "llm = AzureChatOpenAI(deployment_name = deployment, model_name=model, temperature=0, max_tokens=200)\n",
    "\n",
    "def query_baidu(question):\n",
    "      print(f\"Question:{question}\")\n",
    "      template = \"\"\"Between >>> and <<< are the raw search result text from google.\n",
    "      Extract the answer to the question '{query}' or say \"not found\" if the information is not contained.\n",
    "      Use the format\n",
    "      Extracted:<answer or \"not found\">\n",
    "      >>> {requests_result} <<<\n",
    "      Extracted:\"\"\"\n",
    "\n",
    "      PROMPT = PromptTemplate(\n",
    "          input_variables=[\"query\", \"requests_result\"],\n",
    "          template=template,\n",
    "      )\n",
    "\n",
    "      inputs = {\n",
    "          \"query\": question,\n",
    "          \"url\": \"http://www.baidu.com/s?wd=\" + question.replace(\" \", \"+\")\n",
    "      }\n",
    "      requests_chain = LLMRequestsChain(llm_chain = LLMChain(llm=llm, prompt=PROMPT), output_key=\"query_info\")\n",
    "      res = requests_chain.run(inputs)\n",
    "      print(f\"Result:{res}\")\n",
    "      return res"
   ]
  },
  {
   "cell_type": "code",
   "execution_count": 3,
   "id": "91246f60",
   "metadata": {},
   "outputs": [],
   "source": [
    "def get_current_cluster_state(cluster_name):\n",
    "    return  \"\"\"ERROR: Failed to pull image \"chaocai/docker/dsp:latest\"\"\""
   ]
  },
  {
   "cell_type": "code",
   "execution_count": 4,
   "id": "42901684",
   "metadata": {},
   "outputs": [],
   "source": [
    "funcs = {\n",
    "    \"get_current_cluster_state\": get_current_cluster_state,\n",
    "    \"query_baidu\":query_baidu,\n",
    "}"
   ]
  },
  {
   "cell_type": "code",
   "execution_count": 5,
   "id": "191e2635",
   "metadata": {},
   "outputs": [],
   "source": [
    "import openai\n",
    "import json\n",
    "openai.api_version = \"2023-07-01-preview\"\n",
    "def run(input):\n",
    "    msg=[{\"role\":\"user\",\"content\":input}]\n",
    "    ret = run_conversation(msg)\n",
    "    return ret[\"content\"] \n",
    "\n",
    "def run_conversation(msg):\n",
    "    response = openai.ChatCompletion.create(\n",
    "        engine=deployment,\n",
    "        model=model,\n",
    "        messages=msg,\n",
    "        functions=[\n",
    "     \n",
    "            {\n",
    "                \"name\": \"get_current_cluster_state\",\n",
    "                \"description\": \"Get the current state in a given cluster\",\n",
    "                \"parameters\": {\n",
    "                    \"type\": \"object\",\n",
    "                    \"properties\": {\n",
    "                        \"cluster_name\": {\n",
    "                            \"type\": \"string\",\n",
    "                            \"description\": \"the name of the cluster\",\n",
    "                        },\n",
    "                        \n",
    "                    },\n",
    "                    \"required\": [\"cluster_name\"],\n",
    "                },\n",
    "            },\n",
    "     \n",
    "            {\n",
    "                \"name\": \"query_baidu\",\n",
    "                \"description\": \"Get a realtime info/unknown info from web\",\n",
    "                \"parameters\": {\n",
    "                    \"type\": \"object\",\n",
    "                    \"properties\": {\n",
    "                        \"question\": {\n",
    "                            \"type\": \"string\",\n",
    "                            \"description\": \"the query/question\",\n",
    "                        },\n",
    "                        \n",
    "                    },\n",
    "                    \"required\": [\"query\"],\n",
    "                },\n",
    "            }\n",
    "        ],\n",
    "        function_call=\"auto\",\n",
    "    )\n",
    "\n",
    "    message =  response[\"choices\"][0][\"message\"]\n",
    "    \n",
    "    # 如果不需要调用function，则直接返回结果\n",
    "    if not message.get(\"function_call\"):\n",
    "        return message\n",
    "    \n",
    "    # 从\n",
    "    function_name = message[\"function_call\"][\"name\"]\n",
    "    function_args = json.loads(message[\"function_call\"][\"arguments\"])\n",
    "    print(function_args)\n",
    "    res = funcs[function_name](function_args[\"question\"])\n",
    "    message[\"content\"]=None\n",
    "    msg.append(message)\n",
    "    msg.append({\n",
    "                \"role\": \"function\",\n",
    "                \"name\": function_name,\n",
    "                \"content\": res,\n",
    "            })\n",
    "    return run_conversation(msg)"
   ]
  },
  {
   "cell_type": "code",
   "execution_count": 10,
   "id": "0aed4c3e",
   "metadata": {},
   "outputs": [
    {
     "name": "stdout",
     "output_type": "stream",
     "text": [
      "{'question': '北京今天的气温'}\n",
      "Question:北京今天的气温\n",
      "Result:31°\n"
     ]
    },
    {
     "data": {
      "text/plain": [
       "'今天北京的气温在31°左右，建议穿短袖、短裤、裙子等清凉的衣物。同时，由于紫外线较强，外出时可能需要涂抹防晒霜。'"
      ]
     },
     "execution_count": 10,
     "metadata": {},
     "output_type": "execute_result"
    }
   ],
   "source": [
    "run(\"北京今天穿什么合适？\")"
   ]
  },
  {
   "cell_type": "code",
   "execution_count": 7,
   "id": "93e34e3a",
   "metadata": {},
   "outputs": [],
   "source": [
    "from langchain.agents import initialize_agent, Tool\n",
    "from langchain.chat_models import AzureChatOpenAI\n",
    "from langchain.chains import LLMRequestsChain\n",
    "from langchain.chains import LLMChain\n",
    "from langchain.prompts import PromptTemplate\n",
    "import time\n"
   ]
  },
  {
   "cell_type": "code",
   "execution_count": 12,
   "id": "d991bdb7",
   "metadata": {},
   "outputs": [],
   "source": [
    "tools = [\n",
    "    Tool(\n",
    "        name = \"Get current info\",func=query_baidu,\n",
    "        description=\"\"\"invoke it for when you need to answer questions about current info.\n",
    "             And the input should be a search query.\"\"\"),\n",
    "    Tool(\n",
    "        name=\"Get current cluster state\", func=get_current_cluster_state,\n",
    "        description=\"\"\"invoke it for when you need to get the current state in a given cluster, \n",
    "        And the input should be service name.\"\"\")\n",
    "]\n",
    "\n",
    "agent = initialize_agent(tools, llm, agent=\"zero-shot-react-description\", max_iterations=3, verbose=True)"
   ]
  },
  {
   "cell_type": "code",
   "execution_count": 13,
   "id": "bb69074e",
   "metadata": {},
   "outputs": [
    {
     "name": "stdout",
     "output_type": "stream",
     "text": [
      "\n",
      "\n",
      "\u001b[1m> Entering new AgentExecutor chain...\u001b[0m\n",
      "\u001b[32;1m\u001b[1;3m我需要获取当前的北京天气信息，以便给出合适的穿衣建议。\n",
      "Action: Get current info\n",
      "Action Input: 北京今天的天气\u001b[0mQuestion:北京今天的天气\n",
      "Result:34°晴南风2级23~34°C\n",
      "\n",
      "Observation: \u001b[36;1m\u001b[1;3m34°晴南风2级23~34°C\u001b[0m\n",
      "Thought:\u001b[32;1m\u001b[1;3m根据观察到的天气信息，北京今天的温度在23到34度之间，天气晴朗，风力不大。这样的天气适合穿轻薄的衣物。\n",
      "Final Answer: 今天北京的天气较热，建议穿短袖、短裤或轻薄的衣物。\u001b[0m\n",
      "\n",
      "\u001b[1m> Finished chain.\u001b[0m\n"
     ]
    },
    {
     "data": {
      "text/plain": [
       "'今天北京的天气较热，建议穿短袖、短裤或轻薄的衣物。'"
      ]
     },
     "execution_count": 13,
     "metadata": {},
     "output_type": "execute_result"
    }
   ],
   "source": [
    "agent.run(\"北京今天穿什么合适？\")"
   ]
  },
  {
   "cell_type": "code",
   "execution_count": 11,
   "id": "fef8cef5",
   "metadata": {},
   "outputs": [
    {
     "name": "stdout",
     "output_type": "stream",
     "text": [
      "\n",
      "\n",
      "\u001b[1m> Entering new AgentExecutor chain...\u001b[0m\n",
      "\u001b[32;1m\u001b[1;3m首先，我需要了解ADX集群的当前状态。\n",
      "Action: Get current cluster state\n",
      "Action Input: ADX集群\u001b[0m\n",
      "Observation: \u001b[33;1m\u001b[1;3mERROR: Failed to pull image \"chaocai/docker/dsp:latest\u001b[0m\n",
      "Thought:\u001b[32;1m\u001b[1;3m看来ADX集群的问题在于无法拉取最新的docker镜像。我需要查找如何解决这个问题。\n",
      "Action: Get current info\n",
      "Action Input: 如何修复无法拉取docker镜像的问题\u001b[0mQuestion:如何修复无法拉取docker镜像的问题\n",
      "Result:not found\n",
      "\n",
      "Observation: \u001b[36;1m\u001b[1;3mnot found\u001b[0m\n",
      "Thought:\u001b[32;1m\u001b[1;3m我没有找到具体的解决方案，但通常，无法拉取docker镜像的问题可能是由于网络问题或者docker仓库的问题。我可以建议一些可能的解决步骤。\n",
      "Final Answer: 无法拉取docker镜像的问题可能是由于网络问题或者docker仓库的问题。你可以尝试以下步骤来解决这个问题：\n",
      "1. 检查你的网络连接。\n",
      "2. 确保你有权限访问docker仓库。\n",
      "3. 检查docker仓库是否存在问题或者是否有最新的镜像。\n",
      "4. 如果以上步骤都无法解决问题，你可能需要联系docker仓库的管理员或者寻求专业的技术支持。\u001b[0m\n",
      "\n",
      "\u001b[1m> Finished chain.\u001b[0m\n"
     ]
    },
    {
     "data": {
      "text/plain": [
       "'无法拉取docker镜像的问题可能是由于网络问题或者docker仓库的问题。你可以尝试以下步骤来解决这个问题：\\n1. 检查你的网络连接。\\n2. 确保你有权限访问docker仓库。\\n3. 检查docker仓库是否存在问题或者是否有最新的镜像。\\n4. 如果以上步骤都无法解决问题，你可能需要联系docker仓库的管理员或者寻求专业的技术支持。'"
      ]
     },
     "execution_count": 11,
     "metadata": {},
     "output_type": "execute_result"
    }
   ],
   "source": [
    "agent.run(\"如何修复的ADX集群？\")"
   ]
  },
  {
   "cell_type": "code",
   "execution_count": null,
   "id": "3fad7a4e",
   "metadata": {},
   "outputs": [],
   "source": [
    "from langchain.utilities.wolfram_alpha import WolframAlphaAPIWrapper\n",
    "def wolfram_alpha(question):\n",
    "    wolfram = WolframAlphaAPIWrapper()\n",
    "    return wolfram.run(question)"
   ]
  }
 ],
 "metadata": {
  "kernelspec": {
   "display_name": "Python 3 (ipykernel)",
   "language": "python",
   "name": "python3"
  },
  "language_info": {
   "codemirror_mode": {
    "name": "ipython",
    "version": 3
   },
   "file_extension": ".py",
   "mimetype": "text/x-python",
   "name": "python",
   "nbconvert_exporter": "python",
   "pygments_lexer": "ipython3",
   "version": "3.9.6"
  }
 },
 "nbformat": 4,
 "nbformat_minor": 5
}
