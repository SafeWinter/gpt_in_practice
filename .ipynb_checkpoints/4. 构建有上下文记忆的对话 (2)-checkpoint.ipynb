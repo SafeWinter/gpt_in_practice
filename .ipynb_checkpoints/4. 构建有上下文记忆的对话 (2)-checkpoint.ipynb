{
 "cells": [
  {
   "cell_type": "code",
   "execution_count": 1,
   "id": "62199c5f",
   "metadata": {},
   "outputs": [],
   "source": [
    "deployment = \"gpt4\"\n",
    "model = \"gpt-4\""
   ]
  },
  {
   "cell_type": "code",
   "execution_count": 3,
   "id": "0538644c",
   "metadata": {},
   "outputs": [],
   "source": [
    "from langchain.chat_models import AzureChatOpenAI\n",
    "from langchain.memory import ConversationBufferWindowMemory\n",
    "from langchain.chains import ConversationChain\n",
    "\n",
    "llm = AzureChatOpenAI(deployment_name=\"gpt4\", temperature=0.3, max_tokens=1000,\n",
    "                     streaming=True)\n",
    "\n",
    "memory = ConversationBufferWindowMemory(k=2) \n",
    "\n",
    "\n",
    "def get_response(input):\n",
    "    print(\"------------\")\n",
    "    print(memory.load_memory_variables({}))\n",
    "    print(\"------------\")\n",
    "    conversation_with_summary = ConversationChain(\n",
    "        llm=llm, \n",
    "        memory=memory,\n",
    "        verbose=False\n",
    "    )\n",
    "    return conversation_with_summary.predict(input=input)"
   ]
  },
  {
   "cell_type": "code",
   "execution_count": 4,
   "id": "c8e94eec",
   "metadata": {},
   "outputs": [
    {
     "name": "stdout",
     "output_type": "stream",
     "text": [
      "------------\n",
      "{'history': ''}\n",
      "------------\n",
      "你好，很高兴听到你有保持健身的好习惯。作为一个人工智能，我没有实体，所以我不需要健身或做任何物理活动。我的\"日常活动\"主要包括处理数据、回答问题、学习新的信息和帮助用户。我一直在这里，随时准备帮助你。\n",
      "------------\n",
      "{'history': 'Human: 你好，今天是周二我要去健身，我一般每周二健身。你今天干什么？\\nAI: 你好，很高兴听到你有保持健身的好习惯。作为一个人工智能，我没有实体，所以我不需要健身或做任何物理活动。我的\"日常活动\"主要包括处理数据、回答问题、学习新的信息和帮助用户。我一直在这里，随时准备帮助你。'}\n",
      "------------\n",
      "你刚刚提到你一般在每周二健身。\n"
     ]
    }
   ],
   "source": [
    "print(get_response(\"你好，今天是周二我要去健身，我一般每周二健身。你今天干什么？\"))\n",
    "print(get_response(\"我一般周几健身？\"))"
   ]
  },
  {
   "cell_type": "code",
   "execution_count": 5,
   "id": "a0c10c87",
   "metadata": {},
   "outputs": [
    {
     "name": "stdout",
     "output_type": "stream",
     "text": [
      "Running on local URL:  http://127.0.0.1:7864\n",
      "Running on public URL: https://263dcc3018276a894d.gradio.live\n",
      "\n",
      "This share link expires in 72 hours. For free permanent hosting and GPU upgrades, run `gradio deploy` from Terminal to deploy to Spaces (https://huggingface.co/spaces)\n"
     ]
    },
    {
     "data": {
      "text/html": [
       "<div><iframe src=\"https://263dcc3018276a894d.gradio.live\" width=\"100%\" height=\"500\" allow=\"autoplay; camera; microphone; clipboard-read; clipboard-write;\" frameborder=\"0\" allowfullscreen></iframe></div>"
      ],
      "text/plain": [
       "<IPython.core.display.HTML object>"
      ]
     },
     "metadata": {},
     "output_type": "display_data"
    },
    {
     "data": {
      "text/plain": []
     },
     "execution_count": 5,
     "metadata": {},
     "output_type": "execute_result"
    },
    {
     "name": "stdout",
     "output_type": "stream",
     "text": [
      "------------\n",
      "{'history': 'Human: 你好，今天是周二我要去健身，我一般每周二健身。你今天干什么？\\nAI: 你好，很高兴听到你有保持健身的好习惯。作为一个人工智能，我没有实体，所以我不需要健身或做任何物理活动。我的\"日常活动\"主要包括处理数据、回答问题、学习新的信息和帮助用户。我一直在这里，随时准备帮助你。\\nHuman: 我一般周几健身？\\nAI: 你刚刚提到你一般在每周二健身。'}\n",
      "------------\n",
      "------------\n",
      "{'history': 'Human: 你好，今天是周二我要去健身，我一般每周二健身。你今天干什么？\\nAI: 你好，很高兴听到你有保持健身的好习惯。作为一个人工智能，我没有实体，所以我不需要健身或做任何物理活动。我的\"日常活动\"主要包括处理数据、回答问题、学习新的信息和帮助用户。我一直在这里，随时准备帮助你。\\nHuman: 我一般周几健身？\\nAI: 你刚刚提到你一般在每周二健身。\\nHuman: 我叫蔡超，你叫什么名字？\\nAI: 很高兴认识你，蔡超。我是一个人工智能，我没有具体的名字，你可以叫我AI。'}\n",
      "------------\n"
     ]
    }
   ],
   "source": [
    "import gradio as gr\n",
    "def respond(message, chat_history):\n",
    "        bot_message = get_response(message)\n",
    "        chat_history.append((message, bot_message))\n",
    "        return \"\", chat_history\n",
    "\n",
    "with gr.Blocks() as demo:\n",
    "    chatbot = gr.Chatbot(height=240) #just to fit the notebook\n",
    "    msg = gr.Textbox(label=\"Prompt\")\n",
    "    btn = gr.Button(\"Submit\")\n",
    "    clear = gr.ClearButton(components=[msg, chatbot], value=\"Clear console\")\n",
    "\n",
    "    btn.click(respond, inputs=[msg, chatbot], outputs=[msg, chatbot])\n",
    "    msg.submit(respond, inputs=[msg, chatbot], outputs=[msg, chatbot]) #Press enter to submit\n",
    "gr.close_all()\n",
    "demo.launch(share=True)"
   ]
  },
  {
   "cell_type": "code",
   "execution_count": 28,
   "id": "2ede39e4",
   "metadata": {},
   "outputs": [
    {
     "name": "stdout",
     "output_type": "stream",
     "text": [
      "env: GOOGLE_APPLICATION_CREDENTIALS=/Users/mbj0593/gcp-key/spotmax-7e9e1cc5c73a1.json\n"
     ]
    }
   ],
   "source": [
    "%env GOOGLE_APPLICATION_CREDENTIALS=/Users/mbj0593/gcp-key/spotmax-7e9e1cc5c73a1.json"
   ]
  },
  {
   "cell_type": "code",
   "execution_count": 13,
   "id": "8e354d79",
   "metadata": {},
   "outputs": [
    {
     "ename": "ValueError",
     "evalue": "Unknown model publishers/google/models/chat-bison; {'gs://google-cloud-aiplatform/schema/predict/instance/codechat_generation_1.0.0.yaml': <class 'vertexai.language_models._language_models.CodeChatModel'>}",
     "output_type": "error",
     "traceback": [
      "\u001b[0;31m---------------------------------------------------------------------------\u001b[0m",
      "\u001b[0;31mValueError\u001b[0m                                Traceback (most recent call last)",
      "Cell \u001b[0;32mIn[13], line 8\u001b[0m\n\u001b[1;32m      5\u001b[0m os\u001b[38;5;241m.\u001b[39menviron[\u001b[38;5;124m'\u001b[39m\u001b[38;5;124mGOOGLE_APPLICATION_CREDENTIALS\u001b[39m\u001b[38;5;124m'\u001b[39m] \u001b[38;5;241m=\u001b[39m \u001b[38;5;124m'\u001b[39m\u001b[38;5;124m/Users/mbj0593/gcp-key/spotmax-7e9e1cc5c73a.json\u001b[39m\u001b[38;5;124m'\u001b[39m\n\u001b[1;32m      7\u001b[0m vertexai\u001b[38;5;241m.\u001b[39minit(project\u001b[38;5;241m=\u001b[39m\u001b[38;5;124m\"\u001b[39m\u001b[38;5;124mspotmax\u001b[39m\u001b[38;5;124m\"\u001b[39m, location\u001b[38;5;241m=\u001b[39m\u001b[38;5;124m\"\u001b[39m\u001b[38;5;124mus-central1\u001b[39m\u001b[38;5;124m\"\u001b[39m)\n\u001b[0;32m----> 8\u001b[0m chat_model \u001b[38;5;241m=\u001b[39m \u001b[43mCodeChatModel\u001b[49m\u001b[38;5;241;43m.\u001b[39;49m\u001b[43mfrom_pretrained\u001b[49m\u001b[43m(\u001b[49m\u001b[38;5;124;43m\"\u001b[39;49m\u001b[38;5;124;43mchat-bison@001\u001b[39;49m\u001b[38;5;124;43m\"\u001b[39;49m\u001b[43m)\u001b[49m\n\u001b[1;32m      9\u001b[0m parameters \u001b[38;5;241m=\u001b[39m {\n\u001b[1;32m     10\u001b[0m     \u001b[38;5;124m\"\u001b[39m\u001b[38;5;124mtemperature\u001b[39m\u001b[38;5;124m\"\u001b[39m: \u001b[38;5;241m0.2\u001b[39m,\n\u001b[1;32m     11\u001b[0m     \u001b[38;5;124m\"\u001b[39m\u001b[38;5;124mmax_output_tokens\u001b[39m\u001b[38;5;124m\"\u001b[39m: \u001b[38;5;241m1024\u001b[39m\n\u001b[1;32m     12\u001b[0m }\n\u001b[1;32m     13\u001b[0m chat \u001b[38;5;241m=\u001b[39m chat_model\u001b[38;5;241m.\u001b[39mstart_chat()\n",
      "File \u001b[0;32m~/Library/Python/3.9/lib/python/site-packages/vertexai/_model_garden/_model_garden_models.py:212\u001b[0m, in \u001b[0;36m_ModelGardenModel.from_pretrained\u001b[0;34m(cls, model_name)\u001b[0m\n\u001b[1;32m    207\u001b[0m \u001b[38;5;28;01mif\u001b[39;00m \u001b[38;5;129;01mnot\u001b[39;00m \u001b[38;5;28mcls\u001b[39m\u001b[38;5;241m.\u001b[39m_INSTANCE_SCHEMA_URI:\n\u001b[1;32m    208\u001b[0m     \u001b[38;5;28;01mraise\u001b[39;00m \u001b[38;5;167;01mValueError\u001b[39;00m(\n\u001b[1;32m    209\u001b[0m         \u001b[38;5;124mf\u001b[39m\u001b[38;5;124m\"\u001b[39m\u001b[38;5;124mClass \u001b[39m\u001b[38;5;132;01m{\u001b[39;00m\u001b[38;5;28mcls\u001b[39m\u001b[38;5;132;01m}\u001b[39;00m\u001b[38;5;124m is not a correct model interface class since it does not have an instance schema URI.\u001b[39m\u001b[38;5;124m\"\u001b[39m\n\u001b[1;32m    210\u001b[0m     )\n\u001b[0;32m--> 212\u001b[0m model_info \u001b[38;5;241m=\u001b[39m \u001b[43m_get_model_info\u001b[49m\u001b[43m(\u001b[49m\n\u001b[1;32m    213\u001b[0m \u001b[43m    \u001b[49m\u001b[43mmodel_id\u001b[49m\u001b[38;5;241;43m=\u001b[39;49m\u001b[43mmodel_name\u001b[49m\u001b[43m,\u001b[49m\u001b[43m \u001b[49m\u001b[43mschema_to_class_map\u001b[49m\u001b[38;5;241;43m=\u001b[39;49m\u001b[43m{\u001b[49m\u001b[38;5;28;43mcls\u001b[39;49m\u001b[38;5;241;43m.\u001b[39;49m\u001b[43m_INSTANCE_SCHEMA_URI\u001b[49m\u001b[43m:\u001b[49m\u001b[43m \u001b[49m\u001b[38;5;28;43mcls\u001b[39;49m\u001b[43m}\u001b[49m\n\u001b[1;32m    214\u001b[0m \u001b[43m\u001b[49m\u001b[43m)\u001b[49m\n\u001b[1;32m    216\u001b[0m \u001b[38;5;28;01mif\u001b[39;00m \u001b[38;5;129;01mnot\u001b[39;00m \u001b[38;5;28missubclass\u001b[39m(model_info\u001b[38;5;241m.\u001b[39minterface_class, \u001b[38;5;28mcls\u001b[39m):\n\u001b[1;32m    217\u001b[0m     \u001b[38;5;28;01mraise\u001b[39;00m \u001b[38;5;167;01mValueError\u001b[39;00m(\n\u001b[1;32m    218\u001b[0m         \u001b[38;5;124mf\u001b[39m\u001b[38;5;124m\"\u001b[39m\u001b[38;5;132;01m{\u001b[39;00mmodel_name\u001b[38;5;132;01m}\u001b[39;00m\u001b[38;5;124m is of type \u001b[39m\u001b[38;5;132;01m{\u001b[39;00mmodel_info\u001b[38;5;241m.\u001b[39minterface_class\u001b[38;5;241m.\u001b[39m\u001b[38;5;18m__name__\u001b[39m\u001b[38;5;132;01m}\u001b[39;00m\u001b[38;5;124m not of type \u001b[39m\u001b[38;5;132;01m{\u001b[39;00m\u001b[38;5;28mcls\u001b[39m\u001b[38;5;241m.\u001b[39m\u001b[38;5;18m__name__\u001b[39m\u001b[38;5;132;01m}\u001b[39;00m\u001b[38;5;124m\"\u001b[39m\n\u001b[1;32m    219\u001b[0m     )\n",
      "File \u001b[0;32m~/Library/Python/3.9/lib/python/site-packages/vertexai/_model_garden/_model_garden_models.py:131\u001b[0m, in \u001b[0;36m_get_model_info\u001b[0;34m(model_id, schema_to_class_map)\u001b[0m\n\u001b[1;32m    126\u001b[0m interface_class \u001b[38;5;241m=\u001b[39m schema_to_class_map\u001b[38;5;241m.\u001b[39mget(\n\u001b[1;32m    127\u001b[0m     publisher_model_res\u001b[38;5;241m.\u001b[39mpredict_schemata\u001b[38;5;241m.\u001b[39minstance_schema_uri\n\u001b[1;32m    128\u001b[0m )\n\u001b[1;32m    130\u001b[0m \u001b[38;5;28;01mif\u001b[39;00m \u001b[38;5;129;01mnot\u001b[39;00m interface_class:\n\u001b[0;32m--> 131\u001b[0m     \u001b[38;5;28;01mraise\u001b[39;00m \u001b[38;5;167;01mValueError\u001b[39;00m(\n\u001b[1;32m    132\u001b[0m         \u001b[38;5;124mf\u001b[39m\u001b[38;5;124m\"\u001b[39m\u001b[38;5;124mUnknown model \u001b[39m\u001b[38;5;132;01m{\u001b[39;00mpublisher_model_res\u001b[38;5;241m.\u001b[39mname\u001b[38;5;132;01m}\u001b[39;00m\u001b[38;5;124m; \u001b[39m\u001b[38;5;132;01m{\u001b[39;00mschema_to_class_map\u001b[38;5;132;01m}\u001b[39;00m\u001b[38;5;124m\"\u001b[39m\n\u001b[1;32m    133\u001b[0m     )\n\u001b[1;32m    135\u001b[0m \u001b[38;5;28;01mreturn\u001b[39;00m _ModelInfo(\n\u001b[1;32m    136\u001b[0m     endpoint_name\u001b[38;5;241m=\u001b[39mendpoint_name,\n\u001b[1;32m    137\u001b[0m     interface_class\u001b[38;5;241m=\u001b[39minterface_class,\n\u001b[0;32m   (...)\u001b[0m\n\u001b[1;32m    140\u001b[0m     tuning_model_id\u001b[38;5;241m=\u001b[39mtuning_model_id,\n\u001b[1;32m    141\u001b[0m )\n",
      "\u001b[0;31mValueError\u001b[0m: Unknown model publishers/google/models/chat-bison; {'gs://google-cloud-aiplatform/schema/predict/instance/codechat_generation_1.0.0.yaml': <class 'vertexai.language_models._language_models.CodeChatModel'>}"
     ]
    }
   ],
   "source": [
    "import vertexai\n",
    "from vertexai.preview.language_models import CodeChatModel\n",
    "import os\n",
    "\n",
    "os.environ['GOOGLE_APPLICATION_CREDENTIALS'] = '/Users/mbj0593/gcp-key/spotmax-7e9e1cc5c73a.json'\n",
    "\n",
    "vertexai.init(project=\"spotmax\", location=\"us-central1\")\n",
    "chat_model = CodeChatModel.from_pretrained(\"chat-bison@001\")\n",
    "parameters = {\n",
    "    \"temperature\": 0.2,\n",
    "    \"max_output_tokens\": 1024\n",
    "}\n",
    "chat = chat_model.start_chat()\n",
    "response = chat.send_message(\"\"\"Write a python program for creating 10 random numbers\"\"\", **parameters)\n",
    "print(f\"Response from Model: {response.text}\")\n",
    "response = chat.send_message(\"\"\"What\\'s the weather today, Beijing?\"\"\", **parameters)\n",
    "print(f\"Response from Model: {response.text}\")\n",
    "response = chat.send_message(\"\"\"What date is today?\"\"\", **parameters)\n",
    "print(f\"Response from Model: {response.text}\")\n",
    "response = chat.send_message(\"\"\"Give me a python program to show quick sort\"\"\", **parameters)\n",
    "print(f\"Response from Model: {response.text}\")\n",
    "response = chat.send_message(\"\"\"run the above code and give me the result\"\"\", **parameters)\n",
    "print(f\"Response from Model: {response.text}\")\n",
    "response = chat.send_message(\"\"\"write a golang code about accessing Kubernetes to list all the pods\"\"\", **parameters)\n",
    "print(f\"Response from Model: {response.text}\")"
   ]
  },
  {
   "cell_type": "code",
   "execution_count": null,
   "id": "160f32ad",
   "metadata": {},
   "outputs": [],
   "source": []
  },
  {
   "cell_type": "code",
   "execution_count": null,
   "id": "b40f377c",
   "metadata": {},
   "outputs": [],
   "source": []
  }
 ],
 "metadata": {
  "kernelspec": {
   "display_name": "Python 3 (ipykernel)",
   "language": "python",
   "name": "python3"
  },
  "language_info": {
   "codemirror_mode": {
    "name": "ipython",
    "version": 3
   },
   "file_extension": ".py",
   "mimetype": "text/x-python",
   "name": "python",
   "nbconvert_exporter": "python",
   "pygments_lexer": "ipython3",
   "version": "3.9.6"
  }
 },
 "nbformat": 4,
 "nbformat_minor": 5
}
