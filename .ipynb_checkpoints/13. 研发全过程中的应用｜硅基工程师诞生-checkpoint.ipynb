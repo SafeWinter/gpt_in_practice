{
 "cells": [
  {
   "cell_type": "code",
   "execution_count": 1,
   "id": "2498ccb7",
   "metadata": {},
   "outputs": [],
   "source": [
    "deployment = \"gpt4\"\n",
    "model = \"gpt-4\""
   ]
  },
  {
   "cell_type": "markdown",
   "id": "a77bb728",
   "metadata": {},
   "source": [
    "# LLM辅助设计"
   ]
  },
  {
   "cell_type": "code",
   "execution_count": 13,
   "id": "2a010569",
   "metadata": {},
   "outputs": [
    {
     "name": "stdout",
     "output_type": "stream",
     "text": [
      "Here's a simple example of a Twitter-like system represented in PlantUML script. \n",
      "\n",
      "For the sake of simplicity, let's focus on three main objects: User, Tweet, and Follower (i.e., the relationship of a user following another user).\n",
      "    \n",
      "```plantuml\n",
      "@startuml TwitterSystem\n",
      "\n",
      "class User {\n",
      "  +userId: Integer\n",
      "  +username: String\n",
      "  +email: String\n",
      "  +password: String\n",
      "  +createAccount(): Void\n",
      "  +login(): Void\n",
      "  +logout(): Void\n",
      "}\n",
      "\n",
      "class Tweet {\n",
      "  +tweetId: Integer\n",
      "  +userId: Integer\n",
      "  +text: String\n",
      "  +timestamp: DateTime\n",
      "  +postTweet(): Void\n",
      "}\n",
      "\n",
      "class Follower {\n",
      "  +followerId: Integer\n",
      "  +followeeId: Integer\n",
      "  +followUser(): Void\n",
      "  +unfollowUser(): Void\n",
      "}\n",
      "\n",
      "User \"1\" -- \"many\" Tweet : posts >\n",
      "User \"many\" -- \"many\" User : follows\n",
      "note \"The 'follows' relationship is \\nrepresented by the Follower class.\" as N1\n",
      "\n",
      "@enduml\n",
      "```\n",
      "\n",
      "In our model:\n",
      "\n",
      "1. A `User` has a one-to-many relationship with `Tweet`, meaning a user can create many tweets.\n",
      "\n",
      "2. A `User` has a many-to-many relationship with another `User` through the `Follower` class, representing the follow-unfollow functionality of Twitter.\n",
      "\n",
      "Each class has its own attributes and methods. Please note this is a very simplified version and real-world applications would have much more complex designs with more classes and relationships, like Retweet, Like, DirectMessage, etc.\n"
     ]
    }
   ],
   "source": [
    "import openai\n",
    "response = openai.ChatCompletion.create(\n",
    "    engine=deployment, # engine = \"deployment_name\".\n",
    "    messages=[\n",
    "        {\"role\": \"system\", \"content\": \"You are a senior software engineer.\"},   \n",
    "        {\"role\": \"user\", \"content\": \"\"\"\n",
    "          Design a twitter like system, represent the business domain model with PlantUML script\n",
    "          \"\"\"}\n",
    "    ],\n",
    "    temperature = 0.9, \n",
    "    max_tokens = 500\n",
    "  )\n",
    "print(response.choices[0].message.content)\n",
    "# http://www.plantuml.com/plantuml"
   ]
  },
  {
   "cell_type": "code",
   "execution_count": 2,
   "id": "7e8c121f",
   "metadata": {},
   "outputs": [
    {
     "name": "stdout",
     "output_type": "stream",
     "text": [
      "A PlantUML script for a simplified Facebook-like system, focusing on the interaction between User, Profile, Post, and Comment, might look like the following:\n",
      "\n",
      "```\n",
      "@startuml\n",
      "\n",
      "title Facebook-like System \n",
      "\n",
      "actor User\n",
      "\n",
      "box \"User Features\" #LightSkyBlue\n",
      "  participant Profile\n",
      "  participant Post\n",
      "  participant Comment  \n",
      "end box\n",
      "\n",
      "User -> Profile: VisitProfile()\n",
      "activate Profile\n",
      "\n",
      "Profile -> User: SendProfileData()\n",
      "activate User\n",
      "\n",
      "User -> Post: ViewPosts()\n",
      "activate Post\n",
      "\n",
      "User <-- Post: SendPostsData()\n",
      "\n",
      "User -> Comment: ViewComments()\n",
      "activate Comment\n",
      "\n",
      "User <-- Comment: SendCommentsData()\n",
      "\n",
      "User -> Post: CreateNewPost(text)\n",
      "activate Post\n",
      "\n",
      "User <-- Post: ConfirmPostCreated()\n",
      "\n",
      "User -> Comment: CreateNewComment(text)\n",
      "activate Comment\n",
      "\n",
      "User <-- Comment: ConfirmCommentCreated()\n",
      "\n",
      "User -> Profile: LogoutProfile()\n",
      "activate Profile\n",
      "\n",
      "Profile -> User: ConfirmLoggedOut()\n",
      "activate User\n",
      "\n",
      "deactivate User\n",
      "deactivate Profile\n",
      "deactivate Post\n",
      "deactivate Comment\n",
      "\n",
      "@enduml\n",
      "```\n",
      "\n",
      "Here are the interactions:\n",
      "- A User visits a Profile. \n",
      "- The Profile sends back the profile data.\n",
      "- The User views Posts associated with the Profile.\n",
      "- The Post sends back the post data.\n",
      "- The User views Comments associated with each Post.\n",
      "- The Comment sends back the comment data.\n",
      "- The User creates a new Post.\n",
      "- Post confirms the creation.\n",
      "- The User creates a new Comment on the Post.\n",
      "- Comment confirms the creation.\n",
      "- User logs out from the Profile.\n",
      "- Profile confirms the logout process.\n",
      "\n",
      "This representation is quite simplified. In a real-world scenario, you would likely have additional objects and interactions, possibly involving things like User Authentication, Image Uploads, Notifications, Privacy Settings, etc.\n"
     ]
    }
   ],
   "source": [
    "import openai\n",
    "response = openai.ChatCompletion.create(\n",
    "    engine=deployment, # engine = \"deployment_name\".\n",
    "    messages=[\n",
    "        {\"role\": \"system\", \"content\": \"You are a senior software engineer.\"},   \n",
    "        {\"role\": \"user\", \"content\": \"\"\"\n",
    "          Design a facebook like system, represent the interactions by UML sequence diagram with PlantUML script\n",
    "          \"\"\"}\n",
    "    ],\n",
    "    temperature = 0.9, \n",
    "    max_tokens = 500\n",
    "  )\n",
    "print(response.choices[0].message.content)"
   ]
  },
  {
   "cell_type": "code",
   "execution_count": 32,
   "id": "e6bc8355",
   "metadata": {},
   "outputs": [
    {
     "name": "stdout",
     "output_type": "stream",
     "text": [
      "Running on local URL:  http://127.0.0.1:7860\n",
      "\n",
      "To create a public link, set `share=True` in `launch()`.\n"
     ]
    },
    {
     "data": {
      "text/html": [
       "<div><iframe src=\"http://127.0.0.1:7860/\" width=\"100%\" height=\"500\" allow=\"autoplay; camera; microphone; clipboard-read; clipboard-write;\" frameborder=\"0\" allowfullscreen></iframe></div>"
      ],
      "text/plain": [
       "<IPython.core.display.HTML object>"
      ]
     },
     "metadata": {},
     "output_type": "display_data"
    },
    {
     "data": {
      "text/plain": []
     },
     "execution_count": 32,
     "metadata": {},
     "output_type": "execute_result"
    },
    {
     "name": "stdout",
     "output_type": "stream",
     "text": [
      "------------\n",
      "{'history': ''}\n",
      "------------\n",
      "------------\n",
      "{'history': 'Human: 生成一个观察者模式类图，用plantUML script表示\\nAI: 很抱歉，我无法直接生成PlantUML脚本，但我可以为你描述一个观察者模式的类图的基本结构。在观察者模式中，我们通常有以下几个主要的类：\\n\\n1. Subject: 这是被观察的对象。它通常有方法来添加和删除观察者，并有一个方法来通知所有的观察者。\\n\\n2. Observer: 这是观察者接口。它通常有一个更新方法，当Subject的状态改变时，这个方法会被调用。\\n\\n3. ConcreteSubject: 这是实现了Subject接口的具体类。当它的状态改变时，它会通知所有的观察者。\\n\\n4. ConcreteObserver: 这是实现了Observer接口的具体类。当它接收到通知时，它会更新自己的状态。\\n\\n在PlantUML中，你可以用以下的方式来表示这个类图：\\n\\n```\\n@startuml\\ninterface Subject {\\n  + registerObserver(Observer)\\n  + removeObserver(Observer)\\n  + notifyObservers()\\n}\\n\\ninterface Observer {\\n  + update()\\n}\\n\\nclass ConcreteSubject {\\n  - observers : List<Observer>\\n  - state : State\\n  + getState() : State\\n  + setState(State)\\n}\\n\\nclass ConcreteObserver {\\n  - subject : Subject\\n  - state : State\\n  + update()\\n}\\n\\nSubject <|.. ConcreteSubject\\nObserver <|.. ConcreteObserver\\nConcreteSubject o-- ConcreteObserver\\n@enduml\\n```\\n\\n在这个脚本中，箭头表示的是继承关系，而\"o--\"表示的是聚合关系。ConcreteSubject有一个Observer的列表，这就是为什么它与ConcreteObserver有一个聚合关系。'}\n",
      "------------\n"
     ]
    }
   ],
   "source": [
    "from langchain.chat_models import AzureChatOpenAI\n",
    "from langchain.memory import ConversationBufferWindowMemory\n",
    "from langchain.chains import ConversationChain\n",
    "\n",
    "llm = AzureChatOpenAI(deployment_name=deployment, temperature=0.3, max_tokens=1000,\n",
    "                     streaming=True)\n",
    "\n",
    "memory = ConversationBufferWindowMemory(k=10) \n",
    "\n",
    "\n",
    "def get_response(input):\n",
    "    conversation_with_memory = ConversationChain(\n",
    "        llm=llm, \n",
    "        memory=memory,\n",
    "        verbose=False\n",
    "    )\n",
    "    return conversation_with_memory.predict(input=input)\n",
    "\n",
    "import gradio as gr\n",
    "def respond(message, chat_history):\n",
    "    bot_message = get_response(message)\n",
    "    chat_history.append((message, bot_message))\n",
    "    return \"\", chat_history\n",
    "\n",
    "with gr.Blocks() as demo:\n",
    "    chatbot = gr.Chatbot(height=300) #just to fit the notebook\n",
    "    msg = gr.Textbox(label=\"Prompt\")\n",
    "    btn = gr.Button(\"Submit\")\n",
    "    clear = gr.ClearButton(components=[msg, chatbot], value=\"Clear console\")\n",
    "\n",
    "    btn.click(respond, inputs=[msg, chatbot], outputs=[msg, chatbot])\n",
    "    msg.submit(respond, inputs=[msg, chatbot], outputs=[msg, chatbot]) #Press enter to submit\n",
    "gr.close_all()\n",
    "demo.launch()\n",
    "\n",
    "#生成一个观察者模式类图，用plantUML script表示\n",
    "#根据上面的UML生成Java代码"
   ]
  },
  {
   "cell_type": "markdown",
   "id": "0d969ddb",
   "metadata": {},
   "source": [
    "# LLM生成代码"
   ]
  },
  {
   "cell_type": "code",
   "execution_count": 2,
   "id": "0199eabf",
   "metadata": {},
   "outputs": [],
   "source": [
    "from abc import ABC, abstractmethod\n",
    "\n",
    "class TokenCreator(ABC):\n",
    "    @abstractmethod\n",
    "    # create the token with uuid\n",
    "    def create_token(self, input)->str:\n",
    "        pass\n",
    "\n"
   ]
  },
  {
   "cell_type": "code",
   "execution_count": 3,
   "id": "07df4033",
   "metadata": {},
   "outputs": [],
   "source": [
    "import openai\n",
    "def work_on(input):\n",
    "    response = openai.ChatCompletion.create(\n",
    "        engine=deployment, # engine = \"deployment_name\".\n",
    "        messages=[\n",
    "            {\"role\": \"system\", \"content\": \"You are a senior software engineer.\"},   \n",
    "            {\"role\": \"user\", \"content\": input}\n",
    "        ],\n",
    "        temperature = 0.9, \n",
    "        max_tokens = 500\n",
    "      )\n",
    "    return response.choices[0].message.content"
   ]
  },
  {
   "cell_type": "code",
   "execution_count": 4,
   "id": "49cbb14a",
   "metadata": {},
   "outputs": [],
   "source": [
    "interface_def = \"\"\"\n",
    "from abc import ABC, abstractmethod\n",
    "\n",
    "class TokenCreator(ABC):\n",
    "    @abstractmethod\n",
    "    # create the token with uuid + input\n",
    "    def create_token(self, input)->str:\n",
    "        pass\n",
    "\"\"\""
   ]
  },
  {
   "cell_type": "code",
   "execution_count": 5,
   "id": "1d52a5b7",
   "metadata": {},
   "outputs": [
    {
     "name": "stdout",
     "output_type": "stream",
     "text": [
      "Sure, I'll implement an instance of the TokenCreator abstract class using Python's built-in uuid module.\n",
      "\n",
      "```python\n",
      "import uuid\n",
      "from abc import ABC, abstractmethod\n",
      "\n",
      "class TokenCreator(ABC):\n",
      "    @abstractmethod\n",
      "    def create_token(self, input)->str:\n",
      "        pass\n",
      "\n",
      "class UUIDTokenCreator(TokenCreator):\n",
      "    def create_token(self, input)->str:\n",
      "        return str(uuid.uuid4()) + str(input)\n",
      "```\n",
      "\n",
      "In this code, UUIDTokenCreator is a concrete class that inherits from the abstract class TokenCreator. The method create_token is implemented in this concrete class where it generates a token by generating a unique identifier using uuid.uuid4() and appending it to the provided input. The result is then converted to a string and returned.\n"
     ]
    }
   ],
   "source": [
    "print(work_on(\"Implement the following abstract class. \\n --- \\n\"+ interface_def))\n"
   ]
  },
  {
   "cell_type": "code",
   "execution_count": 6,
   "id": "585c167c",
   "metadata": {},
   "outputs": [
    {
     "name": "stdout",
     "output_type": "stream",
     "text": [
      "59e6c2bd-3e71-4e23-97e4-5fdb31eed865Hello\n"
     ]
    }
   ],
   "source": [
    "import uuid\n",
    "from abc import ABC, abstractmethod\n",
    "\n",
    "class TokenCreator(ABC):\n",
    "    @abstractmethod\n",
    "    def create_token(self, input)->str:\n",
    "        pass\n",
    "\n",
    "class UUIDTokenCreator(TokenCreator):\n",
    "    def create_token(self, input)->str:\n",
    "        return str(uuid.uuid4()) + str(input)\n",
    "    \n",
    "mtc = UUIDTokenCreator()\n",
    "print(mtc.create_token(\"Hello\"))"
   ]
  },
  {
   "cell_type": "markdown",
   "id": "782ca7af",
   "metadata": {},
   "source": [
    "# 生成单元测试"
   ]
  },
  {
   "cell_type": "code",
   "execution_count": 21,
   "id": "e91dbbf3",
   "metadata": {},
   "outputs": [
    {
     "name": "stdout",
     "output_type": "stream",
     "text": [
      "Sure, here is a simple unit test for the `UUIDTokenCreator` class using Python's built-in `unittest` framework.\n",
      "\n",
      "```python\n",
      "import unittest\n",
      "import uuid\n",
      "from abc import ABC, abstractmethod\n",
      "\n",
      "class TokenCreator(ABC):\n",
      "    @abstractmethod\n",
      "    def create_token(self, input)->str:\n",
      "        pass\n",
      "\n",
      "class UUIDTokenCreator(TokenCreator):\n",
      "    def create_token(self, input)->str:\n",
      "        return str(uuid.uuid4()) + str(input)\n",
      "\n",
      "\n",
      "class TestUUIDTokenCreator(unittest.TestCase):\n",
      "    def setUp(self):\n",
      "        self.creator = UUIDTokenCreator()\n",
      "\n",
      "    def test_create_token(self):\n",
      "        input = \"test input\"\n",
      "        token = self.creator.create_token(input)\n",
      "\n",
      "        # check if input is at the end of the token\n",
      "        self.assertTrue(token.endswith(input))\n",
      "\n",
      "        # check if the token starts with a valid uuid\n",
      "        uuid_from_token = token.strip(input)\n",
      "        try:\n",
      "            uuid.UUID(uuid_from_token)\n",
      "        except ValueError:\n",
      "            self.fail(\"Token does not start with a valid UUID\")\n",
      "\n",
      "if __name__ == \"__main__\":\n",
      "    unittest.main()\n",
      "```\n",
      "In this test, we're creating an instance of `UUIDTokenCreator` in the `setUp` method which runs before each test method. In the test method `test_create_token`, we're creating a token and then checking if it ends with the input string and if it starts with a valid UUID string.\n"
     ]
    }
   ],
   "source": [
    "prog = \"\"\"\n",
    "import uuid\n",
    "from abc import ABC, abstractmethod\n",
    "\n",
    "class TokenCreator(ABC):\n",
    "    @abstractmethod\n",
    "    def create_token(self, input)->str:\n",
    "        pass\n",
    "\n",
    "class UUIDTokenCreator(TokenCreator):\n",
    "    def create_token(self, input)->str:\n",
    "        return str(uuid.uuid4()) + str(input)\n",
    "\"\"\"\n",
    "\n",
    "\n",
    "print(work_on(\"Write the unit test (the unit test in the same module) for the class UUIDTokenCreator in the following code: \\n --- \\n\"+ prog))"
   ]
  },
  {
   "cell_type": "code",
   "execution_count": 22,
   "id": "358df5cd",
   "metadata": {},
   "outputs": [
    {
     "name": "stderr",
     "output_type": "stream",
     "text": [
      ".\n",
      "----------------------------------------------------------------------\n",
      "Ran 1 test in 0.001s\n",
      "\n",
      "OK\n"
     ]
    },
    {
     "data": {
      "text/plain": [
       "<unittest.main.TestProgram at 0x10fdd9c50>"
      ]
     },
     "execution_count": 22,
     "metadata": {},
     "output_type": "execute_result"
    }
   ],
   "source": [
    "import unittest\n",
    "import uuid\n",
    "from abc import ABC, abstractmethod\n",
    "\n",
    "class TokenCreator(ABC):\n",
    "    @abstractmethod\n",
    "    def create_token(self, input)->str:\n",
    "        pass\n",
    "\n",
    "class UUIDTokenCreator(TokenCreator):\n",
    "    def create_token(self, input)->str:\n",
    "        return str(uuid.uuid4()) + str(input)\n",
    "\n",
    "\n",
    "class TestUUIDTokenCreator(unittest.TestCase):\n",
    "    def setUp(self):\n",
    "        self.creator = UUIDTokenCreator()\n",
    "\n",
    "    def test_create_token(self):\n",
    "        input = \"test input\"\n",
    "        token = self.creator.create_token(input)\n",
    "\n",
    "        # check if input is at the end of the token\n",
    "        self.assertTrue(token.endswith(input))\n",
    "\n",
    "        # check if the token starts with a valid uuid\n",
    "        uuid_from_token = token.strip(input)\n",
    "        try:\n",
    "            uuid.UUID(uuid_from_token)\n",
    "        except ValueError:\n",
    "            self.fail(\"Token does not start with a valid UUID\")\n",
    "\n",
    "\n",
    "#if __name__ == '__main__':\n",
    "#    unittest.main()\n",
    "\n",
    "unittest.main(argv=['first-arg-is-ignored'], exit=False)"
   ]
  },
  {
   "cell_type": "markdown",
   "id": "e647f4d7",
   "metadata": {},
   "source": [
    "# 代码理解"
   ]
  },
  {
   "cell_type": "code",
   "execution_count": 23,
   "id": "63a25caf",
   "metadata": {},
   "outputs": [
    {
     "name": "stdout",
     "output_type": "stream",
     "text": [
      "以下是一个简单的Python函数，它使用`requests`和`BeautifulSoup`库获取并打印一个网页的文本内容。首先，需要确保你已经安装了这两个库，如果没有，可以在python终端中输入 `pip install requests bs4` 进行安装。\n",
      "\n",
      "以下是该函数：\n",
      "```python\n",
      "import requests\n",
      "from bs4 import BeautifulSoup\n",
      "\n",
      "def get_webpage_text(url):\n",
      "    # 发送http请求\n",
      "    response = requests.get(url)\n",
      "  \n",
      "    #把返回的html数据进行解析\n",
      "    soup = BeautifulSoup(response.text, 'html.parser')\n",
      "    \n",
      "    # 提取页面上所有的文字内容\n",
      "    text = soup.get_text()\n",
      "    \n",
      "    return text\n",
      "\n",
      "# 测试\n",
      "print(get_webpage_text('https://www.example.com'))\n",
      "```\n",
      "注意，这个函数并不完善。例如，它将提取页面上的所有文本，包括可能不想要的脚本和样式文本等。同时，也未对请求失败的情况进行处理。在生产环境中使用时，需要适当增强其健壮性和功能完整性。\n"
     ]
    }
   ],
   "source": [
    "prompt = \"\"\"\n",
    "编写一个Python函数，输入为一个网页地址，输出该页面上的文字内容。\n",
    "\"\"\"\n",
    "\n",
    "print(work_on(prompt))"
   ]
  },
  {
   "cell_type": "code",
   "execution_count": 25,
   "id": "316109f5",
   "metadata": {},
   "outputs": [],
   "source": [
    "import requests\n",
    "from bs4 import BeautifulSoup\n",
    "\n",
    "def get_text_from_url(url):\n",
    "    try:\n",
    "        # 发送GET请求获取网页内容\n",
    "        response = requests.get(url)\n",
    "        # 使用BeautifulSoup解析网页内容\n",
    "        soup = BeautifulSoup(response.text, 'html.parser')\n",
    "        \n",
    "        # 获取网页中的所有文本内容\n",
    "        text = soup.get_text()\n",
    "        \n",
    "        # 返回文本内容\n",
    "        return text\n",
    "    except requests.exceptions.RequestException as e:\n",
    "        # 打印错误信息并返回None\n",
    "        print(e)\n",
    "        return None"
   ]
  },
  {
   "cell_type": "code",
   "execution_count": 26,
   "id": "0b61a480",
   "metadata": {},
   "outputs": [
    {
     "name": "stdout",
     "output_type": "stream",
     "text": [
      "\"\"\"An agent designed to hold a conversation in addition to using tools.\"\"\"\n",
      "from __future__ import annotations\n",
      "\n",
      "from typing import Any, List, Optional, Sequence\n",
      "\n",
      "from langchain.agents.agent import Agent, AgentOutputParser\n",
      "from langchain.agents.agent_types import AgentType\n",
      "from langchain.agents.conversational.output_parser import ConvoOutputParser\n",
      "from langchain.agents.conversational.prompt import FORMAT_INSTRUCTIONS, PREFIX, SUFFIX\n",
      "from langchain.agents.utils import validate_tools_single_input\n",
      "from langchain.callbacks.base import BaseCallbackManager\n",
      "from langchain.chains import LLMChain\n",
      "from langchain.prompts import PromptTemplate\n",
      "from langchain.pydantic_v1 import Field\n",
      "from langchain.schema.language_model import BaseLanguageModel\n",
      "from langchain.tools.base import BaseTool\n",
      "\n",
      "\n",
      "class ConversationalAgent(Agent):\n",
      "    \"\"\"An agent that holds a conversation in addition to using tools.\"\"\"\n",
      "\n",
      "    ai_prefix: str = \"AI\"\n",
      "    \"\"\"Prefix to use before AI output.\"\"\"\n",
      "    output_parser: AgentOutputParser = Field(default_factory=ConvoOutputParser)\n",
      "    \"\"\"Output parser for the agent.\"\"\"\n",
      "\n",
      "    @classmethod\n",
      "    def _get_default_output_parser(\n",
      "        cls, ai_prefix: str = \"AI\", **kwargs: Any\n",
      "    ) -> AgentOutputParser:\n",
      "        return ConvoOutputParser(ai_prefix=ai_prefix)\n",
      "\n",
      "    @property\n",
      "    def _agent_type(self) -> str:\n",
      "        \"\"\"Return Identifier of agent type.\"\"\"\n",
      "        return AgentType.CONVERSATIONAL_REACT_DESCRIPTION\n",
      "\n",
      "    @property\n",
      "    def observation_prefix(self) -> str:\n",
      "        \"\"\"Prefix to append the observation with.\"\"\"\n",
      "        return \"Observation: \"\n",
      "\n",
      "    @property\n",
      "    def llm_prefix(self) -> str:\n",
      "        \"\"\"Prefix to append the llm call with.\"\"\"\n",
      "        return \"Thought:\"\n",
      "\n",
      "    @classmethod\n",
      "    def create_prompt(\n",
      "        cls,\n",
      "        tools: Sequence[BaseTool],\n",
      "        prefix: str = PREFIX,\n",
      "        suffix: str = SUFFIX,\n",
      "        format_instructions: str = FORMAT_INSTRUCTIONS,\n",
      "        ai_prefix: str = \"AI\",\n",
      "        human_prefix: str = \"Human\",\n",
      "        input_variables: Optional[List[str]] = None,\n",
      "    ) -> PromptTemplate:\n",
      "        \"\"\"Create prompt in the style of the zero-shot agent.\n",
      "\n",
      "        Args:\n",
      "            tools: List of tools the agent will have access to, used to format the\n",
      "                prompt.\n",
      "            prefix: String to put before the list of tools.\n",
      "            suffix: String to put after the list of tools.\n",
      "            ai_prefix: String to use before AI output.\n",
      "            human_prefix: String to use before human output.\n",
      "            input_variables: List of input variables the final prompt will expect.\n",
      "\n",
      "        Returns:\n",
      "            A PromptTemplate with the template assembled from the pieces here.\n",
      "        \"\"\"\n",
      "        tool_strings = \"\\n\".join(\n",
      "            [f\"> {tool.name}: {tool.description}\" for tool in tools]\n",
      "        )\n",
      "        tool_names = \", \".join([tool.name for tool in tools])\n",
      "        format_instructions = format_instructions.format(\n",
      "            tool_names=tool_names, ai_prefix=ai_prefix, human_prefix=human_prefix\n",
      "        )\n",
      "        template = \"\\n\\n\".join([prefix, tool_strings, format_instructions, suffix])\n",
      "        if input_variables is None:\n",
      "            input_variables = [\"input\", \"chat_history\", \"agent_scratchpad\"]\n",
      "        return PromptTemplate(template=template, input_variables=input_variables)\n",
      "\n",
      "    @classmethod\n",
      "    def _validate_tools(cls, tools: Sequence[BaseTool]) -> None:\n",
      "        super()._validate_tools(tools)\n",
      "        validate_tools_single_input(cls.__name__, tools)\n",
      "\n",
      "    @classmethod\n",
      "    def from_llm_and_tools(\n",
      "        cls,\n",
      "        llm: BaseLanguageModel,\n",
      "        tools: Sequence[BaseTool],\n",
      "        callback_manager: Optional[BaseCallbackManager] = None,\n",
      "        output_parser: Optional[AgentOutputParser] = None,\n",
      "        prefix: str = PREFIX,\n",
      "        suffix: str = SUFFIX,\n",
      "        format_instructions: str = FORMAT_INSTRUCTIONS,\n",
      "        ai_prefix: str = \"AI\",\n",
      "        human_prefix: str = \"Human\",\n",
      "        input_variables: Optional[List[str]] = None,\n",
      "        **kwargs: Any,\n",
      "    ) -> Agent:\n",
      "        \"\"\"Construct an agent from an LLM and tools.\"\"\"\n",
      "        cls._validate_tools(tools)\n",
      "        prompt = cls.create_prompt(\n",
      "            tools,\n",
      "            ai_prefix=ai_prefix,\n",
      "            human_prefix=human_prefix,\n",
      "            prefix=prefix,\n",
      "            suffix=suffix,\n",
      "            format_instructions=format_instructions,\n",
      "            input_variables=input_variables,\n",
      "        )\n",
      "        llm_chain = LLMChain(\n",
      "            llm=llm,\n",
      "            prompt=prompt,\n",
      "            callback_manager=callback_manager,\n",
      "        )\n",
      "        tool_names = [tool.name for tool in tools]\n",
      "        _output_parser = output_parser or cls._get_default_output_parser(\n",
      "            ai_prefix=ai_prefix\n",
      "        )\n",
      "        return cls(\n",
      "            llm_chain=llm_chain,\n",
      "            allowed_tools=tool_names,\n",
      "            ai_prefix=ai_prefix,\n",
      "            output_parser=_output_parser,\n",
      "            **kwargs,\n",
      "        )\n",
      "\n"
     ]
    }
   ],
   "source": [
    "print(get_text_from_url(\"https://raw.githubusercontent.com/langchain-ai/langchain/master/libs/langchain/langchain/agents/conversational/base.py\"))"
   ]
  },
  {
   "cell_type": "code",
   "execution_count": 27,
   "id": "afd0c2dc",
   "metadata": {},
   "outputs": [
    {
     "name": "stdout",
     "output_type": "stream",
     "text": [
      "这个程序定义了一个名为ConversationalAgent的类，它是Agent类的子类。这个类被设计用于执行一些与语言处理相关的任务，并与用户进行交互。\n",
      "\n",
      "以下是它的一些主要特点：\n",
      "\n",
      "* `ai_prefix`：在AI输出前使用的前缀，默认值为\"AI\"。\n",
      "\n",
      "* `output_parser`：为agent设置的输出解析器，使用的是ConvoOutputParser。\n",
      "\n",
      "* `_get_default_output_parser`：这是一个类方法，用于获取默认的输出解析器。\n",
      "\n",
      "* `_agent_type`：这是一个属性，返回的是agent类型的标识符。\n",
      "\n",
      "* `observation_prefix` 和 `llm_prefix`：这些属性返回用于附加到观察和llm调用的前缀。\n",
      "\n",
      "* `create_prompt`：这是一个类方法，用于创建agent的提示。它需要一组工具和一些可选参数来创建提示。\n",
      "\n",
      "* `_validate_tools`：这是一个类方法，用于验证工具的有效性。\n",
      "\n",
      "* `from_llm_and_tools`：这是一个类方法，用于从语言学习模型和工具中构建agent。它需要一个语言模型和工具序列，以及一些可选的其他参数。\n",
      "\n",
      "总的来说，`ConversationalAgent`的设计目的是为了能够在处理语言任务的同时与用户进行交互。在一些参数中，如`create_prompt`和`from_llm_and_tools`，可以看出它调用了很多与用户交互相关的模块，比如生成提示和解析输出等。\n"
     ]
    }
   ],
   "source": [
    "code = get_text_from_url(\"https://raw.githubusercontent.com/langchain-ai/langchain/master/libs/langchain/langchain/agents/conversational/base.py\")\n",
    "print(work_on(\"分析下面的程序：\\n ---- \\n\"+ code))"
   ]
  },
  {
   "cell_type": "code",
   "execution_count": null,
   "id": "c7de5b7b",
   "metadata": {},
   "outputs": [],
   "source": []
  }
 ],
 "metadata": {
  "kernelspec": {
   "display_name": "Python 3 (ipykernel)",
   "language": "python",
   "name": "python3"
  },
  "language_info": {
   "codemirror_mode": {
    "name": "ipython",
    "version": 3
   },
   "file_extension": ".py",
   "mimetype": "text/x-python",
   "name": "python",
   "nbconvert_exporter": "python",
   "pygments_lexer": "ipython3",
   "version": "3.11.4"
  }
 },
 "nbformat": 4,
 "nbformat_minor": 5
}
