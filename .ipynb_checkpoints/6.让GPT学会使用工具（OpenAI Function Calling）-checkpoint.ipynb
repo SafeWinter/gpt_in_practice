{
 "cells": [
  {
   "cell_type": "code",
   "execution_count": 26,
   "id": "4b90a557",
   "metadata": {},
   "outputs": [],
   "source": [
    "deployment = \"gpt4\"\n",
    "model = \"gpt-4\""
   ]
  },
  {
   "cell_type": "code",
   "execution_count": 27,
   "id": "23dae813",
   "metadata": {},
   "outputs": [],
   "source": [
    "def get_current_cluster_state(cluster_name):\n",
    "    return  \"\"\"ERROR: Failed to pull image \"chaocai/docker/dsp:latest\"\"\""
   ]
  },
  {
   "cell_type": "code",
   "execution_count": 30,
   "id": "d9469fb0",
   "metadata": {},
   "outputs": [],
   "source": [
    "import openai\n",
    "import json\n",
    "\n",
    "openai.api_version = \"2023-07-01-preview\"\n",
    "\n",
    "funcs = {\"get_current_cluster_state\": get_current_cluster_state}\n",
    "\n",
    "\n",
    "def run(input):\n",
    "    msg=[{\"role\":\"user\",\"content\":input}]\n",
    "    ret = run_conversation(msg)\n",
    "    return ret[\"content\"] \n",
    "\n",
    "def run_conversation(msg):\n",
    "    response = openai.ChatCompletion.create(\n",
    "        engine=deployment,\n",
    "        model=model,\n",
    "        messages=msg,\n",
    "        functions=[\n",
    "            {\n",
    "                \"name\": \"get_current_cluster_state\",\n",
    "                \"description\": \"Get the current state in a given cluster\",\n",
    "                \"parameters\": {\n",
    "                    \"type\": \"object\",\n",
    "                    \"properties\": {\n",
    "                        \"cluster_name\": {\n",
    "                            \"type\": \"string\",\n",
    "                            \"description\": \"the name of the cluster\",\n",
    "                        },\n",
    "                        \n",
    "                    },\n",
    "                    \"required\": [\"cluster_name\"],\n",
    "                },\n",
    "            }\n",
    "        ],\n",
    "        function_call=\"auto\",\n",
    "    )\n",
    "\n",
    "    message =  response[\"choices\"][0][\"message\"]\n",
    "    \n",
    "    # 如果不需要调用function，则直接返回结果\n",
    "    if not message.get(\"function_call\"):\n",
    "        return message\n",
    "    \n",
    "    # 从\n",
    "    function_name = message[\"function_call\"][\"name\"]\n",
    "    function_args = json.loads(message[\"function_call\"][\"arguments\"])\n",
    "    print(function_args)\n",
    "    res = funcs[function_name](function_args[\"cluster_name\"])\n",
    "    message[\"content\"]=None\n",
    "    msg.append(message)\n",
    "    msg.append({\n",
    "                \"role\": \"function\",\n",
    "                \"name\": function_name,\n",
    "                \"content\": res,\n",
    "            })\n",
    "    return run_conversation(msg)\n",
    "   "
   ]
  },
  {
   "cell_type": "code",
   "execution_count": 31,
   "id": "b6856718",
   "metadata": {},
   "outputs": [
    {
     "name": "stdout",
     "output_type": "stream",
     "text": [
      "{'cluster_name': 'DSP'}\n",
      "The DSP cluster failed to pull the image \"chaocai/docker/dsp:latest\". As a suggestion, please check if the docker image exists and the spelling is correct. \n",
      "\n",
      "If the docker image is hosted on a private registry, please make sure the cluster has the correct credentials to pull the image.\n",
      "\n",
      "Can also be caused by network problems so please make sure the network connectivity is good.\n",
      "\n",
      "Lastly, the docker image itself could be problematic. Verify if the docker image can be pulled and run locally on your machine.\n"
     ]
    }
   ],
   "source": [
    "#run(\"Hello\")\n",
    "print(run(\"What's wrong with the cluster 'DSP'? And if there's an error, give me some suggestion. \"))"
   ]
  },
  {
   "cell_type": "code",
   "execution_count": null,
   "id": "b86826e9",
   "metadata": {},
   "outputs": [],
   "source": []
  }
 ],
 "metadata": {
  "kernelspec": {
   "display_name": "Python 3 (ipykernel)",
   "language": "python",
   "name": "python3"
  },
  "language_info": {
   "codemirror_mode": {
    "name": "ipython",
    "version": 3
   },
   "file_extension": ".py",
   "mimetype": "text/x-python",
   "name": "python",
   "nbconvert_exporter": "python",
   "pygments_lexer": "ipython3",
   "version": "3.9.6"
  }
 },
 "nbformat": 4,
 "nbformat_minor": 5
}
