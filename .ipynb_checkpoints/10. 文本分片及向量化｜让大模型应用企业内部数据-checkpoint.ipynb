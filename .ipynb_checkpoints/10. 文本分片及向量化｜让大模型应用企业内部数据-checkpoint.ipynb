{
 "cells": [
  {
   "cell_type": "code",
   "execution_count": 1,
   "id": "ebab47f1",
   "metadata": {},
   "outputs": [],
   "source": [
    "deployment = \"gpt4\""
   ]
  },
  {
   "cell_type": "code",
   "execution_count": 3,
   "id": "ebb322e1",
   "metadata": {},
   "outputs": [],
   "source": [
    "from langchain.embeddings.openai import OpenAIEmbeddings\n",
    "embedding = OpenAIEmbeddings(deployment=\"embedding\",chunk_size=1)\n",
    "sentence1 = \"我是一名软件工程师\"\n",
    "sentence2 = \"小张从事法律工作\"\n",
    "sentence3 = \"今天天气不错\"\n",
    "\n",
    "embedding1 = embedding.embed_query(sentence1)\n",
    "embedding2 = embedding.embed_query(sentence2)\n",
    "embedding3 = embedding.embed_query(sentence3)"
   ]
  },
  {
   "cell_type": "code",
   "execution_count": 4,
   "id": "225660d5",
   "metadata": {},
   "outputs": [
    {
     "name": "stdout",
     "output_type": "stream",
     "text": [
      "Defaulting to user installation because normal site-packages is not writeable\n",
      "Requirement already satisfied: numpy in /Users/mbj0593/Library/Python/3.9/lib/python/site-packages (1.23.5)\n",
      "\n",
      "\u001b[1m[\u001b[0m\u001b[34;49mnotice\u001b[0m\u001b[1;39;49m]\u001b[0m\u001b[39;49m A new release of pip is available: \u001b[0m\u001b[31;49m23.1.2\u001b[0m\u001b[39;49m -> \u001b[0m\u001b[32;49m23.2.1\u001b[0m\n",
      "\u001b[1m[\u001b[0m\u001b[34;49mnotice\u001b[0m\u001b[1;39;49m]\u001b[0m\u001b[39;49m To update, run: \u001b[0m\u001b[32;49m/Library/Developer/CommandLineTools/usr/bin/python3 -m pip install --upgrade pip\u001b[0m\n"
     ]
    }
   ],
   "source": [
    "!pip install numpy"
   ]
  },
  {
   "cell_type": "code",
   "execution_count": 5,
   "id": "e3c7f3d5",
   "metadata": {},
   "outputs": [
    {
     "name": "stdout",
     "output_type": "stream",
     "text": [
      "0.7987662070931474\n",
      "0.7532941278768213\n",
      "0.7687331884734409\n"
     ]
    }
   ],
   "source": [
    "import numpy as np\n",
    "print(np.dot(embedding1,embedding2))\n",
    "print(np.dot(embedding2,embedding3))\n",
    "print(np.dot(embedding1,embedding3))"
   ]
  },
  {
   "cell_type": "code",
   "execution_count": 6,
   "id": "d70596f8",
   "metadata": {},
   "outputs": [
    {
     "name": "stdout",
     "output_type": "stream",
     "text": [
      "Defaulting to user installation because normal site-packages is not writeable\n",
      "Requirement already satisfied: chromadb in /Users/mbj0593/Library/Python/3.9/lib/python/site-packages (0.3.22)\n",
      "Requirement already satisfied: pandas>=1.3 in /Users/mbj0593/Library/Python/3.9/lib/python/site-packages (from chromadb) (1.5.3)\n",
      "Requirement already satisfied: requests>=2.28 in /Users/mbj0593/Library/Python/3.9/lib/python/site-packages (from chromadb) (2.30.0)\n",
      "Requirement already satisfied: pydantic>=1.9 in /Users/mbj0593/Library/Python/3.9/lib/python/site-packages (from chromadb) (1.10.7)\n",
      "Requirement already satisfied: hnswlib>=0.7 in /Users/mbj0593/Library/Python/3.9/lib/python/site-packages (from chromadb) (0.7.0)\n",
      "Requirement already satisfied: clickhouse-connect>=0.5.7 in /Users/mbj0593/Library/Python/3.9/lib/python/site-packages (from chromadb) (0.5.24)\n",
      "Requirement already satisfied: sentence-transformers>=2.2.2 in /Users/mbj0593/Library/Python/3.9/lib/python/site-packages (from chromadb) (2.2.2)\n",
      "Requirement already satisfied: duckdb>=0.7.1 in /Users/mbj0593/Library/Python/3.9/lib/python/site-packages (from chromadb) (0.7.1)\n",
      "Requirement already satisfied: fastapi>=0.85.1 in /Users/mbj0593/Library/Python/3.9/lib/python/site-packages (from chromadb) (0.95.1)\n",
      "Requirement already satisfied: uvicorn[standard]>=0.18.3 in /Users/mbj0593/Library/Python/3.9/lib/python/site-packages (from chromadb) (0.22.0)\n",
      "Requirement already satisfied: numpy>=1.21.6 in /Users/mbj0593/Library/Python/3.9/lib/python/site-packages (from chromadb) (1.23.5)\n",
      "Requirement already satisfied: posthog>=2.4.0 in /Users/mbj0593/Library/Python/3.9/lib/python/site-packages (from chromadb) (3.0.1)\n",
      "Requirement already satisfied: typing-extensions>=4.5.0 in /Users/mbj0593/Library/Python/3.9/lib/python/site-packages (from chromadb) (4.5.0)\n",
      "Requirement already satisfied: certifi in /Users/mbj0593/Library/Python/3.9/lib/python/site-packages (from clickhouse-connect>=0.5.7->chromadb) (2023.5.7)\n",
      "Requirement already satisfied: urllib3>=1.26 in /Users/mbj0593/Library/Python/3.9/lib/python/site-packages (from clickhouse-connect>=0.5.7->chromadb) (1.26.6)\n",
      "Requirement already satisfied: pytz in /Users/mbj0593/Library/Python/3.9/lib/python/site-packages (from clickhouse-connect>=0.5.7->chromadb) (2023.3)\n",
      "Requirement already satisfied: zstandard in /Users/mbj0593/Library/Python/3.9/lib/python/site-packages (from clickhouse-connect>=0.5.7->chromadb) (0.21.0)\n",
      "Requirement already satisfied: lz4 in /Users/mbj0593/Library/Python/3.9/lib/python/site-packages (from clickhouse-connect>=0.5.7->chromadb) (4.3.2)\n",
      "Requirement already satisfied: starlette<0.27.0,>=0.26.1 in /Users/mbj0593/Library/Python/3.9/lib/python/site-packages (from fastapi>=0.85.1->chromadb) (0.26.1)\n",
      "Requirement already satisfied: python-dateutil>=2.8.1 in /Users/mbj0593/Library/Python/3.9/lib/python/site-packages (from pandas>=1.3->chromadb) (2.8.2)\n",
      "Requirement already satisfied: six>=1.5 in /Library/Developer/CommandLineTools/Library/Frameworks/Python3.framework/Versions/3.9/lib/python3.9/site-packages (from posthog>=2.4.0->chromadb) (1.15.0)\n",
      "Requirement already satisfied: monotonic>=1.5 in /Users/mbj0593/Library/Python/3.9/lib/python/site-packages (from posthog>=2.4.0->chromadb) (1.6)\n",
      "Requirement already satisfied: backoff>=1.10.0 in /Users/mbj0593/Library/Python/3.9/lib/python/site-packages (from posthog>=2.4.0->chromadb) (2.2.1)\n",
      "Requirement already satisfied: charset-normalizer<4,>=2 in /Users/mbj0593/Library/Python/3.9/lib/python/site-packages (from requests>=2.28->chromadb) (3.1.0)\n",
      "Requirement already satisfied: idna<4,>=2.5 in /Users/mbj0593/Library/Python/3.9/lib/python/site-packages (from requests>=2.28->chromadb) (3.4)\n",
      "Requirement already satisfied: transformers<5.0.0,>=4.6.0 in /Users/mbj0593/Library/Python/3.9/lib/python/site-packages (from sentence-transformers>=2.2.2->chromadb) (4.29.1)\n",
      "Requirement already satisfied: tqdm in /Users/mbj0593/Library/Python/3.9/lib/python/site-packages (from sentence-transformers>=2.2.2->chromadb) (4.65.0)\n",
      "Requirement already satisfied: torch>=1.6.0 in /Users/mbj0593/Library/Python/3.9/lib/python/site-packages (from sentence-transformers>=2.2.2->chromadb) (2.0.1)\n",
      "Requirement already satisfied: torchvision in /Users/mbj0593/Library/Python/3.9/lib/python/site-packages (from sentence-transformers>=2.2.2->chromadb) (0.15.2)\n",
      "Requirement already satisfied: scikit-learn in /Users/mbj0593/Library/Python/3.9/lib/python/site-packages (from sentence-transformers>=2.2.2->chromadb) (1.2.2)\n",
      "Requirement already satisfied: scipy in /Users/mbj0593/Library/Python/3.9/lib/python/site-packages (from sentence-transformers>=2.2.2->chromadb) (1.10.1)\n",
      "Requirement already satisfied: nltk in /Users/mbj0593/Library/Python/3.9/lib/python/site-packages (from sentence-transformers>=2.2.2->chromadb) (3.8.1)\n",
      "Requirement already satisfied: sentencepiece in /Users/mbj0593/Library/Python/3.9/lib/python/site-packages (from sentence-transformers>=2.2.2->chromadb) (0.1.99)\n",
      "Requirement already satisfied: huggingface-hub>=0.4.0 in /Users/mbj0593/Library/Python/3.9/lib/python/site-packages (from sentence-transformers>=2.2.2->chromadb) (0.14.1)\n",
      "Requirement already satisfied: click>=7.0 in /Users/mbj0593/Library/Python/3.9/lib/python/site-packages (from uvicorn[standard]>=0.18.3->chromadb) (8.1.3)\n",
      "Requirement already satisfied: h11>=0.8 in /Users/mbj0593/Library/Python/3.9/lib/python/site-packages (from uvicorn[standard]>=0.18.3->chromadb) (0.14.0)\n",
      "Requirement already satisfied: httptools>=0.5.0 in /Users/mbj0593/Library/Python/3.9/lib/python/site-packages (from uvicorn[standard]>=0.18.3->chromadb) (0.5.0)\n",
      "Requirement already satisfied: python-dotenv>=0.13 in /Users/mbj0593/Library/Python/3.9/lib/python/site-packages (from uvicorn[standard]>=0.18.3->chromadb) (1.0.0)\n",
      "Requirement already satisfied: pyyaml>=5.1 in /Users/mbj0593/Library/Python/3.9/lib/python/site-packages (from uvicorn[standard]>=0.18.3->chromadb) (6.0)\n",
      "Requirement already satisfied: uvloop!=0.15.0,!=0.15.1,>=0.14.0 in /Users/mbj0593/Library/Python/3.9/lib/python/site-packages (from uvicorn[standard]>=0.18.3->chromadb) (0.17.0)\n",
      "Requirement already satisfied: watchfiles>=0.13 in /Users/mbj0593/Library/Python/3.9/lib/python/site-packages (from uvicorn[standard]>=0.18.3->chromadb) (0.19.0)\n",
      "Requirement already satisfied: websockets>=10.4 in /Users/mbj0593/Library/Python/3.9/lib/python/site-packages (from uvicorn[standard]>=0.18.3->chromadb) (11.0.3)\n",
      "Requirement already satisfied: filelock in /Users/mbj0593/Library/Python/3.9/lib/python/site-packages (from huggingface-hub>=0.4.0->sentence-transformers>=2.2.2->chromadb) (3.12.0)\n",
      "Requirement already satisfied: fsspec in /Users/mbj0593/Library/Python/3.9/lib/python/site-packages (from huggingface-hub>=0.4.0->sentence-transformers>=2.2.2->chromadb) (2023.5.0)\n",
      "Requirement already satisfied: packaging>=20.9 in /Users/mbj0593/Library/Python/3.9/lib/python/site-packages (from huggingface-hub>=0.4.0->sentence-transformers>=2.2.2->chromadb) (23.1)\n",
      "Requirement already satisfied: anyio<5,>=3.4.0 in /Users/mbj0593/Library/Python/3.9/lib/python/site-packages (from starlette<0.27.0,>=0.26.1->fastapi>=0.85.1->chromadb) (3.6.2)\n",
      "Requirement already satisfied: sympy in /Users/mbj0593/Library/Python/3.9/lib/python/site-packages (from torch>=1.6.0->sentence-transformers>=2.2.2->chromadb) (1.12)\n",
      "Requirement already satisfied: networkx in /Users/mbj0593/Library/Python/3.9/lib/python/site-packages (from torch>=1.6.0->sentence-transformers>=2.2.2->chromadb) (3.1)\n",
      "Requirement already satisfied: jinja2 in /Users/mbj0593/Library/Python/3.9/lib/python/site-packages (from torch>=1.6.0->sentence-transformers>=2.2.2->chromadb) (3.1.2)\n",
      "Requirement already satisfied: regex!=2019.12.17 in /Users/mbj0593/Library/Python/3.9/lib/python/site-packages (from transformers<5.0.0,>=4.6.0->sentence-transformers>=2.2.2->chromadb) (2023.5.5)\n",
      "Requirement already satisfied: tokenizers!=0.11.3,<0.14,>=0.11.1 in /Users/mbj0593/Library/Python/3.9/lib/python/site-packages (from transformers<5.0.0,>=4.6.0->sentence-transformers>=2.2.2->chromadb) (0.13.3)\n",
      "Requirement already satisfied: joblib in /Users/mbj0593/Library/Python/3.9/lib/python/site-packages (from nltk->sentence-transformers>=2.2.2->chromadb) (1.2.0)\n",
      "Requirement already satisfied: threadpoolctl>=2.0.0 in /Users/mbj0593/Library/Python/3.9/lib/python/site-packages (from scikit-learn->sentence-transformers>=2.2.2->chromadb) (3.1.0)\n",
      "Requirement already satisfied: pillow!=8.3.*,>=5.3.0 in /Users/mbj0593/Library/Python/3.9/lib/python/site-packages (from torchvision->sentence-transformers>=2.2.2->chromadb) (9.5.0)\n"
     ]
    },
    {
     "name": "stdout",
     "output_type": "stream",
     "text": [
      "Requirement already satisfied: sniffio>=1.1 in /Users/mbj0593/Library/Python/3.9/lib/python/site-packages (from anyio<5,>=3.4.0->starlette<0.27.0,>=0.26.1->fastapi>=0.85.1->chromadb) (1.3.0)\n",
      "Requirement already satisfied: MarkupSafe>=2.0 in /Users/mbj0593/Library/Python/3.9/lib/python/site-packages (from jinja2->torch>=1.6.0->sentence-transformers>=2.2.2->chromadb) (2.1.2)\n",
      "Requirement already satisfied: mpmath>=0.19 in /Users/mbj0593/Library/Python/3.9/lib/python/site-packages (from sympy->torch>=1.6.0->sentence-transformers>=2.2.2->chromadb) (1.3.0)\n",
      "\n",
      "\u001b[1m[\u001b[0m\u001b[34;49mnotice\u001b[0m\u001b[1;39;49m]\u001b[0m\u001b[39;49m A new release of pip is available: \u001b[0m\u001b[31;49m23.1.2\u001b[0m\u001b[39;49m -> \u001b[0m\u001b[32;49m23.2.1\u001b[0m\n",
      "\u001b[1m[\u001b[0m\u001b[34;49mnotice\u001b[0m\u001b[1;39;49m]\u001b[0m\u001b[39;49m To update, run: \u001b[0m\u001b[32;49m/Library/Developer/CommandLineTools/usr/bin/python3 -m pip install --upgrade pip\u001b[0m\n"
     ]
    }
   ],
   "source": [
    "!pip install chromadb"
   ]
  },
  {
   "cell_type": "code",
   "execution_count": 18,
   "id": "3dcb8818",
   "metadata": {},
   "outputs": [],
   "source": [
    "def split_file_into_chunks(file_path, chunk_size):\n",
    "    chunks = []\n",
    "    with open(file_path, 'r') as file:\n",
    "        while True:\n",
    "            chunk = file.read(chunk_size)\n",
    "            if not chunk:\n",
    "                break\n",
    "            chunks.append(chunk)\n",
    "    return chunks"
   ]
  },
  {
   "cell_type": "code",
   "execution_count": 19,
   "id": "f740d740",
   "metadata": {},
   "outputs": [
    {
     "data": {
      "text/plain": [
       "['SpotMax\\n打破成本约束，释放云端创造力\\n\\n构建大规模云端系统的挑战\\n云计算平台“按需获取”的特性使得用户可以随时获取所需计算资源，实现计算资源与业务规模的动态匹配。云计算时代计算资源已不再是构建',\n",
       " '大规模系统的瓶颈，多数情况下成本成为了企业在构建大规模应用时的最大挑战。\\n\\n什么是 SpotMax?\\nSpotMax是一个利用弹性计算资源进行云端系统成本优化的体系（包括相关产品及解决方案）。Spot',\n",
       " 'Max旨在帮助用户使用云平台提供的弹性资源（如：AWS Spot Instance）在保证系统可用性，甚至获得更高可用性的前提下，实现成本的最大化节省。SpotMax来自于Mobvista降低成本的成',\n",
       " '功实践。\\nSpotMax由以下三个部分组成：\\nMaxArch：构建高可用性，高弹性（Resilient）架构，可以允许系统在不影响业务的前提下更充分的使用具有成本优势的高弹性计算资源（Spot Ins',\n",
       " 'tance）。\\nMaxChaos：利用混沌工程可以有效的评估系统的容错能力，其评估结果将成为MaxGroup自动规划合理弹性集群的依据。实现MaxArch的持续改进及评估。\\nMaxGroup：根据服务',\n",
       " '工作模式和运行特征，优化主机群集。智能弹性集群管理可以有效减少弹性计算资源波动（如：竞价实例的中断）带来的集群服务能力变化。并在面向成本优化构建的混合机型集群最大发挥集群不同机型的服务能力\\n以上各部分',\n",
       " '将以咨询服务和软件产品的形式提供。\\nMaxGroup 核心功能\\nMaxGroup可以根据服务的工作模式和运行时特征，对主机集群的组成提出优化建议（如预留实例、按需实例与Spot型实例的比率，Spot实',\n",
       " '例池等），并估算出此优化节省的成本。\\n用户确认优化集群方案后，自动实现新集群的构建或原有集群的构成的直接优化(安全替换现有集群的运行实例)。\\n通过对集群中Spot instance中断的预先补偿, 降',\n",
       " '低中断带来的服务器容量变化带来的服务能力影响，实现服务及数据的提前迁移。\\nMaxGroup将根据现货价格和终止率的变化持续优化集群结构。 \\n支持智能的动态负载均衡，由于集群为多机型混合，不同机型的处理',\n",
       " '能力有差异，智能的动态负载均衡将实现按处理能力的负载分配，实现集群资源利用的最大化。\\nMaxGroup可以根据工作负载变化模式（缓慢变化或急剧变化）和业务需求为系统自动伸缩选择合适的实例类型。 \\nMa',\n",
       " 'xGroup可以与Kubernetes和Consul无缝集成。实现容器环境下的中断预补偿机制。']"
      ]
     },
     "execution_count": 19,
     "metadata": {},
     "output_type": "execute_result"
    }
   ],
   "source": [
    "split_file_into_chunks(\"spotmax_intro.txt\",100)"
   ]
  },
  {
   "cell_type": "code",
   "execution_count": 20,
   "id": "7a6a6975",
   "metadata": {},
   "outputs": [],
   "source": [
    "from langchain.embeddings.openai import OpenAIEmbeddings\n",
    "\n",
    "def embed(chunks): \n",
    "    embedding = OpenAIEmbeddings(deployment=\"embedding\",chunk_size=1)\n",
    "    return [embedding.embed_query(chunk) for chunk in chunks]\n",
    "        "
   ]
  },
  {
   "cell_type": "code",
   "execution_count": 22,
   "id": "658b181e",
   "metadata": {},
   "outputs": [],
   "source": [
    "chunks = split_file_into_chunks(\"spotmax_intro.txt\",100)\n",
    "embeddeds = embed(chunks)"
   ]
  },
  {
   "cell_type": "code",
   "execution_count": 28,
   "id": "56acdb05",
   "metadata": {},
   "outputs": [],
   "source": [
    "def find_k_largest_indices(input_list, k):\n",
    "    sorted_indices = sorted(range(len(input_list)), key=lambda i: input_list[i], reverse=True)\n",
    "    return sorted_indices[:k]\n",
    "\n",
    "def search(chunks,embeddeds,top_k, txt):\n",
    "    embedding = OpenAIEmbeddings(deployment=\"embedding\",chunk_size=1)\n",
    "    embedded_txt = embedding.embed_query(txt)\n",
    "    distances = [np.dot(embedded_txt,embedded) for embedded in embeddeds]\n",
    "    ret_idx = find_k_largest_indices(distances, top_k)\n",
    "    return [chunks[i] for i in ret_idx]"
   ]
  },
  {
   "cell_type": "code",
   "execution_count": 29,
   "id": "70df3d2b",
   "metadata": {},
   "outputs": [
    {
     "data": {
      "text/plain": [
       "['工作模式和运行特征，优化主机群集。智能弹性集群管理可以有效减少弹性计算资源波动（如：竞价实例的中断）带来的集群服务能力变化。并在面向成本优化构建的混合机型集群最大发挥集群不同机型的服务能力\\n以上各部分',\n",
       " '功实践。\\nSpotMax由以下三个部分组成：\\nMaxArch：构建高可用性，高弹性（Resilient）架构，可以允许系统在不影响业务的前提下更充分的使用具有成本优势的高弹性计算资源（Spot Ins']"
      ]
     },
     "execution_count": 29,
     "metadata": {},
     "output_type": "execute_result"
    }
   ],
   "source": [
    "search(chunks,embeddeds,2, \"提高系统可用性\")"
   ]
  },
  {
   "cell_type": "code",
   "execution_count": 30,
   "id": "80e851b3",
   "metadata": {},
   "outputs": [
    {
     "data": {
      "text/plain": [
       "['SpotMax\\n打破成本约束，释放云端创造力\\n\\n构建大规模云端系统的挑战\\n云计算平台“按需获取”的特性使得用户可以随时获取所需计算资源，实现计算资源与业务规模的动态匹配。云计算时代计算资源已不再是构建',\n",
       " '大规模系统的瓶颈，多数情况下成本成为了企业在构建大规模应用时的最大挑战。\\n\\n什么是 SpotMax?\\nSpotMax是一个利用弹性计算资源进行云端系统成本优化的体系（包括相关产品及解决方案）。Spot']"
      ]
     },
     "execution_count": 30,
     "metadata": {},
     "output_type": "execute_result"
    }
   ],
   "source": [
    "search(chunks,embeddeds,2, \"省钱\")"
   ]
  },
  {
   "cell_type": "code",
   "execution_count": 31,
   "id": "487a8d07",
   "metadata": {},
   "outputs": [
    {
     "data": {
      "text/plain": [
       "['能力有差异，智能的动态负载均衡将实现按处理能力的负载分配，实现集群资源利用的最大化。\\nMaxGroup可以根据工作负载变化模式（缓慢变化或急剧变化）和业务需求为系统自动伸缩选择合适的实例类型。 \\nMa',\n",
       " '低中断带来的服务器容量变化带来的服务能力影响，实现服务及数据的提前迁移。\\nMaxGroup将根据现货价格和终止率的变化持续优化集群结构。 \\n支持智能的动态负载均衡，由于集群为多机型混合，不同机型的处理']"
      ]
     },
     "execution_count": 31,
     "metadata": {},
     "output_type": "execute_result"
    }
   ],
   "source": [
    "search(chunks,embeddeds,2, \"什么是MaxGroup\")"
   ]
  },
  {
   "cell_type": "code",
   "execution_count": null,
   "id": "c998ff2d",
   "metadata": {},
   "outputs": [],
   "source": []
  }
 ],
 "metadata": {
  "kernelspec": {
   "display_name": "Python 3 (ipykernel)",
   "language": "python",
   "name": "python3"
  },
  "language_info": {
   "codemirror_mode": {
    "name": "ipython",
    "version": 3
   },
   "file_extension": ".py",
   "mimetype": "text/x-python",
   "name": "python",
   "nbconvert_exporter": "python",
   "pygments_lexer": "ipython3",
   "version": "3.9.6"
  }
 },
 "nbformat": 4,
 "nbformat_minor": 5
}
