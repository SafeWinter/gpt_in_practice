{
 "cells": [
  {
   "cell_type": "code",
   "execution_count": 1,
   "id": "13fa1087",
   "metadata": {},
   "outputs": [
    {
     "name": "stdout",
     "output_type": "stream",
     "text": [
      "Defaulting to user installation because normal site-packages is not writeable\n",
      "Requirement already satisfied: openai in /Users/mbj0593/Library/Python/3.9/lib/python/site-packages (0.27.6)\n",
      "Requirement already satisfied: requests>=2.20 in /Users/mbj0593/Library/Python/3.9/lib/python/site-packages (from openai) (2.30.0)\n",
      "Requirement already satisfied: tqdm in /Users/mbj0593/Library/Python/3.9/lib/python/site-packages (from openai) (4.65.0)\n",
      "Requirement already satisfied: aiohttp in /Users/mbj0593/Library/Python/3.9/lib/python/site-packages (from openai) (3.8.4)\n",
      "Requirement already satisfied: charset-normalizer<4,>=2 in /Users/mbj0593/Library/Python/3.9/lib/python/site-packages (from requests>=2.20->openai) (3.1.0)\n",
      "Requirement already satisfied: idna<4,>=2.5 in /Users/mbj0593/Library/Python/3.9/lib/python/site-packages (from requests>=2.20->openai) (3.4)\n",
      "Requirement already satisfied: urllib3<3,>=1.21.1 in /Users/mbj0593/Library/Python/3.9/lib/python/site-packages (from requests>=2.20->openai) (1.26.6)\n",
      "Requirement already satisfied: certifi>=2017.4.17 in /Users/mbj0593/Library/Python/3.9/lib/python/site-packages (from requests>=2.20->openai) (2023.5.7)\n",
      "Requirement already satisfied: attrs>=17.3.0 in /Users/mbj0593/Library/Python/3.9/lib/python/site-packages (from aiohttp->openai) (23.1.0)\n",
      "Requirement already satisfied: multidict<7.0,>=4.5 in /Users/mbj0593/Library/Python/3.9/lib/python/site-packages (from aiohttp->openai) (6.0.4)\n",
      "Requirement already satisfied: async-timeout<5.0,>=4.0.0a3 in /Users/mbj0593/Library/Python/3.9/lib/python/site-packages (from aiohttp->openai) (4.0.2)\n",
      "Requirement already satisfied: yarl<2.0,>=1.0 in /Users/mbj0593/Library/Python/3.9/lib/python/site-packages (from aiohttp->openai) (1.9.2)\n",
      "Requirement already satisfied: frozenlist>=1.1.1 in /Users/mbj0593/Library/Python/3.9/lib/python/site-packages (from aiohttp->openai) (1.3.3)\n",
      "Requirement already satisfied: aiosignal>=1.1.2 in /Users/mbj0593/Library/Python/3.9/lib/python/site-packages (from aiohttp->openai) (1.3.1)\n",
      "\n",
      "\u001b[1m[\u001b[0m\u001b[34;49mnotice\u001b[0m\u001b[1;39;49m]\u001b[0m\u001b[39;49m A new release of pip is available: \u001b[0m\u001b[31;49m23.1.2\u001b[0m\u001b[39;49m -> \u001b[0m\u001b[32;49m23.2.1\u001b[0m\n",
      "\u001b[1m[\u001b[0m\u001b[34;49mnotice\u001b[0m\u001b[1;39;49m]\u001b[0m\u001b[39;49m To update, run: \u001b[0m\u001b[32;49m/Library/Developer/CommandLineTools/usr/bin/python3 -m pip install --upgrade pip\u001b[0m\n"
     ]
    }
   ],
   "source": [
    "!pip install openai "
   ]
  },
  {
   "cell_type": "code",
   "execution_count": 1,
   "id": "d08aa43a",
   "metadata": {},
   "outputs": [],
   "source": [
    "deployment = \"gpt4\"\n",
    "model = \"gpt-4\""
   ]
  },
  {
   "cell_type": "markdown",
   "id": "31f410fa",
   "metadata": {},
   "source": [
    "# Hello GPT"
   ]
  },
  {
   "cell_type": "code",
   "execution_count": 24,
   "id": "5dd7f3da",
   "metadata": {},
   "outputs": [
    {
     "name": "stdout",
     "output_type": "stream",
     "text": [
      "{\n",
      "  \"role\": \"assistant\",\n",
      "  \"content\": \"\\u4f60\\u597d\\uff01\\u6211\\u662fOpenAI\\uff0c\\u6211\\u662f\\u4e00\\u4e2a\\u4eba\\u5de5\\u667a\\u80fd\\u6a21\\u578b\\uff0c\\u7528\\u6765\\u5e2e\\u52a9\\u4eba\\u4eec\\u627e\\u5230\\u4ed6\\u4eec\\u9700\\u8981\\u7684\\u4fe1\\u606f\\u548c\\u7b54\\u6848\\u3002\"\n",
      "}\n",
      "你好！我是OpenAI，我是一个人工智能模型，用来帮助人们找到他们需要的信息和答案。\n"
     ]
    }
   ],
   "source": [
    "import openai\n",
    "\n",
    "response = openai.ChatCompletion.create(\n",
    "    engine=deployment, # engine = \"deployment_name\".\n",
    "    messages=[\n",
    "        {\"role\": \"system\", \"content\": \"你是一个AI助理\"},   \n",
    "        {\"role\": \"user\", \"content\": \"你好！你叫什么名字？\"}\n",
    "    ],\n",
    "    temperature = 1, \n",
    "    max_tokens = 200\n",
    "  )\n",
    "print(response.choices[0].message)\n",
    "print(response.choices[0].message.content)"
   ]
  },
  {
   "cell_type": "markdown",
   "id": "4d9ff976",
   "metadata": {},
   "source": [
    "# Token"
   ]
  },
  {
   "cell_type": "code",
   "execution_count": 13,
   "id": "3b04096b",
   "metadata": {},
   "outputs": [
    {
     "name": "stdout",
     "output_type": "stream",
     "text": [
      "Requirement already satisfied: tiktoken in /Users/mbj0593/anaconda3/lib/python3.11/site-packages (0.4.0)\r\n",
      "Requirement already satisfied: regex>=2022.1.18 in /Users/mbj0593/anaconda3/lib/python3.11/site-packages (from tiktoken) (2022.7.9)\r\n",
      "Requirement already satisfied: requests>=2.26.0 in /Users/mbj0593/anaconda3/lib/python3.11/site-packages (from tiktoken) (2.31.0)\r\n",
      "Requirement already satisfied: charset-normalizer<4,>=2 in /Users/mbj0593/anaconda3/lib/python3.11/site-packages (from requests>=2.26.0->tiktoken) (2.0.4)\r\n",
      "Requirement already satisfied: idna<4,>=2.5 in /Users/mbj0593/anaconda3/lib/python3.11/site-packages (from requests>=2.26.0->tiktoken) (3.4)\r\n",
      "Requirement already satisfied: urllib3<3,>=1.21.1 in /Users/mbj0593/anaconda3/lib/python3.11/site-packages (from requests>=2.26.0->tiktoken) (1.26.16)\r\n",
      "Requirement already satisfied: certifi>=2017.4.17 in /Users/mbj0593/anaconda3/lib/python3.11/site-packages (from requests>=2.26.0->tiktoken) (2023.7.22)\r\n"
     ]
    }
   ],
   "source": [
    "!pip install tiktoken"
   ]
  },
  {
   "cell_type": "code",
   "execution_count": 3,
   "id": "54b967e9",
   "metadata": {},
   "outputs": [
    {
     "name": "stdout",
     "output_type": "stream",
     "text": [
      "chinese:在未来还没有到来的时候，总要有人把它创造出来，那个人应该是我们。 ; 35 tokens\n",
      "\n"
     ]
    }
   ],
   "source": [
    "import openai\n",
    "import tiktoken\n",
    "\n",
    "encoding = tiktoken.encoding_for_model(\"gpt-4\")\n",
    "\n",
    "chinese = \"\"\"在未来还没有到来的时候，总要有人把它创造出来，那个人应该是我们。\"\"\"\n",
    "\n",
    "num_of_tokens_in_chinese = len(encoding.encode(chinese))\n",
    "\n",
    "print(f\"chinese:{chinese} ; {num_of_tokens_in_chinese} tokens\\n\")\n"
   ]
  },
  {
   "cell_type": "code",
   "execution_count": null,
   "id": "ea48fe92",
   "metadata": {},
   "outputs": [],
   "source": []
  }
 ],
 "metadata": {
  "kernelspec": {
   "display_name": "Python 3 (ipykernel)",
   "language": "python",
   "name": "python3"
  },
  "language_info": {
   "codemirror_mode": {
    "name": "ipython",
    "version": 3
   },
   "file_extension": ".py",
   "mimetype": "text/x-python",
   "name": "python",
   "nbconvert_exporter": "python",
   "pygments_lexer": "ipython3",
   "version": "3.11.4"
  }
 },
 "nbformat": 4,
 "nbformat_minor": 5
}
