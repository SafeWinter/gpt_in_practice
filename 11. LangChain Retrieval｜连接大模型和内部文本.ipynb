{
 "cells": [
  {
   "cell_type": "code",
   "execution_count": 1,
   "id": "e0151427",
   "metadata": {},
   "outputs": [],
   "source": [
    "deployment = \"gpt4\"\n",
    "model = \"gpt-4\""
   ]
  },
  {
   "cell_type": "code",
   "execution_count": 2,
   "id": "a2c0e366",
   "metadata": {},
   "outputs": [
    {
     "name": "stdout",
     "output_type": "stream",
     "text": [
      "Defaulting to user installation because normal site-packages is not writeable\n",
      "Requirement already satisfied: chromadb in /Users/mbj0593/Library/Python/3.9/lib/python/site-packages (0.3.22)\n",
      "Requirement already satisfied: pandas>=1.3 in /Users/mbj0593/Library/Python/3.9/lib/python/site-packages (from chromadb) (1.5.3)\n",
      "Requirement already satisfied: requests>=2.28 in /Users/mbj0593/Library/Python/3.9/lib/python/site-packages (from chromadb) (2.30.0)\n",
      "Requirement already satisfied: pydantic>=1.9 in /Users/mbj0593/Library/Python/3.9/lib/python/site-packages (from chromadb) (1.10.7)\n",
      "Requirement already satisfied: hnswlib>=0.7 in /Users/mbj0593/Library/Python/3.9/lib/python/site-packages (from chromadb) (0.7.0)\n",
      "Requirement already satisfied: clickhouse-connect>=0.5.7 in /Users/mbj0593/Library/Python/3.9/lib/python/site-packages (from chromadb) (0.5.24)\n",
      "Requirement already satisfied: sentence-transformers>=2.2.2 in /Users/mbj0593/Library/Python/3.9/lib/python/site-packages (from chromadb) (2.2.2)\n",
      "Requirement already satisfied: duckdb>=0.7.1 in /Users/mbj0593/Library/Python/3.9/lib/python/site-packages (from chromadb) (0.7.1)\n",
      "Requirement already satisfied: fastapi>=0.85.1 in /Users/mbj0593/Library/Python/3.9/lib/python/site-packages (from chromadb) (0.95.1)\n",
      "Requirement already satisfied: uvicorn[standard]>=0.18.3 in /Users/mbj0593/Library/Python/3.9/lib/python/site-packages (from chromadb) (0.22.0)\n",
      "Requirement already satisfied: numpy>=1.21.6 in /Users/mbj0593/Library/Python/3.9/lib/python/site-packages (from chromadb) (1.23.5)\n",
      "Requirement already satisfied: posthog>=2.4.0 in /Users/mbj0593/Library/Python/3.9/lib/python/site-packages (from chromadb) (3.0.1)\n",
      "Requirement already satisfied: typing-extensions>=4.5.0 in /Users/mbj0593/Library/Python/3.9/lib/python/site-packages (from chromadb) (4.5.0)\n",
      "Requirement already satisfied: certifi in /Users/mbj0593/Library/Python/3.9/lib/python/site-packages (from clickhouse-connect>=0.5.7->chromadb) (2023.5.7)\n",
      "Requirement already satisfied: urllib3>=1.26 in /Users/mbj0593/Library/Python/3.9/lib/python/site-packages (from clickhouse-connect>=0.5.7->chromadb) (1.26.6)\n",
      "Requirement already satisfied: pytz in /Users/mbj0593/Library/Python/3.9/lib/python/site-packages (from clickhouse-connect>=0.5.7->chromadb) (2023.3)\n",
      "Requirement already satisfied: zstandard in /Users/mbj0593/Library/Python/3.9/lib/python/site-packages (from clickhouse-connect>=0.5.7->chromadb) (0.21.0)\n",
      "Requirement already satisfied: lz4 in /Users/mbj0593/Library/Python/3.9/lib/python/site-packages (from clickhouse-connect>=0.5.7->chromadb) (4.3.2)\n",
      "Requirement already satisfied: starlette<0.27.0,>=0.26.1 in /Users/mbj0593/Library/Python/3.9/lib/python/site-packages (from fastapi>=0.85.1->chromadb) (0.26.1)\n",
      "Requirement already satisfied: python-dateutil>=2.8.1 in /Users/mbj0593/Library/Python/3.9/lib/python/site-packages (from pandas>=1.3->chromadb) (2.8.2)\n",
      "Requirement already satisfied: six>=1.5 in /Library/Developer/CommandLineTools/Library/Frameworks/Python3.framework/Versions/3.9/lib/python3.9/site-packages (from posthog>=2.4.0->chromadb) (1.15.0)\n",
      "Requirement already satisfied: monotonic>=1.5 in /Users/mbj0593/Library/Python/3.9/lib/python/site-packages (from posthog>=2.4.0->chromadb) (1.6)\n",
      "Requirement already satisfied: backoff>=1.10.0 in /Users/mbj0593/Library/Python/3.9/lib/python/site-packages (from posthog>=2.4.0->chromadb) (2.2.1)\n",
      "Requirement already satisfied: charset-normalizer<4,>=2 in /Users/mbj0593/Library/Python/3.9/lib/python/site-packages (from requests>=2.28->chromadb) (3.1.0)\n",
      "Requirement already satisfied: idna<4,>=2.5 in /Users/mbj0593/Library/Python/3.9/lib/python/site-packages (from requests>=2.28->chromadb) (3.4)\n",
      "Requirement already satisfied: transformers<5.0.0,>=4.6.0 in /Users/mbj0593/Library/Python/3.9/lib/python/site-packages (from sentence-transformers>=2.2.2->chromadb) (4.29.1)\n",
      "Requirement already satisfied: tqdm in /Users/mbj0593/Library/Python/3.9/lib/python/site-packages (from sentence-transformers>=2.2.2->chromadb) (4.65.0)\n",
      "Requirement already satisfied: torch>=1.6.0 in /Users/mbj0593/Library/Python/3.9/lib/python/site-packages (from sentence-transformers>=2.2.2->chromadb) (2.0.1)\n",
      "Requirement already satisfied: torchvision in /Users/mbj0593/Library/Python/3.9/lib/python/site-packages (from sentence-transformers>=2.2.2->chromadb) (0.15.2)\n",
      "Requirement already satisfied: scikit-learn in /Users/mbj0593/Library/Python/3.9/lib/python/site-packages (from sentence-transformers>=2.2.2->chromadb) (1.2.2)\n",
      "Requirement already satisfied: scipy in /Users/mbj0593/Library/Python/3.9/lib/python/site-packages (from sentence-transformers>=2.2.2->chromadb) (1.10.1)\n",
      "Requirement already satisfied: nltk in /Users/mbj0593/Library/Python/3.9/lib/python/site-packages (from sentence-transformers>=2.2.2->chromadb) (3.8.1)\n",
      "Requirement already satisfied: sentencepiece in /Users/mbj0593/Library/Python/3.9/lib/python/site-packages (from sentence-transformers>=2.2.2->chromadb) (0.1.99)\n",
      "Requirement already satisfied: huggingface-hub>=0.4.0 in /Users/mbj0593/Library/Python/3.9/lib/python/site-packages (from sentence-transformers>=2.2.2->chromadb) (0.14.1)\n",
      "Requirement already satisfied: click>=7.0 in /Users/mbj0593/Library/Python/3.9/lib/python/site-packages (from uvicorn[standard]>=0.18.3->chromadb) (8.1.3)\n",
      "Requirement already satisfied: h11>=0.8 in /Users/mbj0593/Library/Python/3.9/lib/python/site-packages (from uvicorn[standard]>=0.18.3->chromadb) (0.14.0)\n",
      "Requirement already satisfied: httptools>=0.5.0 in /Users/mbj0593/Library/Python/3.9/lib/python/site-packages (from uvicorn[standard]>=0.18.3->chromadb) (0.5.0)\n",
      "Requirement already satisfied: python-dotenv>=0.13 in /Users/mbj0593/Library/Python/3.9/lib/python/site-packages (from uvicorn[standard]>=0.18.3->chromadb) (1.0.0)\n",
      "Requirement already satisfied: pyyaml>=5.1 in /Users/mbj0593/Library/Python/3.9/lib/python/site-packages (from uvicorn[standard]>=0.18.3->chromadb) (6.0)\n",
      "Requirement already satisfied: uvloop!=0.15.0,!=0.15.1,>=0.14.0 in /Users/mbj0593/Library/Python/3.9/lib/python/site-packages (from uvicorn[standard]>=0.18.3->chromadb) (0.17.0)\n",
      "Requirement already satisfied: watchfiles>=0.13 in /Users/mbj0593/Library/Python/3.9/lib/python/site-packages (from uvicorn[standard]>=0.18.3->chromadb) (0.19.0)\n",
      "Requirement already satisfied: websockets>=10.4 in /Users/mbj0593/Library/Python/3.9/lib/python/site-packages (from uvicorn[standard]>=0.18.3->chromadb) (11.0.3)\n",
      "Requirement already satisfied: filelock in /Users/mbj0593/Library/Python/3.9/lib/python/site-packages (from huggingface-hub>=0.4.0->sentence-transformers>=2.2.2->chromadb) (3.12.0)\n",
      "Requirement already satisfied: fsspec in /Users/mbj0593/Library/Python/3.9/lib/python/site-packages (from huggingface-hub>=0.4.0->sentence-transformers>=2.2.2->chromadb) (2023.5.0)\n",
      "Requirement already satisfied: packaging>=20.9 in /Users/mbj0593/Library/Python/3.9/lib/python/site-packages (from huggingface-hub>=0.4.0->sentence-transformers>=2.2.2->chromadb) (23.1)\n",
      "Requirement already satisfied: anyio<5,>=3.4.0 in /Users/mbj0593/Library/Python/3.9/lib/python/site-packages (from starlette<0.27.0,>=0.26.1->fastapi>=0.85.1->chromadb) (3.6.2)\n",
      "Requirement already satisfied: sympy in /Users/mbj0593/Library/Python/3.9/lib/python/site-packages (from torch>=1.6.0->sentence-transformers>=2.2.2->chromadb) (1.12)\n",
      "Requirement already satisfied: networkx in /Users/mbj0593/Library/Python/3.9/lib/python/site-packages (from torch>=1.6.0->sentence-transformers>=2.2.2->chromadb) (3.1)\n",
      "Requirement already satisfied: jinja2 in /Users/mbj0593/Library/Python/3.9/lib/python/site-packages (from torch>=1.6.0->sentence-transformers>=2.2.2->chromadb) (3.1.2)\n",
      "Requirement already satisfied: regex!=2019.12.17 in /Users/mbj0593/Library/Python/3.9/lib/python/site-packages (from transformers<5.0.0,>=4.6.0->sentence-transformers>=2.2.2->chromadb) (2023.5.5)\n",
      "Requirement already satisfied: tokenizers!=0.11.3,<0.14,>=0.11.1 in /Users/mbj0593/Library/Python/3.9/lib/python/site-packages (from transformers<5.0.0,>=4.6.0->sentence-transformers>=2.2.2->chromadb) (0.13.3)\n",
      "Requirement already satisfied: joblib in /Users/mbj0593/Library/Python/3.9/lib/python/site-packages (from nltk->sentence-transformers>=2.2.2->chromadb) (1.2.0)\n",
      "Requirement already satisfied: threadpoolctl>=2.0.0 in /Users/mbj0593/Library/Python/3.9/lib/python/site-packages (from scikit-learn->sentence-transformers>=2.2.2->chromadb) (3.1.0)\n"
     ]
    },
    {
     "name": "stdout",
     "output_type": "stream",
     "text": [
      "Requirement already satisfied: pillow!=8.3.*,>=5.3.0 in /Users/mbj0593/Library/Python/3.9/lib/python/site-packages (from torchvision->sentence-transformers>=2.2.2->chromadb) (9.5.0)\n",
      "Requirement already satisfied: sniffio>=1.1 in /Users/mbj0593/Library/Python/3.9/lib/python/site-packages (from anyio<5,>=3.4.0->starlette<0.27.0,>=0.26.1->fastapi>=0.85.1->chromadb) (1.3.0)\n",
      "Requirement already satisfied: MarkupSafe>=2.0 in /Users/mbj0593/Library/Python/3.9/lib/python/site-packages (from jinja2->torch>=1.6.0->sentence-transformers>=2.2.2->chromadb) (2.1.2)\n",
      "Requirement already satisfied: mpmath>=0.19 in /Users/mbj0593/Library/Python/3.9/lib/python/site-packages (from sympy->torch>=1.6.0->sentence-transformers>=2.2.2->chromadb) (1.3.0)\n",
      "\n",
      "\u001b[1m[\u001b[0m\u001b[34;49mnotice\u001b[0m\u001b[1;39;49m]\u001b[0m\u001b[39;49m A new release of pip is available: \u001b[0m\u001b[31;49m23.1.2\u001b[0m\u001b[39;49m -> \u001b[0m\u001b[32;49m23.2.1\u001b[0m\n",
      "\u001b[1m[\u001b[0m\u001b[34;49mnotice\u001b[0m\u001b[1;39;49m]\u001b[0m\u001b[39;49m To update, run: \u001b[0m\u001b[32;49m/Library/Developer/CommandLineTools/usr/bin/python3 -m pip install --upgrade pip\u001b[0m\n"
     ]
    }
   ],
   "source": [
    "!pip install chromadb"
   ]
  },
  {
   "cell_type": "markdown",
   "id": "042564ea",
   "metadata": {},
   "source": [
    "# 加载文档 （Document Loader）"
   ]
  },
  {
   "cell_type": "code",
   "execution_count": 2,
   "id": "8b596ba3",
   "metadata": {},
   "outputs": [],
   "source": [
    "from langchain.document_loaders import DirectoryLoader\n",
    "loader = DirectoryLoader('./', glob=\"spotmax_intro.txt\")\n",
    "docs = loader.load()"
   ]
  },
  {
   "cell_type": "code",
   "execution_count": 22,
   "id": "d651fca8",
   "metadata": {},
   "outputs": [
    {
     "name": "stdout",
     "output_type": "stream",
     "text": [
      "Defaulting to user installation because normal site-packages is not writeable\n",
      "Requirement already satisfied: pypdf in /Users/mbj0593/Library/Python/3.9/lib/python/site-packages (3.14.0)\n",
      "Requirement already satisfied: typing_extensions>=3.10.0.0 in /Users/mbj0593/Library/Python/3.9/lib/python/site-packages (from pypdf) (4.5.0)\n",
      "\n",
      "\u001b[1m[\u001b[0m\u001b[34;49mnotice\u001b[0m\u001b[1;39;49m]\u001b[0m\u001b[39;49m A new release of pip is available: \u001b[0m\u001b[31;49m23.1.2\u001b[0m\u001b[39;49m -> \u001b[0m\u001b[32;49m23.2.1\u001b[0m\n",
      "\u001b[1m[\u001b[0m\u001b[34;49mnotice\u001b[0m\u001b[1;39;49m]\u001b[0m\u001b[39;49m To update, run: \u001b[0m\u001b[32;49m/Library/Developer/CommandLineTools/usr/bin/python3 -m pip install --upgrade pip\u001b[0m\n"
     ]
    }
   ],
   "source": [
    "!pip install pypdf"
   ]
  },
  {
   "cell_type": "code",
   "execution_count": 3,
   "id": "250281c4",
   "metadata": {},
   "outputs": [],
   "source": [
    "from langchain.document_loaders import PyPDFLoader\n",
    "\n",
    "loader = PyPDFLoader(\"Spotmax_intro_cn_2020.pdf\")\n",
    "docs = loader.load()"
   ]
  },
  {
   "cell_type": "markdown",
   "id": "f7efce11",
   "metadata": {},
   "source": [
    "# 切割文档\n",
    "这个文本分割器是通用文本的推荐分割器。它由一个字符列表参数化。它会按顺序尝试在这些字符上进行分割，直到分块足够小。默认列表是[\"\\n\\n\", \"\\n\", \" \", “\"]。这样做的效果是尽可能地保持所有段落（然后是句子，然后是单词）在一起。"
   ]
  },
  {
   "cell_type": "code",
   "execution_count": 4,
   "id": "c3ffc86b",
   "metadata": {},
   "outputs": [],
   "source": [
    "from langchain.text_splitter import RecursiveCharacterTextSplitter\n",
    "text_splitter = RecursiveCharacterTextSplitter(\n",
    "    chunk_size = 200,\n",
    "    chunk_overlap = 50\n",
    ")"
   ]
  },
  {
   "cell_type": "code",
   "execution_count": 5,
   "id": "4ea0099e",
   "metadata": {},
   "outputs": [],
   "source": [
    "splits = text_splitter.split_documents(docs)"
   ]
  },
  {
   "cell_type": "code",
   "execution_count": 6,
   "id": "b86b82b3",
   "metadata": {},
   "outputs": [],
   "source": [
    "persist_directory = 'data/'\n",
    "!rm -rf ./data  "
   ]
  },
  {
   "cell_type": "markdown",
   "id": "16d58945",
   "metadata": {},
   "source": [
    "# 将数据存入向量数据库"
   ]
  },
  {
   "cell_type": "code",
   "execution_count": 7,
   "id": "bbe56e8a",
   "metadata": {},
   "outputs": [
    {
     "name": "stderr",
     "output_type": "stream",
     "text": [
      "Using embedded DuckDB with persistence: data will be stored in: data/\n"
     ]
    }
   ],
   "source": [
    "from langchain.embeddings.openai import OpenAIEmbeddings\n",
    "from langchain.vectorstores import Chroma\n",
    "embedding = OpenAIEmbeddings(deployment=\"embedding\",chunk_size=1)\n",
    "vectordb = Chroma.from_documents(\n",
    "    documents=splits,\n",
    "    embedding=embedding,\n",
    "    persist_directory=persist_directory\n",
    ")"
   ]
  },
  {
   "cell_type": "code",
   "execution_count": 8,
   "id": "085d90ce",
   "metadata": {},
   "outputs": [],
   "source": [
    "docs = vectordb.similarity_search(\"如何提高可用性\",k=2)"
   ]
  },
  {
   "cell_type": "code",
   "execution_count": 9,
   "id": "50363a78",
   "metadata": {},
   "outputs": [
    {
     "data": {
      "text/plain": [
       "Document(page_content='MaxGroup：根据服务⼯作模式和运⾏特征，优化主机群集。智能弹性集群管理可以有效减少弹性计算资源波动（如：竞价实例的中断）带来的集群服务能⼒变化。并在⾯向成本优化构建的混合机型集群最⼤发挥集群不同机型的服务能⼒ 以上各部分将以咨询服务和软件产品的形式提供。', metadata={'source': 'Spotmax_intro_cn_2020.pdf', 'page': 0})"
      ]
     },
     "execution_count": 9,
     "metadata": {},
     "output_type": "execute_result"
    }
   ],
   "source": [
    "docs[0]"
   ]
  },
  {
   "cell_type": "markdown",
   "id": "b6cf975a",
   "metadata": {},
   "source": [
    "# 利用向量数据库进行QA\n",
    "\n",
    "https://github.com/langchain-ai/langchain/blob/master/libs/langchain/langchain/chains/retrieval_qa/prompt.py"
   ]
  },
  {
   "cell_type": "code",
   "execution_count": 10,
   "id": "4c63279f",
   "metadata": {},
   "outputs": [],
   "source": [
    "from langchain.chains import RetrievalQA\n",
    "from langchain.chat_models import AzureChatOpenAI\n",
    "\n",
    "llm = AzureChatOpenAI(deployment_name = deployment, model_name=model, temperature=0, max_tokens=200)\n",
    "qa = RetrievalQA.from_chain_type(llm=llm, chain_type=\"map_reduce\", retriever=vectordb.as_retriever(),return_source_documents=False)\n",
    "\n"
   ]
  },
  {
   "cell_type": "code",
   "execution_count": 11,
   "id": "eb024f75",
   "metadata": {},
   "outputs": [
    {
     "data": {
      "text/plain": [
       "'SpotMax是一个利用弹性计算资源进行云端系统成本优化的体系（包括相关产品及解决方案）。SpotMax旨在帮助用户使用云平台提供的弹性资源（如：AWS Spot Instance）在保证系统可用性，甚至获得更高可用性的前提下，实现成本的最大化节省。SpotMax来自于Mobvista降低成本的成功实践。'"
      ]
     },
     "execution_count": 11,
     "metadata": {},
     "output_type": "execute_result"
    }
   ],
   "source": [
    "result = qa({\"query\": \"什么是SpotMax\"})\n",
    "result[\"result\"]\n"
   ]
  },
  {
   "cell_type": "code",
   "execution_count": null,
   "id": "ca5c2d35",
   "metadata": {},
   "outputs": [],
   "source": []
  }
 ],
 "metadata": {
  "kernelspec": {
   "display_name": "Python 3 (ipykernel)",
   "language": "python",
   "name": "python3"
  },
  "language_info": {
   "codemirror_mode": {
    "name": "ipython",
    "version": 3
   },
   "file_extension": ".py",
   "mimetype": "text/x-python",
   "name": "python",
   "nbconvert_exporter": "python",
   "pygments_lexer": "ipython3",
   "version": "3.9.6"
  }
 },
 "nbformat": 4,
 "nbformat_minor": 5
}
